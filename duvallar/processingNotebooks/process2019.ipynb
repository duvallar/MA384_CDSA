{
 "cells": [
  {
   "cell_type": "code",
   "execution_count": 4,
   "metadata": {},
   "outputs": [
    {
     "data": {
      "text/html": [
       "<div>\n",
       "<style scoped>\n",
       "    .dataframe tbody tr th:only-of-type {\n",
       "        vertical-align: middle;\n",
       "    }\n",
       "\n",
       "    .dataframe tbody tr th {\n",
       "        vertical-align: top;\n",
       "    }\n",
       "\n",
       "    .dataframe thead th {\n",
       "        text-align: right;\n",
       "    }\n",
       "</style>\n",
       "<table border=\"1\" class=\"dataframe\">\n",
       "  <thead>\n",
       "    <tr style=\"text-align: right;\">\n",
       "      <th></th>\n",
       "      <th>GENHLTH</th>\n",
       "      <th>INCOME2</th>\n",
       "      <th>CVDSTRK3</th>\n",
       "      <th>_FRTLT1A</th>\n",
       "      <th>_RFDRHV7</th>\n",
       "      <th>_BMI5</th>\n",
       "      <th>_CHOLCH2</th>\n",
       "      <th>PHYSHLTH</th>\n",
       "      <th>TOLDHI2</th>\n",
       "      <th>MEDCOST</th>\n",
       "      <th>...</th>\n",
       "      <th>_VEGLT1A</th>\n",
       "      <th>HLTHPLN1</th>\n",
       "      <th>_MICHD</th>\n",
       "      <th>MENTHLTH</th>\n",
       "      <th>_RFHYPE5</th>\n",
       "      <th>_AGEG5YR</th>\n",
       "      <th>DIABETE4</th>\n",
       "      <th>SEXVAR</th>\n",
       "      <th>_TOTINDA</th>\n",
       "      <th>DIFFWALK</th>\n",
       "    </tr>\n",
       "  </thead>\n",
       "  <tbody>\n",
       "    <tr>\n",
       "      <th>0</th>\n",
       "      <td>3.0</td>\n",
       "      <td>3.0</td>\n",
       "      <td>2.0</td>\n",
       "      <td>1.0</td>\n",
       "      <td>1.0</td>\n",
       "      <td>2817.0</td>\n",
       "      <td>1.0</td>\n",
       "      <td>15.0</td>\n",
       "      <td>1.0</td>\n",
       "      <td>2.0</td>\n",
       "      <td>...</td>\n",
       "      <td>1.0</td>\n",
       "      <td>1.0</td>\n",
       "      <td>2.0</td>\n",
       "      <td>88.0</td>\n",
       "      <td>2.0</td>\n",
       "      <td>13.0</td>\n",
       "      <td>3.0</td>\n",
       "      <td>2.0</td>\n",
       "      <td>2.0</td>\n",
       "      <td>1.0</td>\n",
       "    </tr>\n",
       "    <tr>\n",
       "      <th>1</th>\n",
       "      <td>4.0</td>\n",
       "      <td>5.0</td>\n",
       "      <td>2.0</td>\n",
       "      <td>1.0</td>\n",
       "      <td>1.0</td>\n",
       "      <td>1854.0</td>\n",
       "      <td>1.0</td>\n",
       "      <td>10.0</td>\n",
       "      <td>2.0</td>\n",
       "      <td>2.0</td>\n",
       "      <td>...</td>\n",
       "      <td>1.0</td>\n",
       "      <td>1.0</td>\n",
       "      <td>2.0</td>\n",
       "      <td>88.0</td>\n",
       "      <td>1.0</td>\n",
       "      <td>11.0</td>\n",
       "      <td>3.0</td>\n",
       "      <td>2.0</td>\n",
       "      <td>1.0</td>\n",
       "      <td>2.0</td>\n",
       "    </tr>\n",
       "    <tr>\n",
       "      <th>2</th>\n",
       "      <td>3.0</td>\n",
       "      <td>7.0</td>\n",
       "      <td>2.0</td>\n",
       "      <td>1.0</td>\n",
       "      <td>1.0</td>\n",
       "      <td>3162.0</td>\n",
       "      <td>1.0</td>\n",
       "      <td>88.0</td>\n",
       "      <td>2.0</td>\n",
       "      <td>2.0</td>\n",
       "      <td>...</td>\n",
       "      <td>1.0</td>\n",
       "      <td>1.0</td>\n",
       "      <td>2.0</td>\n",
       "      <td>30.0</td>\n",
       "      <td>2.0</td>\n",
       "      <td>10.0</td>\n",
       "      <td>1.0</td>\n",
       "      <td>2.0</td>\n",
       "      <td>1.0</td>\n",
       "      <td>1.0</td>\n",
       "    </tr>\n",
       "    <tr>\n",
       "      <th>3</th>\n",
       "      <td>4.0</td>\n",
       "      <td>6.0</td>\n",
       "      <td>2.0</td>\n",
       "      <td>9.0</td>\n",
       "      <td>9.0</td>\n",
       "      <td>2030.0</td>\n",
       "      <td>1.0</td>\n",
       "      <td>30.0</td>\n",
       "      <td>2.0</td>\n",
       "      <td>2.0</td>\n",
       "      <td>...</td>\n",
       "      <td>9.0</td>\n",
       "      <td>1.0</td>\n",
       "      <td>2.0</td>\n",
       "      <td>88.0</td>\n",
       "      <td>2.0</td>\n",
       "      <td>13.0</td>\n",
       "      <td>3.0</td>\n",
       "      <td>2.0</td>\n",
       "      <td>9.0</td>\n",
       "      <td>NaN</td>\n",
       "    </tr>\n",
       "    <tr>\n",
       "      <th>4</th>\n",
       "      <td>2.0</td>\n",
       "      <td>99.0</td>\n",
       "      <td>2.0</td>\n",
       "      <td>1.0</td>\n",
       "      <td>1.0</td>\n",
       "      <td>2148.0</td>\n",
       "      <td>1.0</td>\n",
       "      <td>88.0</td>\n",
       "      <td>1.0</td>\n",
       "      <td>2.0</td>\n",
       "      <td>...</td>\n",
       "      <td>1.0</td>\n",
       "      <td>1.0</td>\n",
       "      <td>2.0</td>\n",
       "      <td>88.0</td>\n",
       "      <td>1.0</td>\n",
       "      <td>13.0</td>\n",
       "      <td>3.0</td>\n",
       "      <td>2.0</td>\n",
       "      <td>2.0</td>\n",
       "      <td>2.0</td>\n",
       "    </tr>\n",
       "    <tr>\n",
       "      <th>...</th>\n",
       "      <td>...</td>\n",
       "      <td>...</td>\n",
       "      <td>...</td>\n",
       "      <td>...</td>\n",
       "      <td>...</td>\n",
       "      <td>...</td>\n",
       "      <td>...</td>\n",
       "      <td>...</td>\n",
       "      <td>...</td>\n",
       "      <td>...</td>\n",
       "      <td>...</td>\n",
       "      <td>...</td>\n",
       "      <td>...</td>\n",
       "      <td>...</td>\n",
       "      <td>...</td>\n",
       "      <td>...</td>\n",
       "      <td>...</td>\n",
       "      <td>...</td>\n",
       "      <td>...</td>\n",
       "      <td>...</td>\n",
       "      <td>...</td>\n",
       "    </tr>\n",
       "    <tr>\n",
       "      <th>418263</th>\n",
       "      <td>3.0</td>\n",
       "      <td>1.0</td>\n",
       "      <td>2.0</td>\n",
       "      <td>1.0</td>\n",
       "      <td>1.0</td>\n",
       "      <td>2717.0</td>\n",
       "      <td>1.0</td>\n",
       "      <td>88.0</td>\n",
       "      <td>2.0</td>\n",
       "      <td>2.0</td>\n",
       "      <td>...</td>\n",
       "      <td>2.0</td>\n",
       "      <td>1.0</td>\n",
       "      <td>2.0</td>\n",
       "      <td>88.0</td>\n",
       "      <td>2.0</td>\n",
       "      <td>10.0</td>\n",
       "      <td>1.0</td>\n",
       "      <td>1.0</td>\n",
       "      <td>2.0</td>\n",
       "      <td>2.0</td>\n",
       "    </tr>\n",
       "    <tr>\n",
       "      <th>418264</th>\n",
       "      <td>2.0</td>\n",
       "      <td>1.0</td>\n",
       "      <td>2.0</td>\n",
       "      <td>1.0</td>\n",
       "      <td>1.0</td>\n",
       "      <td>2852.0</td>\n",
       "      <td>1.0</td>\n",
       "      <td>88.0</td>\n",
       "      <td>2.0</td>\n",
       "      <td>2.0</td>\n",
       "      <td>...</td>\n",
       "      <td>1.0</td>\n",
       "      <td>1.0</td>\n",
       "      <td>2.0</td>\n",
       "      <td>88.0</td>\n",
       "      <td>1.0</td>\n",
       "      <td>7.0</td>\n",
       "      <td>3.0</td>\n",
       "      <td>2.0</td>\n",
       "      <td>1.0</td>\n",
       "      <td>2.0</td>\n",
       "    </tr>\n",
       "    <tr>\n",
       "      <th>418265</th>\n",
       "      <td>2.0</td>\n",
       "      <td>3.0</td>\n",
       "      <td>2.0</td>\n",
       "      <td>1.0</td>\n",
       "      <td>1.0</td>\n",
       "      <td>3175.0</td>\n",
       "      <td>1.0</td>\n",
       "      <td>88.0</td>\n",
       "      <td>1.0</td>\n",
       "      <td>2.0</td>\n",
       "      <td>...</td>\n",
       "      <td>2.0</td>\n",
       "      <td>1.0</td>\n",
       "      <td>2.0</td>\n",
       "      <td>5.0</td>\n",
       "      <td>1.0</td>\n",
       "      <td>1.0</td>\n",
       "      <td>3.0</td>\n",
       "      <td>2.0</td>\n",
       "      <td>1.0</td>\n",
       "      <td>2.0</td>\n",
       "    </tr>\n",
       "    <tr>\n",
       "      <th>418266</th>\n",
       "      <td>3.0</td>\n",
       "      <td>99.0</td>\n",
       "      <td>2.0</td>\n",
       "      <td>1.0</td>\n",
       "      <td>1.0</td>\n",
       "      <td>2378.0</td>\n",
       "      <td>1.0</td>\n",
       "      <td>88.0</td>\n",
       "      <td>1.0</td>\n",
       "      <td>2.0</td>\n",
       "      <td>...</td>\n",
       "      <td>1.0</td>\n",
       "      <td>1.0</td>\n",
       "      <td>2.0</td>\n",
       "      <td>88.0</td>\n",
       "      <td>1.0</td>\n",
       "      <td>11.0</td>\n",
       "      <td>3.0</td>\n",
       "      <td>2.0</td>\n",
       "      <td>1.0</td>\n",
       "      <td>2.0</td>\n",
       "    </tr>\n",
       "    <tr>\n",
       "      <th>418267</th>\n",
       "      <td>3.0</td>\n",
       "      <td>8.0</td>\n",
       "      <td>2.0</td>\n",
       "      <td>1.0</td>\n",
       "      <td>1.0</td>\n",
       "      <td>1997.0</td>\n",
       "      <td>1.0</td>\n",
       "      <td>88.0</td>\n",
       "      <td>2.0</td>\n",
       "      <td>2.0</td>\n",
       "      <td>...</td>\n",
       "      <td>1.0</td>\n",
       "      <td>1.0</td>\n",
       "      <td>2.0</td>\n",
       "      <td>88.0</td>\n",
       "      <td>1.0</td>\n",
       "      <td>5.0</td>\n",
       "      <td>3.0</td>\n",
       "      <td>2.0</td>\n",
       "      <td>1.0</td>\n",
       "      <td>2.0</td>\n",
       "    </tr>\n",
       "  </tbody>\n",
       "</table>\n",
       "<p>418268 rows × 22 columns</p>\n",
       "</div>"
      ],
      "text/plain": [
       "        GENHLTH  INCOME2  CVDSTRK3  _FRTLT1A  _RFDRHV7   _BMI5  _CHOLCH2  \\\n",
       "0           3.0      3.0       2.0       1.0       1.0  2817.0       1.0   \n",
       "1           4.0      5.0       2.0       1.0       1.0  1854.0       1.0   \n",
       "2           3.0      7.0       2.0       1.0       1.0  3162.0       1.0   \n",
       "3           4.0      6.0       2.0       9.0       9.0  2030.0       1.0   \n",
       "4           2.0     99.0       2.0       1.0       1.0  2148.0       1.0   \n",
       "...         ...      ...       ...       ...       ...     ...       ...   \n",
       "418263      3.0      1.0       2.0       1.0       1.0  2717.0       1.0   \n",
       "418264      2.0      1.0       2.0       1.0       1.0  2852.0       1.0   \n",
       "418265      2.0      3.0       2.0       1.0       1.0  3175.0       1.0   \n",
       "418266      3.0     99.0       2.0       1.0       1.0  2378.0       1.0   \n",
       "418267      3.0      8.0       2.0       1.0       1.0  1997.0       1.0   \n",
       "\n",
       "        PHYSHLTH  TOLDHI2  MEDCOST  ...  _VEGLT1A  HLTHPLN1  _MICHD  MENTHLTH  \\\n",
       "0           15.0      1.0      2.0  ...       1.0       1.0     2.0      88.0   \n",
       "1           10.0      2.0      2.0  ...       1.0       1.0     2.0      88.0   \n",
       "2           88.0      2.0      2.0  ...       1.0       1.0     2.0      30.0   \n",
       "3           30.0      2.0      2.0  ...       9.0       1.0     2.0      88.0   \n",
       "4           88.0      1.0      2.0  ...       1.0       1.0     2.0      88.0   \n",
       "...          ...      ...      ...  ...       ...       ...     ...       ...   \n",
       "418263      88.0      2.0      2.0  ...       2.0       1.0     2.0      88.0   \n",
       "418264      88.0      2.0      2.0  ...       1.0       1.0     2.0      88.0   \n",
       "418265      88.0      1.0      2.0  ...       2.0       1.0     2.0       5.0   \n",
       "418266      88.0      1.0      2.0  ...       1.0       1.0     2.0      88.0   \n",
       "418267      88.0      2.0      2.0  ...       1.0       1.0     2.0      88.0   \n",
       "\n",
       "        _RFHYPE5  _AGEG5YR  DIABETE4  SEXVAR  _TOTINDA  DIFFWALK  \n",
       "0            2.0      13.0       3.0     2.0       2.0       1.0  \n",
       "1            1.0      11.0       3.0     2.0       1.0       2.0  \n",
       "2            2.0      10.0       1.0     2.0       1.0       1.0  \n",
       "3            2.0      13.0       3.0     2.0       9.0       NaN  \n",
       "4            1.0      13.0       3.0     2.0       2.0       2.0  \n",
       "...          ...       ...       ...     ...       ...       ...  \n",
       "418263       2.0      10.0       1.0     1.0       2.0       2.0  \n",
       "418264       1.0       7.0       3.0     2.0       1.0       2.0  \n",
       "418265       1.0       1.0       3.0     2.0       1.0       2.0  \n",
       "418266       1.0      11.0       3.0     2.0       1.0       2.0  \n",
       "418267       1.0       5.0       3.0     2.0       1.0       2.0  \n",
       "\n",
       "[418268 rows x 22 columns]"
      ]
     },
     "execution_count": 4,
     "metadata": {},
     "output_type": "execute_result"
    }
   ],
   "source": [
    "import pandas as pd\n",
    "\n",
    "df = pd.read_csv('filtered_indicators/2019.csv')\n",
    "pd.set_option('mode.chained_assignment', None)\n",
    "df"
   ]
  },
  {
   "cell_type": "code",
   "execution_count": 5,
   "metadata": {},
   "outputs": [
    {
     "name": "stdout",
     "output_type": "stream",
     "text": [
      "(351875, 22) Percentage Droped:   15.873315673204742\n"
     ]
    }
   ],
   "source": [
    "#Drop Missing Values - knocks 100,000 rows out right away\n",
    "original_row_count = df.shape[0]\n",
    "df = df.dropna()\n",
    "droped_row_count = df.shape[0]\n",
    "print(df.shape, \"Percentage Droped:  \", ((original_row_count -  droped_row_count)/original_row_count) * 100)\n"
   ]
  },
  {
   "cell_type": "code",
   "execution_count": 6,
   "metadata": {},
   "outputs": [],
   "source": [
    "def percentDropped(df_input):\n",
    "    p =100*( (droped_row_count - df.shape[0]) / droped_row_count)\n",
    "    return round(p,2)"
   ]
  },
  {
   "cell_type": "code",
   "execution_count": 7,
   "metadata": {},
   "outputs": [
    {
     "name": "stdout",
     "output_type": "stream",
     "text": [
      "[0. 1.]\n"
     ]
    }
   ],
   "source": [
    "# _MICHD\n",
    "#Change 2 to 0 because this means did not have MI or CHD\n",
    "df['_MICHD'] = df['_MICHD'].replace({2: 0})\n",
    "print(df._MICHD.unique())\n"
   ]
  },
  {
   "cell_type": "code",
   "execution_count": 8,
   "metadata": {},
   "outputs": [
    {
     "name": "stdout",
     "output_type": "stream",
     "text": [
      "[1. 0.]\n",
      "(350954, 22)     Dropped percent:  0.26     Droped rows:    921\n"
     ]
    }
   ],
   "source": [
    "#1 _RFHYPE5\n",
    "#Change 1 to 0 so it represetnts No high blood pressure and 2 to 1 so it represents high blood pressure\n",
    "df['_RFHYPE5'] = df['_RFHYPE5'].replace({1:0, 2:1})\n",
    "df = df[df._RFHYPE5 != 9]\n",
    "print(df._RFHYPE5.unique())\n",
    "print(df.shape, \"    Dropped percent: \" , percentDropped(df), \"    Droped rows:   \", droped_row_count - df.shape[0])\n"
   ]
  },
  {
   "cell_type": "code",
   "execution_count": 9,
   "metadata": {},
   "outputs": [
    {
     "name": "stdout",
     "output_type": "stream",
     "text": [
      "[1. 0.]\n",
      "(347457, 22)     Dropped percent:  1.26     Droped rows:    4418\n"
     ]
    }
   ],
   "source": [
    "#2 TOLDHI2\n",
    "# Change 2 to 0 because it is No\n",
    "# Remove all 7 (dont knows)\n",
    "# Remove all 9 (refused)\n",
    "df['TOLDHI2'] = df['TOLDHI2'].replace({2:0})\n",
    "df = df[df.TOLDHI2 != 7]\n",
    "df = df[df.TOLDHI2 != 9]\n",
    "print(df.TOLDHI2.unique())\n",
    "print(df.shape, \"    Dropped percent: \" , percentDropped(df), \"    Droped rows:   \", droped_row_count - df.shape[0])\n"
   ]
  },
  {
   "cell_type": "code",
   "execution_count": 11,
   "metadata": {},
   "outputs": [
    {
     "name": "stdout",
     "output_type": "stream",
     "text": [
      "[1. 0.]\n",
      "(327897, 22)     Dropped percent:  6.81     Droped rows:    23978\n"
     ]
    }
   ],
   "source": [
    "#3 _CHOLCHK\n",
    "# Change 3 to 0 and 2 to 0 for Not checked cholesterol in past 5 years\n",
    "# Remove 9\n",
    "df['_CHOLCH2'] = df['_CHOLCH2'].replace({3:0,2:0})\n",
    "df = df[df._CHOLCH2 != 9]\n",
    "print(df._CHOLCH2.unique())\n",
    "print(df.shape, \"    Dropped percent: \" , percentDropped(df), \"    Droped rows:   \", droped_row_count - df.shape[0])\n"
   ]
  },
  {
   "cell_type": "code",
   "execution_count": 12,
   "metadata": {},
   "outputs": [
    {
     "data": {
      "text/plain": [
       "array([ 28.,  19.,  32.,  21.,  33.,  31.,  24.,  17.,  22.,  23.,  26.,\n",
       "        25.,  27.,  35.,  36.,  30.,  16.,  34.,  41.,  29.,  37.,  20.,\n",
       "        42.,  39.,  55.,  38.,  40.,  43.,  18.,  50.,  12.,  45.,  53.,\n",
       "        48.,  47.,  44.,  52.,  46.,  51.,  57.,  49.,  74.,  59.,  60.,\n",
       "        15.,  14.,  54.,  58.,  61.,  63.,  67.,  13.,  70.,  72.,  56.,\n",
       "        62.,  64.,  68.,  69.,  71.,  76.,  73.,  66.,  65.,  92.,  86.,\n",
       "        77.,  75.,  79.,  80.,  82., 100.,  84.,  87.,  88.,  81.,  78.,\n",
       "        97.,  89.,  83.,  99.,  96.,  91.,  98.,  95.,  90.,  94.,  85.])"
      ]
     },
     "execution_count": 12,
     "metadata": {},
     "output_type": "execute_result"
    }
   ],
   "source": [
    "#4 _BMI5 (no changes, just note that these are BMI * 100. So for example a BMI of 4018 is really 40.18)\n",
    "df['_BMI5'] = df['_BMI5'].div(100).round(0)\n",
    "df._BMI5.unique()"
   ]
  },
  {
   "cell_type": "code",
   "execution_count": 13,
   "metadata": {},
   "outputs": [
    {
     "name": "stdout",
     "output_type": "stream",
     "text": [
      "[1. 0.]\n",
      "(326226, 22)     Dropped percent:  7.29     Droped rows:    25649\n"
     ]
    }
   ],
   "source": [
    "#5 SMOKE100\n",
    "# Change 2 to 0 because it is No\n",
    "# Remove all 7 (dont knows)\n",
    "# Remove all 9 (refused)\n",
    "df['SMOKE100'] = df['SMOKE100'].replace({2:0})\n",
    "df = df[df.SMOKE100 != 7]\n",
    "df = df[df.SMOKE100 != 9]\n",
    "print(df.SMOKE100.unique())\n",
    "print(df.shape, \"    Dropped percent: \" , percentDropped(df), \"    Droped rows:   \", droped_row_count - df.shape[0])\n"
   ]
  },
  {
   "cell_type": "code",
   "execution_count": 14,
   "metadata": {},
   "outputs": [
    {
     "name": "stdout",
     "output_type": "stream",
     "text": [
      "[0. 1.]\n",
      "(325524, 22)     Dropped percent:  7.49     Droped rows:    26351\n"
     ]
    }
   ],
   "source": [
    "#6 CVDSTRK3\n",
    "# Change 2 to 0 because it is No\n",
    "# Remove all 7 (dont knows)\n",
    "# Remove all 9 (refused)\n",
    "df['CVDSTRK3'] = df['CVDSTRK3'].replace({2:0})\n",
    "df = df[df.CVDSTRK3 != 7]\n",
    "df = df[df.CVDSTRK3 != 9]\n",
    "print(df.CVDSTRK3.unique())\n",
    "print(df.shape, \"    Dropped percent: \" , percentDropped(df), \"    Droped rows:   \", droped_row_count - df.shape[0])\n"
   ]
  },
  {
   "cell_type": "code",
   "execution_count": 16,
   "metadata": {},
   "outputs": [
    {
     "name": "stdout",
     "output_type": "stream",
     "text": [
      "[0. 2. 1.]\n",
      "(325150, 22)     Dropped percent:  7.6     Droped rows:    26725\n"
     ]
    }
   ],
   "source": [
    "#7 DIABETE3\n",
    "# going to make this ordinal. 0 is for no diabetes or only during pregnancy, 1 is for pre-diabetes or borderline diabetes, 2 is for yes diabetes\n",
    "# Remove all 7 (dont knows)\n",
    "# Remove all 9 (refused)\n",
    "df['DIABETE4'] = df['DIABETE4'].replace({2:0, 3:0, 1:2, 4:1})\n",
    "df = df[df.DIABETE4 != 7]\n",
    "df = df[df.DIABETE4 != 9]\n",
    "print(df.DIABETE4.unique())\n",
    "print(df.shape, \"    Dropped percent: \" , percentDropped(df), \"    Droped rows:   \", droped_row_count - df.shape[0])\n"
   ]
  },
  {
   "cell_type": "code",
   "execution_count": 17,
   "metadata": {},
   "outputs": [
    {
     "name": "stdout",
     "output_type": "stream",
     "text": [
      "[0. 1.]\n",
      "(321004, 22)     Dropped percent:  8.77     Droped rows:    30871\n"
     ]
    }
   ],
   "source": [
    "#8 _TOTINDA\n",
    "# 1 for physical activity\n",
    "# change 2 to 0 for no physical activity\n",
    "# Remove all 9 (don't know/refused)\n",
    "df['_TOTINDA'] = df['_TOTINDA'].replace({2:0})\n",
    "df = df[df._TOTINDA != 9]\n",
    "print(df._TOTINDA.unique())\n",
    "print(df.shape, \"    Dropped percent: \" , percentDropped(df), \"    Droped rows:   \", droped_row_count - df.shape[0])\n"
   ]
  },
  {
   "cell_type": "code",
   "execution_count": 18,
   "metadata": {},
   "outputs": [
    {
     "name": "stdout",
     "output_type": "stream",
     "text": [
      "[1. 0.]\n",
      "(305002, 22)     Dropped percent:  13.32     Droped rows:    46873\n"
     ]
    }
   ],
   "source": [
    "#9 _FRTLT1\n",
    "# Change 2 to 0. this means no fruit consumed per day. 1 will mean consumed 1 or more pieces of fruit per day \n",
    "# remove all dont knows and missing 9\n",
    "df['_FRTLT1A'] = df['_FRTLT1A'].replace({2:0})\n",
    "df = df[df._FRTLT1A != 9]\n",
    "print(df._FRTLT1A.unique())\n",
    "print(df.shape, \"    Dropped percent: \" , percentDropped(df), \"    Droped rows:   \", droped_row_count - df.shape[0])\n"
   ]
  },
  {
   "cell_type": "code",
   "execution_count": 19,
   "metadata": {},
   "outputs": [
    {
     "name": "stdout",
     "output_type": "stream",
     "text": [
      "[1. 0.]\n",
      "(294051, 23)     Dropped percent:  16.43     Droped rows:    57824\n"
     ]
    }
   ],
   "source": [
    "#10 _VEGLT1\n",
    "# Change 2 to 0. this means no vegetables consumed per day. 1 will mean consumed 1 or more pieces of vegetable per day \n",
    "# remove all dont knows and missing 9\n",
    "df['_VEGLT1'] = df['_VEGLT1A'].replace({2:0})\n",
    "df = df[df._VEGLT1 != 9]\n",
    "print(df._VEGLT1.unique())\n",
    "print(df.shape, \"    Dropped percent: \" , percentDropped(df), \"    Droped rows:   \", droped_row_count - df.shape[0])\n"
   ]
  },
  {
   "cell_type": "code",
   "execution_count": 21,
   "metadata": {},
   "outputs": [
    {
     "name": "stdout",
     "output_type": "stream",
     "text": [
      "[0. 1.]\n",
      "(290101, 23)     Dropped percent:  17.56     Droped rows:    61774\n"
     ]
    }
   ],
   "source": [
    "#11 _RFDRHV5\n",
    "# Change 1 to 0 (1 was no for heavy drinking). change all 2 to 1 (2 was yes for heavy drinking)\n",
    "# remove all dont knows and missing 9\n",
    "df['_RFDRHV7'] = df['_RFDRHV7'].replace({1:0, 2:1})\n",
    "df = df[df._RFDRHV7 != 9]\n",
    "print(df._RFDRHV7.unique())\n",
    "print(df.shape, \"    Dropped percent: \" , percentDropped(df), \"    Droped rows:   \", droped_row_count - df.shape[0])\n"
   ]
  },
  {
   "cell_type": "code",
   "execution_count": 22,
   "metadata": {},
   "outputs": [
    {
     "name": "stdout",
     "output_type": "stream",
     "text": [
      "[1. 0.]\n",
      "(289378, 23)     Dropped percent:  17.76     Droped rows:    62497\n"
     ]
    }
   ],
   "source": [
    "#12 HLTHPLN1\n",
    "# 1 is yes, change 2 to 0 because it is No health care access\n",
    "# remove 7 and 9 for don't know or refused\n",
    "df['HLTHPLN1'] = df['HLTHPLN1'].replace({2:0})\n",
    "df = df[df.HLTHPLN1 != 7]\n",
    "df = df[df.HLTHPLN1 != 9]\n",
    "print(df.HLTHPLN1.unique())\n",
    "print(df.shape, \"    Dropped percent: \" , percentDropped(df), \"    Droped rows:   \", droped_row_count - df.shape[0])\n"
   ]
  },
  {
   "cell_type": "code",
   "execution_count": 23,
   "metadata": {},
   "outputs": [
    {
     "name": "stdout",
     "output_type": "stream",
     "text": [
      "[0. 1.]\n",
      "(288942, 23)     Dropped percent:  17.89     Droped rows:    62933\n"
     ]
    }
   ],
   "source": [
    "#13 MEDCOST\n",
    "# Change 2 to 0 for no, 1 is already yes\n",
    "# remove 7 for don/t know and 9 for refused\n",
    "df['MEDCOST'] = df['MEDCOST'].replace({2:0})\n",
    "df = df[df.MEDCOST != 7]\n",
    "df = df[df.MEDCOST != 9]\n",
    "print(df.MEDCOST.unique())\n",
    "print(df.shape, \"    Dropped percent: \" , percentDropped(df), \"    Droped rows:   \", droped_row_count - df.shape[0])\n"
   ]
  },
  {
   "cell_type": "code",
   "execution_count": 24,
   "metadata": {},
   "outputs": [
    {
     "name": "stdout",
     "output_type": "stream",
     "text": [
      "[3. 4. 2. 1. 5.]\n",
      "(288576, 23)     Dropped percent:  17.99     Droped rows:    63299\n"
     ]
    }
   ],
   "source": [
    "#14 GENHLTH\n",
    "# This is an ordinal variable that I want to keep (1 is Excellent -> 5 is Poor)\n",
    "# Remove 7 and 9 for don't know and refused\n",
    "df = df[df.GENHLTH != 7]\n",
    "df = df[df.GENHLTH != 9]\n",
    "print(df.GENHLTH.unique())\n",
    "print(df.shape, \"    Dropped percent: \" , percentDropped(df), \"    Droped rows:   \", droped_row_count - df.shape[0])\n"
   ]
  },
  {
   "cell_type": "code",
   "execution_count": 25,
   "metadata": {},
   "outputs": [
    {
     "name": "stdout",
     "output_type": "stream",
     "text": [
      "[ 0. 30.  4.  1.  2. 15.  5.  7. 10.  3. 25.  6. 21. 20.  8. 14. 17. 28.\n",
      " 12. 16. 27. 23. 26. 29. 24.  9. 13. 18. 22. 11. 19.]\n",
      "(284509, 23)     Dropped percent:  19.14     Droped rows:    67366\n"
     ]
    }
   ],
   "source": [
    "#15 MENTHLTH\n",
    "# already in days so keep that, scale will be 0-30\n",
    "# change 88 to 0 because it means none (no bad mental health days)\n",
    "# remove 77 and 99 for don't know not sure and refused\n",
    "df['MENTHLTH'] = df['MENTHLTH'].replace({88:0})\n",
    "df = df[df.MENTHLTH != 77]\n",
    "df = df[df.MENTHLTH != 99]\n",
    "print(df.MENTHLTH.unique())\n",
    "print(df.shape, \"    Dropped percent: \" , percentDropped(df), \"    Droped rows:   \", droped_row_count - df.shape[0])\n"
   ]
  },
  {
   "cell_type": "code",
   "execution_count": 26,
   "metadata": {},
   "outputs": [
    {
     "name": "stdout",
     "output_type": "stream",
     "text": [
      "[15. 10.  0. 30. 20.  2.  1.  7. 14.  3.  5. 25.  4.  6. 28. 21. 17.  8.\n",
      " 16. 27. 12. 23. 18. 13. 29. 19.  9. 24. 26. 11. 22.]\n",
      "(280935, 23)     Dropped percent:  20.16     Droped rows:    70940\n"
     ]
    }
   ],
   "source": [
    "#16 PHYSHLTH\n",
    "# already in days so keep that, scale will be 0-30\n",
    "# change 88 to 0 because it means none (no bad mental health days)\n",
    "# remove 77 and 99 for don't know not sure and refused\n",
    "df['PHYSHLTH'] = df['PHYSHLTH'].replace({88:0})\n",
    "df = df[df.PHYSHLTH != 77]\n",
    "df = df[df.PHYSHLTH != 99]\n",
    "print(df.PHYSHLTH.unique())\n",
    "print(df.shape, \"    Dropped percent: \" , percentDropped(df), \"    Droped rows:   \", droped_row_count - df.shape[0])\n"
   ]
  },
  {
   "cell_type": "code",
   "execution_count": 27,
   "metadata": {},
   "outputs": [
    {
     "name": "stdout",
     "output_type": "stream",
     "text": [
      "[1. 0.]\n",
      "(280318, 23)     Dropped percent:  20.34     Droped rows:    71557\n"
     ]
    }
   ],
   "source": [
    "#17 DIFFWALK\n",
    "# change 2 to 0 for no. 1 is already yes\n",
    "# remove 7 and 9 for don't know not sure and refused\n",
    "df['DIFFWALK'] = df['DIFFWALK'].replace({2:0})\n",
    "df = df[df.DIFFWALK != 7]\n",
    "df = df[df.DIFFWALK != 9]\n",
    "print(df.DIFFWALK.unique())\n",
    "print(df.shape, \"    Dropped percent: \" , percentDropped(df), \"    Droped rows:   \", droped_row_count - df.shape[0])\n"
   ]
  },
  {
   "cell_type": "code",
   "execution_count": 31,
   "metadata": {},
   "outputs": [
    {
     "name": "stdout",
     "output_type": "stream",
     "text": [
      "[0. 1.]\n",
      "(280318, 23)     Dropped percent:  20.34     Droped rows:    71557\n"
     ]
    }
   ],
   "source": [
    "#18 SEX\n",
    "# in other words - is respondent male (somewhat arbitrarily chose this change because men are at higher risk for heart disease)\n",
    "# change 2 to 0 (female as 0). Male is 1\n",
    "df['SEXVAR'] = df['SEXVAR'].replace({2:0})\n",
    "df = df[df.SEXVAR != 9]\n",
    "print(df.SEXVAR.unique())\n",
    "print(df.shape, \"    Dropped percent: \" , percentDropped(df), \"    Droped rows:   \", droped_row_count - df.shape[0])\n"
   ]
  },
  {
   "cell_type": "code",
   "execution_count": 32,
   "metadata": {},
   "outputs": [
    {
     "name": "stdout",
     "output_type": "stream",
     "text": [
      "[13. 11. 10.  8. 12.  7.  6.  5.  9.  4.  3.  2.  1.]\n",
      "(278197, 23)     Dropped percent:  20.94     Droped rows:    73678\n"
     ]
    }
   ],
   "source": [
    "#19 _AGEG5YR\n",
    "# already ordinal. 1 is 18-24 all the way up to 13 wis 80 and older. 5 year increments.\n",
    "# remove 14 because it is don't know or missing\n",
    "df = df[df._AGEG5YR != 14]\n",
    "print(df._AGEG5YR.unique())\n",
    "print(df.shape, \"    Dropped percent: \" , percentDropped(df), \"    Droped rows:   \", droped_row_count - df.shape[0])\n"
   ]
  },
  {
   "cell_type": "code",
   "execution_count": 33,
   "metadata": {},
   "outputs": [
    {
     "name": "stdout",
     "output_type": "stream",
     "text": [
      "[3. 5. 6. 2. 4. 1.]\n",
      "(277893, 23)     Dropped percent:  21.03     Droped rows:    73982\n"
     ]
    }
   ],
   "source": [
    "#20 EDUCA\n",
    "# This is already an ordinal variable with 1 being never attended school or kindergarten only up to 6 being college 4 years or more\n",
    "# Scale here is 1-6\n",
    "# Remove 9 for refused:\n",
    "df = df[df.EDUCA != 9]\n",
    "print(df.EDUCA.unique())\n",
    "print(df.shape, \"    Dropped percent: \" , percentDropped(df), \"    Droped rows:   \", droped_row_count - df.shape[0])\n"
   ]
  },
  {
   "cell_type": "code",
   "execution_count": 34,
   "metadata": {},
   "outputs": [
    {
     "name": "stdout",
     "output_type": "stream",
     "text": [
      "[3. 5. 7. 8. 6. 4. 2. 1.]\n",
      "(243317, 23)     Dropped percent:  30.85     Droped rows:    108558\n"
     ]
    }
   ],
   "source": [
    "#21 INCOME2\n",
    "# Variable is already ordinal with 1 being less than $10,000 all the way up to 8 being $75,000 or more\n",
    "# Remove 77 and 99 for don't know and refused\n",
    "df = df[df.INCOME2 != 77]\n",
    "df = df[df.INCOME2 != 99]\n",
    "print(df.INCOME2.unique())\n",
    "print(df.shape, \"    Dropped percent: \" , percentDropped(df), \"    Droped rows:   \", droped_row_count - df.shape[0])\n"
   ]
  },
  {
   "cell_type": "code",
   "execution_count": 35,
   "metadata": {},
   "outputs": [
    {
     "name": "stdout",
     "output_type": "stream",
     "text": [
      "(243317, 23) Percent Dropped From Start:  41.83  Original Row Count:  418268\n"
     ]
    }
   ],
   "source": [
    "print(df.shape,  \"Percent Dropped From Start: \", round(((original_row_count - df.shape[0]) / original_row_count) * 100, 2), \" Original Row Count: \", original_row_count)"
   ]
  },
  {
   "cell_type": "code",
   "execution_count": 36,
   "metadata": {},
   "outputs": [
    {
     "name": "stdout",
     "output_type": "stream",
     "text": [
      "_MICHD\n",
      "0.0    220821\n",
      "1.0     22496\n",
      "dtype: int64\n",
      "Percent Yes (1.0):  9.25\n"
     ]
    }
   ],
   "source": [
    "#Check Class Sizes of the heart disease column  Note the class imbalance!\n",
    "print(df.groupby(['_MICHD']).size())\n",
    "grp =df.groupby(['_MICHD'])\n",
    "percent_yes = 100*(grp.size()[1.0] / grp.size().sum())\n",
    "print(\"Percent Yes (1.0): \",  round(percent_yes, 2))"
   ]
  },
  {
   "cell_type": "code",
   "execution_count": 38,
   "metadata": {},
   "outputs": [
    {
     "name": "stdout",
     "output_type": "stream",
     "text": [
      "['_MICHD', 'TOLDHI2', 'TOLDHI3', '_FRTLT1', '_FRTLT1A', '_RFHYPE6', '_RFHYPE5', '_VEGLT1A', '_VEGLT1', '_CHOLCHK', '_CHOLCH1', '_CHOLCH2', '_CHOLCH3', 'SEX', 'SEX1', 'SEXVAR', '_RFDRHV5', '_RFDRHV6', '_RFDRHV7', '_RFDRHV8', 'DIABETE3', 'DIABETE4', 'HLTHPLN1', '_HLTHPLN', 'INCOME2', 'INCOME3', 'MEDCOST', 'MEDCOST1', '_BMI5', 'SMOKE100', 'CVDSTRK3', '_TOTINDA', 'GENHLTH', 'MENTHLTH', 'PHYSHLTH', 'DIFFWALK', '_AGEG5YR', 'EDUCA']\n"
     ]
    },
    {
     "data": {
      "text/html": [
       "<div>\n",
       "<style scoped>\n",
       "    .dataframe tbody tr th:only-of-type {\n",
       "        vertical-align: middle;\n",
       "    }\n",
       "\n",
       "    .dataframe tbody tr th {\n",
       "        vertical-align: top;\n",
       "    }\n",
       "\n",
       "    .dataframe thead th {\n",
       "        text-align: right;\n",
       "    }\n",
       "</style>\n",
       "<table border=\"1\" class=\"dataframe\">\n",
       "  <thead>\n",
       "    <tr style=\"text-align: right;\">\n",
       "      <th></th>\n",
       "      <th>GenHlth</th>\n",
       "      <th>Income</th>\n",
       "      <th>Stroke</th>\n",
       "      <th>Fruits</th>\n",
       "      <th>HvyAlcoholConsump</th>\n",
       "      <th>BMI</th>\n",
       "      <th>CholCheck</th>\n",
       "      <th>PhysHlth</th>\n",
       "      <th>HighChol</th>\n",
       "      <th>NoDocbcCost</th>\n",
       "      <th>...</th>\n",
       "      <th>AnyHealthcare</th>\n",
       "      <th>HeartDiseaseorAttack</th>\n",
       "      <th>MentHlth</th>\n",
       "      <th>HighBP</th>\n",
       "      <th>Age</th>\n",
       "      <th>Diabetes</th>\n",
       "      <th>Sex</th>\n",
       "      <th>PhysActivity</th>\n",
       "      <th>DiffWalk</th>\n",
       "      <th>Veggies</th>\n",
       "    </tr>\n",
       "  </thead>\n",
       "  <tbody>\n",
       "    <tr>\n",
       "      <th>0</th>\n",
       "      <td>3.0</td>\n",
       "      <td>3.0</td>\n",
       "      <td>0.0</td>\n",
       "      <td>1.0</td>\n",
       "      <td>0.0</td>\n",
       "      <td>28.0</td>\n",
       "      <td>1.0</td>\n",
       "      <td>15.0</td>\n",
       "      <td>1.0</td>\n",
       "      <td>0.0</td>\n",
       "      <td>...</td>\n",
       "      <td>1.0</td>\n",
       "      <td>0.0</td>\n",
       "      <td>0.0</td>\n",
       "      <td>1.0</td>\n",
       "      <td>13.0</td>\n",
       "      <td>0.0</td>\n",
       "      <td>0.0</td>\n",
       "      <td>0.0</td>\n",
       "      <td>1.0</td>\n",
       "      <td>1.0</td>\n",
       "    </tr>\n",
       "    <tr>\n",
       "      <th>1</th>\n",
       "      <td>4.0</td>\n",
       "      <td>5.0</td>\n",
       "      <td>0.0</td>\n",
       "      <td>1.0</td>\n",
       "      <td>0.0</td>\n",
       "      <td>19.0</td>\n",
       "      <td>1.0</td>\n",
       "      <td>10.0</td>\n",
       "      <td>0.0</td>\n",
       "      <td>0.0</td>\n",
       "      <td>...</td>\n",
       "      <td>1.0</td>\n",
       "      <td>0.0</td>\n",
       "      <td>0.0</td>\n",
       "      <td>0.0</td>\n",
       "      <td>11.0</td>\n",
       "      <td>0.0</td>\n",
       "      <td>0.0</td>\n",
       "      <td>1.0</td>\n",
       "      <td>0.0</td>\n",
       "      <td>1.0</td>\n",
       "    </tr>\n",
       "    <tr>\n",
       "      <th>2</th>\n",
       "      <td>3.0</td>\n",
       "      <td>7.0</td>\n",
       "      <td>0.0</td>\n",
       "      <td>1.0</td>\n",
       "      <td>0.0</td>\n",
       "      <td>32.0</td>\n",
       "      <td>1.0</td>\n",
       "      <td>0.0</td>\n",
       "      <td>0.0</td>\n",
       "      <td>0.0</td>\n",
       "      <td>...</td>\n",
       "      <td>1.0</td>\n",
       "      <td>0.0</td>\n",
       "      <td>30.0</td>\n",
       "      <td>1.0</td>\n",
       "      <td>10.0</td>\n",
       "      <td>2.0</td>\n",
       "      <td>0.0</td>\n",
       "      <td>1.0</td>\n",
       "      <td>1.0</td>\n",
       "      <td>1.0</td>\n",
       "    </tr>\n",
       "    <tr>\n",
       "      <th>6</th>\n",
       "      <td>2.0</td>\n",
       "      <td>7.0</td>\n",
       "      <td>0.0</td>\n",
       "      <td>1.0</td>\n",
       "      <td>0.0</td>\n",
       "      <td>33.0</td>\n",
       "      <td>1.0</td>\n",
       "      <td>30.0</td>\n",
       "      <td>0.0</td>\n",
       "      <td>0.0</td>\n",
       "      <td>...</td>\n",
       "      <td>1.0</td>\n",
       "      <td>0.0</td>\n",
       "      <td>0.0</td>\n",
       "      <td>0.0</td>\n",
       "      <td>11.0</td>\n",
       "      <td>2.0</td>\n",
       "      <td>1.0</td>\n",
       "      <td>1.0</td>\n",
       "      <td>1.0</td>\n",
       "      <td>1.0</td>\n",
       "    </tr>\n",
       "    <tr>\n",
       "      <th>9</th>\n",
       "      <td>5.0</td>\n",
       "      <td>3.0</td>\n",
       "      <td>0.0</td>\n",
       "      <td>0.0</td>\n",
       "      <td>0.0</td>\n",
       "      <td>17.0</td>\n",
       "      <td>1.0</td>\n",
       "      <td>20.0</td>\n",
       "      <td>1.0</td>\n",
       "      <td>0.0</td>\n",
       "      <td>...</td>\n",
       "      <td>1.0</td>\n",
       "      <td>0.0</td>\n",
       "      <td>0.0</td>\n",
       "      <td>0.0</td>\n",
       "      <td>11.0</td>\n",
       "      <td>2.0</td>\n",
       "      <td>0.0</td>\n",
       "      <td>0.0</td>\n",
       "      <td>1.0</td>\n",
       "      <td>0.0</td>\n",
       "    </tr>\n",
       "    <tr>\n",
       "      <th>...</th>\n",
       "      <td>...</td>\n",
       "      <td>...</td>\n",
       "      <td>...</td>\n",
       "      <td>...</td>\n",
       "      <td>...</td>\n",
       "      <td>...</td>\n",
       "      <td>...</td>\n",
       "      <td>...</td>\n",
       "      <td>...</td>\n",
       "      <td>...</td>\n",
       "      <td>...</td>\n",
       "      <td>...</td>\n",
       "      <td>...</td>\n",
       "      <td>...</td>\n",
       "      <td>...</td>\n",
       "      <td>...</td>\n",
       "      <td>...</td>\n",
       "      <td>...</td>\n",
       "      <td>...</td>\n",
       "      <td>...</td>\n",
       "      <td>...</td>\n",
       "    </tr>\n",
       "    <tr>\n",
       "      <th>418262</th>\n",
       "      <td>1.0</td>\n",
       "      <td>4.0</td>\n",
       "      <td>0.0</td>\n",
       "      <td>0.0</td>\n",
       "      <td>0.0</td>\n",
       "      <td>26.0</td>\n",
       "      <td>1.0</td>\n",
       "      <td>0.0</td>\n",
       "      <td>0.0</td>\n",
       "      <td>0.0</td>\n",
       "      <td>...</td>\n",
       "      <td>1.0</td>\n",
       "      <td>0.0</td>\n",
       "      <td>0.0</td>\n",
       "      <td>0.0</td>\n",
       "      <td>1.0</td>\n",
       "      <td>0.0</td>\n",
       "      <td>0.0</td>\n",
       "      <td>0.0</td>\n",
       "      <td>0.0</td>\n",
       "      <td>0.0</td>\n",
       "    </tr>\n",
       "    <tr>\n",
       "      <th>418263</th>\n",
       "      <td>3.0</td>\n",
       "      <td>1.0</td>\n",
       "      <td>0.0</td>\n",
       "      <td>1.0</td>\n",
       "      <td>0.0</td>\n",
       "      <td>27.0</td>\n",
       "      <td>1.0</td>\n",
       "      <td>0.0</td>\n",
       "      <td>0.0</td>\n",
       "      <td>0.0</td>\n",
       "      <td>...</td>\n",
       "      <td>1.0</td>\n",
       "      <td>0.0</td>\n",
       "      <td>0.0</td>\n",
       "      <td>1.0</td>\n",
       "      <td>10.0</td>\n",
       "      <td>2.0</td>\n",
       "      <td>1.0</td>\n",
       "      <td>0.0</td>\n",
       "      <td>0.0</td>\n",
       "      <td>0.0</td>\n",
       "    </tr>\n",
       "    <tr>\n",
       "      <th>418264</th>\n",
       "      <td>2.0</td>\n",
       "      <td>1.0</td>\n",
       "      <td>0.0</td>\n",
       "      <td>1.0</td>\n",
       "      <td>0.0</td>\n",
       "      <td>29.0</td>\n",
       "      <td>1.0</td>\n",
       "      <td>0.0</td>\n",
       "      <td>0.0</td>\n",
       "      <td>0.0</td>\n",
       "      <td>...</td>\n",
       "      <td>1.0</td>\n",
       "      <td>0.0</td>\n",
       "      <td>0.0</td>\n",
       "      <td>0.0</td>\n",
       "      <td>7.0</td>\n",
       "      <td>0.0</td>\n",
       "      <td>0.0</td>\n",
       "      <td>1.0</td>\n",
       "      <td>0.0</td>\n",
       "      <td>1.0</td>\n",
       "    </tr>\n",
       "    <tr>\n",
       "      <th>418265</th>\n",
       "      <td>2.0</td>\n",
       "      <td>3.0</td>\n",
       "      <td>0.0</td>\n",
       "      <td>1.0</td>\n",
       "      <td>0.0</td>\n",
       "      <td>32.0</td>\n",
       "      <td>1.0</td>\n",
       "      <td>0.0</td>\n",
       "      <td>1.0</td>\n",
       "      <td>0.0</td>\n",
       "      <td>...</td>\n",
       "      <td>1.0</td>\n",
       "      <td>0.0</td>\n",
       "      <td>5.0</td>\n",
       "      <td>0.0</td>\n",
       "      <td>1.0</td>\n",
       "      <td>0.0</td>\n",
       "      <td>0.0</td>\n",
       "      <td>1.0</td>\n",
       "      <td>0.0</td>\n",
       "      <td>0.0</td>\n",
       "    </tr>\n",
       "    <tr>\n",
       "      <th>418267</th>\n",
       "      <td>3.0</td>\n",
       "      <td>8.0</td>\n",
       "      <td>0.0</td>\n",
       "      <td>1.0</td>\n",
       "      <td>0.0</td>\n",
       "      <td>20.0</td>\n",
       "      <td>1.0</td>\n",
       "      <td>0.0</td>\n",
       "      <td>0.0</td>\n",
       "      <td>0.0</td>\n",
       "      <td>...</td>\n",
       "      <td>1.0</td>\n",
       "      <td>0.0</td>\n",
       "      <td>0.0</td>\n",
       "      <td>0.0</td>\n",
       "      <td>5.0</td>\n",
       "      <td>0.0</td>\n",
       "      <td>0.0</td>\n",
       "      <td>1.0</td>\n",
       "      <td>0.0</td>\n",
       "      <td>1.0</td>\n",
       "    </tr>\n",
       "  </tbody>\n",
       "</table>\n",
       "<p>243317 rows × 23 columns</p>\n",
       "</div>"
      ],
      "text/plain": [
       "        GenHlth  Income  Stroke  Fruits  HvyAlcoholConsump   BMI  CholCheck  \\\n",
       "0           3.0     3.0     0.0     1.0                0.0  28.0        1.0   \n",
       "1           4.0     5.0     0.0     1.0                0.0  19.0        1.0   \n",
       "2           3.0     7.0     0.0     1.0                0.0  32.0        1.0   \n",
       "6           2.0     7.0     0.0     1.0                0.0  33.0        1.0   \n",
       "9           5.0     3.0     0.0     0.0                0.0  17.0        1.0   \n",
       "...         ...     ...     ...     ...                ...   ...        ...   \n",
       "418262      1.0     4.0     0.0     0.0                0.0  26.0        1.0   \n",
       "418263      3.0     1.0     0.0     1.0                0.0  27.0        1.0   \n",
       "418264      2.0     1.0     0.0     1.0                0.0  29.0        1.0   \n",
       "418265      2.0     3.0     0.0     1.0                0.0  32.0        1.0   \n",
       "418267      3.0     8.0     0.0     1.0                0.0  20.0        1.0   \n",
       "\n",
       "        PhysHlth  HighChol  NoDocbcCost  ...  AnyHealthcare  \\\n",
       "0           15.0       1.0          0.0  ...            1.0   \n",
       "1           10.0       0.0          0.0  ...            1.0   \n",
       "2            0.0       0.0          0.0  ...            1.0   \n",
       "6           30.0       0.0          0.0  ...            1.0   \n",
       "9           20.0       1.0          0.0  ...            1.0   \n",
       "...          ...       ...          ...  ...            ...   \n",
       "418262       0.0       0.0          0.0  ...            1.0   \n",
       "418263       0.0       0.0          0.0  ...            1.0   \n",
       "418264       0.0       0.0          0.0  ...            1.0   \n",
       "418265       0.0       1.0          0.0  ...            1.0   \n",
       "418267       0.0       0.0          0.0  ...            1.0   \n",
       "\n",
       "        HeartDiseaseorAttack  MentHlth  HighBP   Age  Diabetes  Sex  \\\n",
       "0                        0.0       0.0     1.0  13.0       0.0  0.0   \n",
       "1                        0.0       0.0     0.0  11.0       0.0  0.0   \n",
       "2                        0.0      30.0     1.0  10.0       2.0  0.0   \n",
       "6                        0.0       0.0     0.0  11.0       2.0  1.0   \n",
       "9                        0.0       0.0     0.0  11.0       2.0  0.0   \n",
       "...                      ...       ...     ...   ...       ...  ...   \n",
       "418262                   0.0       0.0     0.0   1.0       0.0  0.0   \n",
       "418263                   0.0       0.0     1.0  10.0       2.0  1.0   \n",
       "418264                   0.0       0.0     0.0   7.0       0.0  0.0   \n",
       "418265                   0.0       5.0     0.0   1.0       0.0  0.0   \n",
       "418267                   0.0       0.0     0.0   5.0       0.0  0.0   \n",
       "\n",
       "        PhysActivity  DiffWalk  Veggies  \n",
       "0                0.0       1.0      1.0  \n",
       "1                1.0       0.0      1.0  \n",
       "2                1.0       1.0      1.0  \n",
       "6                1.0       1.0      1.0  \n",
       "9                0.0       1.0      0.0  \n",
       "...              ...       ...      ...  \n",
       "418262           0.0       0.0      0.0  \n",
       "418263           0.0       0.0      0.0  \n",
       "418264           1.0       0.0      1.0  \n",
       "418265           1.0       0.0      0.0  \n",
       "418267           1.0       0.0      1.0  \n",
       "\n",
       "[243317 rows x 23 columns]"
      ]
     },
     "execution_count": 38,
     "metadata": {},
     "output_type": "execute_result"
    }
   ],
   "source": [
    "column_name_mapping = {\n",
    "\n",
    "    'HeartDiseaseorAttack':['_MICHD'],\n",
    "    'HighChol': ['TOLDHI2', 'TOLDHI3'],\n",
    "    'Fruits': ['_FRTLT1', '_FRTLT1A'],\n",
    "    'HighBP': ['_RFHYPE6', '_RFHYPE5'],\n",
    "    \"Veggies\": ['_VEGLT1A', '_VEGLT1' ],\n",
    "    'CholCheck': ['_CHOLCHK', '_CHOLCH1', '_CHOLCH2', '_CHOLCH3' ],\n",
    "    'Sex':['SEX', 'SEX1', 'SEXVAR'],\n",
    "    'HvyAlcoholConsump': ['_RFDRHV5','_RFDRHV6', '_RFDRHV7', '_RFDRHV8'],\n",
    "    'Diabetes': ['DIABETE3', 'DIABETE4'],\n",
    "    'AnyHealthcare': ['HLTHPLN1', '_HLTHPLN'],\n",
    "    'Income': ['INCOME2', 'INCOME3' ],\n",
    "    'NoDocbcCost': ['MEDCOST', 'MEDCOST1' ],\n",
    "    'BMI': ['_BMI5'],\n",
    "    'Smoker': ['SMOKE100'],\n",
    "    'Stroke': ['CVDSTRK3'],\n",
    "    'PhysActivity': ['_TOTINDA' ],\n",
    "    'GenHlth': ['GENHLTH'],\n",
    "    'MentHlth': ['MENTHLTH'],\n",
    "    'PhysHlth': ['PHYSHLTH'],\n",
    "    'DiffWalk': ['DIFFWALK'],\n",
    "    'Age':['_AGEG5YR'],\n",
    "    'Education': ['EDUCA']}\n",
    "\n",
    "all_column_names = []\n",
    "for vals in column_name_mapping.values():\n",
    "    all_column_names += vals\n",
    "print(all_column_names)\n",
    "\n",
    "col_to_name_mapping = {}\n",
    "\n",
    "for key, values in column_name_mapping.items():\n",
    "    if isinstance(values, list):\n",
    "        for value in values:\n",
    "            col_to_name_mapping[value] = key\n",
    "    elif isinstance(values, str):\n",
    "        col_to_name_mapping[values] = key\n",
    "\n",
    "subset_columns = list(set(df.columns) & set(col_to_name_mapping.keys()))\n",
    "filtered_mapping = {col: col_to_name_mapping[col] for col in subset_columns}\n",
    "df.rename(columns=filtered_mapping, inplace=True)\n",
    "df\n"
   ]
  },
  {
   "cell_type": "code",
   "execution_count": null,
   "metadata": {},
   "outputs": [],
   "source": [
    "df.to_csv('indicators_clean/clean_indicators_2019.csv')"
   ]
  }
 ],
 "metadata": {
  "kernelspec": {
   "display_name": "base",
   "language": "python",
   "name": "python3"
  },
  "language_info": {
   "codemirror_mode": {
    "name": "ipython",
    "version": 3
   },
   "file_extension": ".py",
   "mimetype": "text/x-python",
   "name": "python",
   "nbconvert_exporter": "python",
   "pygments_lexer": "ipython3",
   "version": "3.11.5"
  }
 },
 "nbformat": 4,
 "nbformat_minor": 2
}
