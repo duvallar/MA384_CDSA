{
 "cells": [
  {
   "cell_type": "code",
   "execution_count": 1,
   "metadata": {},
   "outputs": [
    {
     "data": {
      "text/html": [
       "<div>\n",
       "<style scoped>\n",
       "    .dataframe tbody tr th:only-of-type {\n",
       "        vertical-align: middle;\n",
       "    }\n",
       "\n",
       "    .dataframe tbody tr th {\n",
       "        vertical-align: top;\n",
       "    }\n",
       "\n",
       "    .dataframe thead th {\n",
       "        text-align: right;\n",
       "    }\n",
       "</style>\n",
       "<table border=\"1\" class=\"dataframe\">\n",
       "  <thead>\n",
       "    <tr style=\"text-align: right;\">\n",
       "      <th></th>\n",
       "      <th>GENHLTH</th>\n",
       "      <th>INCOME2</th>\n",
       "      <th>SEX1</th>\n",
       "      <th>CVDSTRK3</th>\n",
       "      <th>PHYSHLTH</th>\n",
       "      <th>DIABETE3</th>\n",
       "      <th>MEDCOST</th>\n",
       "      <th>SMOKE100</th>\n",
       "      <th>_MICHD</th>\n",
       "      <th>MENTHLTH</th>\n",
       "      <th>EDUCA</th>\n",
       "      <th>_AGEG5YR</th>\n",
       "      <th>HLTHPLN1</th>\n",
       "      <th>_TOTINDA</th>\n",
       "      <th>DIFFWALK</th>\n",
       "      <th>_RFDRHV6</th>\n",
       "      <th>_BMI5</th>\n",
       "    </tr>\n",
       "  </thead>\n",
       "  <tbody>\n",
       "    <tr>\n",
       "      <th>0</th>\n",
       "      <td>2.0</td>\n",
       "      <td>6.0</td>\n",
       "      <td>2.0</td>\n",
       "      <td>2.0</td>\n",
       "      <td>30.0</td>\n",
       "      <td>3.0</td>\n",
       "      <td>2.0</td>\n",
       "      <td>2.0</td>\n",
       "      <td>2.0</td>\n",
       "      <td>88.0</td>\n",
       "      <td>6.0</td>\n",
       "      <td>13.0</td>\n",
       "      <td>1.0</td>\n",
       "      <td>2.0</td>\n",
       "      <td>1.0</td>\n",
       "      <td>1.0</td>\n",
       "      <td>2231.0</td>\n",
       "    </tr>\n",
       "    <tr>\n",
       "      <th>1</th>\n",
       "      <td>3.0</td>\n",
       "      <td>4.0</td>\n",
       "      <td>2.0</td>\n",
       "      <td>2.0</td>\n",
       "      <td>88.0</td>\n",
       "      <td>3.0</td>\n",
       "      <td>1.0</td>\n",
       "      <td>1.0</td>\n",
       "      <td>2.0</td>\n",
       "      <td>88.0</td>\n",
       "      <td>6.0</td>\n",
       "      <td>3.0</td>\n",
       "      <td>2.0</td>\n",
       "      <td>1.0</td>\n",
       "      <td>2.0</td>\n",
       "      <td>1.0</td>\n",
       "      <td>3328.0</td>\n",
       "    </tr>\n",
       "    <tr>\n",
       "      <th>2</th>\n",
       "      <td>5.0</td>\n",
       "      <td>3.0</td>\n",
       "      <td>2.0</td>\n",
       "      <td>1.0</td>\n",
       "      <td>10.0</td>\n",
       "      <td>1.0</td>\n",
       "      <td>2.0</td>\n",
       "      <td>2.0</td>\n",
       "      <td>2.0</td>\n",
       "      <td>88.0</td>\n",
       "      <td>4.0</td>\n",
       "      <td>12.0</td>\n",
       "      <td>1.0</td>\n",
       "      <td>1.0</td>\n",
       "      <td>1.0</td>\n",
       "      <td>1.0</td>\n",
       "      <td>2968.0</td>\n",
       "    </tr>\n",
       "    <tr>\n",
       "      <th>3</th>\n",
       "      <td>1.0</td>\n",
       "      <td>3.0</td>\n",
       "      <td>1.0</td>\n",
       "      <td>2.0</td>\n",
       "      <td>88.0</td>\n",
       "      <td>3.0</td>\n",
       "      <td>2.0</td>\n",
       "      <td>2.0</td>\n",
       "      <td>2.0</td>\n",
       "      <td>88.0</td>\n",
       "      <td>4.0</td>\n",
       "      <td>10.0</td>\n",
       "      <td>1.0</td>\n",
       "      <td>1.0</td>\n",
       "      <td>2.0</td>\n",
       "      <td>1.0</td>\n",
       "      <td>2726.0</td>\n",
       "    </tr>\n",
       "    <tr>\n",
       "      <th>4</th>\n",
       "      <td>2.0</td>\n",
       "      <td>99.0</td>\n",
       "      <td>2.0</td>\n",
       "      <td>2.0</td>\n",
       "      <td>88.0</td>\n",
       "      <td>3.0</td>\n",
       "      <td>2.0</td>\n",
       "      <td>2.0</td>\n",
       "      <td>2.0</td>\n",
       "      <td>88.0</td>\n",
       "      <td>6.0</td>\n",
       "      <td>5.0</td>\n",
       "      <td>1.0</td>\n",
       "      <td>2.0</td>\n",
       "      <td>2.0</td>\n",
       "      <td>1.0</td>\n",
       "      <td>NaN</td>\n",
       "    </tr>\n",
       "    <tr>\n",
       "      <th>...</th>\n",
       "      <td>...</td>\n",
       "      <td>...</td>\n",
       "      <td>...</td>\n",
       "      <td>...</td>\n",
       "      <td>...</td>\n",
       "      <td>...</td>\n",
       "      <td>...</td>\n",
       "      <td>...</td>\n",
       "      <td>...</td>\n",
       "      <td>...</td>\n",
       "      <td>...</td>\n",
       "      <td>...</td>\n",
       "      <td>...</td>\n",
       "      <td>...</td>\n",
       "      <td>...</td>\n",
       "      <td>...</td>\n",
       "      <td>...</td>\n",
       "    </tr>\n",
       "    <tr>\n",
       "      <th>437431</th>\n",
       "      <td>1.0</td>\n",
       "      <td>77.0</td>\n",
       "      <td>2.0</td>\n",
       "      <td>2.0</td>\n",
       "      <td>88.0</td>\n",
       "      <td>3.0</td>\n",
       "      <td>2.0</td>\n",
       "      <td>2.0</td>\n",
       "      <td>2.0</td>\n",
       "      <td>30.0</td>\n",
       "      <td>5.0</td>\n",
       "      <td>11.0</td>\n",
       "      <td>1.0</td>\n",
       "      <td>1.0</td>\n",
       "      <td>2.0</td>\n",
       "      <td>1.0</td>\n",
       "      <td>1792.0</td>\n",
       "    </tr>\n",
       "    <tr>\n",
       "      <th>437432</th>\n",
       "      <td>1.0</td>\n",
       "      <td>5.0</td>\n",
       "      <td>2.0</td>\n",
       "      <td>2.0</td>\n",
       "      <td>88.0</td>\n",
       "      <td>3.0</td>\n",
       "      <td>2.0</td>\n",
       "      <td>2.0</td>\n",
       "      <td>2.0</td>\n",
       "      <td>88.0</td>\n",
       "      <td>6.0</td>\n",
       "      <td>10.0</td>\n",
       "      <td>1.0</td>\n",
       "      <td>1.0</td>\n",
       "      <td>2.0</td>\n",
       "      <td>1.0</td>\n",
       "      <td>NaN</td>\n",
       "    </tr>\n",
       "    <tr>\n",
       "      <th>437433</th>\n",
       "      <td>5.0</td>\n",
       "      <td>1.0</td>\n",
       "      <td>2.0</td>\n",
       "      <td>2.0</td>\n",
       "      <td>30.0</td>\n",
       "      <td>3.0</td>\n",
       "      <td>2.0</td>\n",
       "      <td>1.0</td>\n",
       "      <td>2.0</td>\n",
       "      <td>88.0</td>\n",
       "      <td>2.0</td>\n",
       "      <td>12.0</td>\n",
       "      <td>1.0</td>\n",
       "      <td>2.0</td>\n",
       "      <td>1.0</td>\n",
       "      <td>1.0</td>\n",
       "      <td>3047.0</td>\n",
       "    </tr>\n",
       "    <tr>\n",
       "      <th>437434</th>\n",
       "      <td>4.0</td>\n",
       "      <td>3.0</td>\n",
       "      <td>2.0</td>\n",
       "      <td>2.0</td>\n",
       "      <td>88.0</td>\n",
       "      <td>4.0</td>\n",
       "      <td>2.0</td>\n",
       "      <td>1.0</td>\n",
       "      <td>2.0</td>\n",
       "      <td>2.0</td>\n",
       "      <td>6.0</td>\n",
       "      <td>12.0</td>\n",
       "      <td>1.0</td>\n",
       "      <td>1.0</td>\n",
       "      <td>2.0</td>\n",
       "      <td>1.0</td>\n",
       "      <td>2589.0</td>\n",
       "    </tr>\n",
       "    <tr>\n",
       "      <th>437435</th>\n",
       "      <td>3.0</td>\n",
       "      <td>5.0</td>\n",
       "      <td>2.0</td>\n",
       "      <td>2.0</td>\n",
       "      <td>88.0</td>\n",
       "      <td>3.0</td>\n",
       "      <td>2.0</td>\n",
       "      <td>2.0</td>\n",
       "      <td>2.0</td>\n",
       "      <td>30.0</td>\n",
       "      <td>6.0</td>\n",
       "      <td>6.0</td>\n",
       "      <td>1.0</td>\n",
       "      <td>2.0</td>\n",
       "      <td>1.0</td>\n",
       "      <td>1.0</td>\n",
       "      <td>2755.0</td>\n",
       "    </tr>\n",
       "  </tbody>\n",
       "</table>\n",
       "<p>437436 rows × 17 columns</p>\n",
       "</div>"
      ],
      "text/plain": [
       "        GENHLTH  INCOME2  SEX1  CVDSTRK3  PHYSHLTH  DIABETE3  MEDCOST  \\\n",
       "0           2.0      6.0   2.0       2.0      30.0       3.0      2.0   \n",
       "1           3.0      4.0   2.0       2.0      88.0       3.0      1.0   \n",
       "2           5.0      3.0   2.0       1.0      10.0       1.0      2.0   \n",
       "3           1.0      3.0   1.0       2.0      88.0       3.0      2.0   \n",
       "4           2.0     99.0   2.0       2.0      88.0       3.0      2.0   \n",
       "...         ...      ...   ...       ...       ...       ...      ...   \n",
       "437431      1.0     77.0   2.0       2.0      88.0       3.0      2.0   \n",
       "437432      1.0      5.0   2.0       2.0      88.0       3.0      2.0   \n",
       "437433      5.0      1.0   2.0       2.0      30.0       3.0      2.0   \n",
       "437434      4.0      3.0   2.0       2.0      88.0       4.0      2.0   \n",
       "437435      3.0      5.0   2.0       2.0      88.0       3.0      2.0   \n",
       "\n",
       "        SMOKE100  _MICHD  MENTHLTH  EDUCA  _AGEG5YR  HLTHPLN1  _TOTINDA  \\\n",
       "0            2.0     2.0      88.0    6.0      13.0       1.0       2.0   \n",
       "1            1.0     2.0      88.0    6.0       3.0       2.0       1.0   \n",
       "2            2.0     2.0      88.0    4.0      12.0       1.0       1.0   \n",
       "3            2.0     2.0      88.0    4.0      10.0       1.0       1.0   \n",
       "4            2.0     2.0      88.0    6.0       5.0       1.0       2.0   \n",
       "...          ...     ...       ...    ...       ...       ...       ...   \n",
       "437431       2.0     2.0      30.0    5.0      11.0       1.0       1.0   \n",
       "437432       2.0     2.0      88.0    6.0      10.0       1.0       1.0   \n",
       "437433       1.0     2.0      88.0    2.0      12.0       1.0       2.0   \n",
       "437434       1.0     2.0       2.0    6.0      12.0       1.0       1.0   \n",
       "437435       2.0     2.0      30.0    6.0       6.0       1.0       2.0   \n",
       "\n",
       "        DIFFWALK  _RFDRHV6   _BMI5  \n",
       "0            1.0       1.0  2231.0  \n",
       "1            2.0       1.0  3328.0  \n",
       "2            1.0       1.0  2968.0  \n",
       "3            2.0       1.0  2726.0  \n",
       "4            2.0       1.0     NaN  \n",
       "...          ...       ...     ...  \n",
       "437431       2.0       1.0  1792.0  \n",
       "437432       2.0       1.0     NaN  \n",
       "437433       1.0       1.0  3047.0  \n",
       "437434       2.0       1.0  2589.0  \n",
       "437435       1.0       1.0  2755.0  \n",
       "\n",
       "[437436 rows x 17 columns]"
      ]
     },
     "execution_count": 1,
     "metadata": {},
     "output_type": "execute_result"
    }
   ],
   "source": [
    "import pandas as pd\n",
    "\n",
    "df = pd.read_csv('filtered_indicators/2018.csv')\n",
    "pd.set_option('mode.chained_assignment', None)\n",
    "df"
   ]
  },
  {
   "cell_type": "code",
   "execution_count": 2,
   "metadata": {},
   "outputs": [
    {
     "name": "stdout",
     "output_type": "stream",
     "text": [
      "(392571, 17) Percentage Droped:   10.256357501440212\n"
     ]
    }
   ],
   "source": [
    "#Drop Missing Values - knocks 100,000 rows out right away\n",
    "original_row_count = df.shape[0]\n",
    "df = df.dropna()\n",
    "droped_row_count = df.shape[0]\n",
    "print(df.shape, \"Percentage Droped:  \", ((original_row_count -  droped_row_count)/original_row_count) * 100)\n"
   ]
  },
  {
   "cell_type": "code",
   "execution_count": 3,
   "metadata": {},
   "outputs": [],
   "source": [
    "def percentDropped(df_input):\n",
    "    p =100*( (droped_row_count - df.shape[0]) / droped_row_count)\n",
    "    return round(p,2)"
   ]
  },
  {
   "cell_type": "code",
   "execution_count": 4,
   "metadata": {},
   "outputs": [
    {
     "name": "stdout",
     "output_type": "stream",
     "text": [
      "[0. 1.]\n"
     ]
    }
   ],
   "source": [
    "# _MICHD\n",
    "#Change 2 to 0 because this means did not have MI or CHD\n",
    "df['_MICHD'] = df['_MICHD'].replace({2: 0})\n",
    "print(df._MICHD.unique())\n"
   ]
  },
  {
   "cell_type": "code",
   "execution_count": 6,
   "metadata": {},
   "outputs": [],
   "source": [
    "# #1 _RFHYPE5\n",
    "# #Change 1 to 0 so it represetnts No high blood pressure and 2 to 1 so it represents high blood pressure\n",
    "# df['_RFHYPE5'] = df['_RFHYPE5'].replace({1:0, 2:1})\n",
    "# df = df[df._RFHYPE5 != 9]\n",
    "# print(df._RFHYPE5.unique())\n",
    "# print(df.shape, \"    Dropped percent: \" , percentDropped(df), \"    Droped rows:   \", droped_row_count - df.shape[0])\n"
   ]
  },
  {
   "cell_type": "code",
   "execution_count": 8,
   "metadata": {},
   "outputs": [],
   "source": [
    "# #2 TOLDHI2\n",
    "# # Change 2 to 0 because it is No\n",
    "# # Remove all 7 (dont knows)\n",
    "# # Remove all 9 (refused)\n",
    "# df['TOLDHI2'] = df['TOLDHI2'].replace({2:0})\n",
    "# df = df[df.TOLDHI2 != 7]\n",
    "# df = df[df.TOLDHI2 != 9]\n",
    "# print(df.TOLDHI2.unique())\n",
    "# print(df.shape, \"    Dropped percent: \" , percentDropped(df), \"    Droped rows:   \", droped_row_count - df.shape[0])\n"
   ]
  },
  {
   "cell_type": "code",
   "execution_count": 10,
   "metadata": {},
   "outputs": [],
   "source": [
    "# #3 _CHOLCHK\n",
    "# # Change 3 to 0 and 2 to 0 for Not checked cholesterol in past 5 years\n",
    "# # Remove 9\n",
    "# df['_CHOLCH1'] = df['_CHOLCH1'].replace({3:0,2:0})\n",
    "# df = df[df._CHOLCH1 != 9]\n",
    "# print(df._CHOLCH1.unique())\n",
    "# print(df.shape, \"    Dropped percent: \" , percentDropped(df), \"    Droped rows:   \", droped_row_count - df.shape[0])\n"
   ]
  },
  {
   "cell_type": "code",
   "execution_count": 11,
   "metadata": {},
   "outputs": [
    {
     "data": {
      "text/plain": [
       "array([22., 33., 30., 27., 31., 25., 28., 34., 40., 35., 24., 38., 41.,\n",
       "       21., 29., 26., 23., 48., 37., 46., 42., 32., 15., 19., 39., 16.,\n",
       "       45., 20., 18., 36., 17., 53., 43., 44., 57., 49., 47., 69., 52.,\n",
       "       55., 51., 59., 14., 50., 56., 54., 58., 77., 62., 65., 78., 63.,\n",
       "       13., 84., 61., 88., 60., 81., 87., 66., 72., 68., 75., 71., 80.,\n",
       "       67., 98., 76., 64., 12., 70., 74., 73., 94., 83., 79., 86., 90.,\n",
       "       97., 92., 95., 91., 85., 82., 96., 99., 89.])"
      ]
     },
     "execution_count": 11,
     "metadata": {},
     "output_type": "execute_result"
    }
   ],
   "source": [
    "#4 _BMI5 (no changes, just note that these are BMI * 100. So for example a BMI of 4018 is really 40.18)\n",
    "df['_BMI5'] = df['_BMI5'].div(100).round(0)\n",
    "df._BMI5.unique()"
   ]
  },
  {
   "cell_type": "code",
   "execution_count": 12,
   "metadata": {},
   "outputs": [
    {
     "name": "stdout",
     "output_type": "stream",
     "text": [
      "[0. 1.]\n",
      "(390571, 17)     Dropped percent:  0.51     Droped rows:    2000\n"
     ]
    }
   ],
   "source": [
    "#5 SMOKE100\n",
    "# Change 2 to 0 because it is No\n",
    "# Remove all 7 (dont knows)\n",
    "# Remove all 9 (refused)\n",
    "df['SMOKE100'] = df['SMOKE100'].replace({2:0})\n",
    "df = df[df.SMOKE100 != 7]\n",
    "df = df[df.SMOKE100 != 9]\n",
    "print(df.SMOKE100.unique())\n",
    "print(df.shape, \"    Dropped percent: \" , percentDropped(df), \"    Droped rows:   \", droped_row_count - df.shape[0])\n"
   ]
  },
  {
   "cell_type": "code",
   "execution_count": 13,
   "metadata": {},
   "outputs": [
    {
     "name": "stdout",
     "output_type": "stream",
     "text": [
      "[0. 1.]\n",
      "(389758, 17)     Dropped percent:  0.72     Droped rows:    2813\n"
     ]
    }
   ],
   "source": [
    "#6 CVDSTRK3\n",
    "# Change 2 to 0 because it is No\n",
    "# Remove all 7 (dont knows)\n",
    "# Remove all 9 (refused)\n",
    "df['CVDSTRK3'] = df['CVDSTRK3'].replace({2:0})\n",
    "df = df[df.CVDSTRK3 != 7]\n",
    "df = df[df.CVDSTRK3 != 9]\n",
    "print(df.CVDSTRK3.unique())\n",
    "print(df.shape, \"    Dropped percent: \" , percentDropped(df), \"    Droped rows:   \", droped_row_count - df.shape[0])\n"
   ]
  },
  {
   "cell_type": "code",
   "execution_count": 14,
   "metadata": {},
   "outputs": [
    {
     "name": "stdout",
     "output_type": "stream",
     "text": [
      "[0. 2. 1.]\n",
      "(389318, 17)     Dropped percent:  0.83     Droped rows:    3253\n"
     ]
    }
   ],
   "source": [
    "#7 DIABETE3\n",
    "# going to make this ordinal. 0 is for no diabetes or only during pregnancy, 1 is for pre-diabetes or borderline diabetes, 2 is for yes diabetes\n",
    "# Remove all 7 (dont knows)\n",
    "# Remove all 9 (refused)\n",
    "df['DIABETE3'] = df['DIABETE3'].replace({2:0, 3:0, 1:2, 4:1})\n",
    "df = df[df.DIABETE3 != 7]\n",
    "df = df[df.DIABETE3 != 9]\n",
    "print(df.DIABETE3.unique())\n",
    "print(df.shape, \"    Dropped percent: \" , percentDropped(df), \"    Droped rows:   \", droped_row_count - df.shape[0])\n"
   ]
  },
  {
   "cell_type": "code",
   "execution_count": 15,
   "metadata": {},
   "outputs": [
    {
     "name": "stdout",
     "output_type": "stream",
     "text": [
      "[0. 1.]\n",
      "(388848, 17)     Dropped percent:  0.95     Droped rows:    3723\n"
     ]
    }
   ],
   "source": [
    "#8 _TOTINDA\n",
    "# 1 for physical activity\n",
    "# change 2 to 0 for no physical activity\n",
    "# Remove all 9 (don't know/refused)\n",
    "df['_TOTINDA'] = df['_TOTINDA'].replace({2:0})\n",
    "df = df[df._TOTINDA != 9]\n",
    "print(df._TOTINDA.unique())\n",
    "print(df.shape, \"    Dropped percent: \" , percentDropped(df), \"    Droped rows:   \", droped_row_count - df.shape[0])\n"
   ]
  },
  {
   "cell_type": "code",
   "execution_count": 17,
   "metadata": {},
   "outputs": [],
   "source": [
    "# #9 _FRTLT1\n",
    "# # Change 2 to 0. this means no fruit consumed per day. 1 will mean consumed 1 or more pieces of fruit per day \n",
    "# # remove all dont knows and missing 9\n",
    "# df['_FRTLT1A'] = df['_FRTLT1A'].replace({2:0})\n",
    "# df = df[df._FRTLT1A != 9]\n",
    "# print(df._FRTLT1A.unique())\n",
    "# print(df.shape, \"    Dropped percent: \" , percentDropped(df), \"    Droped rows:   \", droped_row_count - df.shape[0])\n"
   ]
  },
  {
   "cell_type": "code",
   "execution_count": 19,
   "metadata": {},
   "outputs": [],
   "source": [
    "# #10 _VEGLT1\n",
    "# # Change 2 to 0. this means no vegetables consumed per day. 1 will mean consumed 1 or more pieces of vegetable per day \n",
    "# # remove all dont knows and missing 9\n",
    "# df['_VEGLT1'] = df['_VEGLT1A'].replace({2:0})\n",
    "# df = df[df._VEGLT1 != 9]\n",
    "# print(df._VEGLT1.unique())\n",
    "# print(df.shape, \"    Dropped percent: \" , percentDropped(df), \"    Droped rows:   \", droped_row_count - df.shape[0])\n"
   ]
  },
  {
   "cell_type": "code",
   "execution_count": 21,
   "metadata": {},
   "outputs": [
    {
     "name": "stdout",
     "output_type": "stream",
     "text": [
      "[0. 1.]\n",
      "(378230, 17)     Dropped percent:  3.65     Droped rows:    14341\n"
     ]
    }
   ],
   "source": [
    "#11 _RFDRHV5\n",
    "# Change 1 to 0 (1 was no for heavy drinking). change all 2 to 1 (2 was yes for heavy drinking)\n",
    "# remove all dont knows and missing 9\n",
    "df['_RFDRHV6'] = df['_RFDRHV6'].replace({1:0, 2:1})\n",
    "df = df[df._RFDRHV6 != 9]\n",
    "print(df._RFDRHV6.unique())\n",
    "print(df.shape, \"    Dropped percent: \" , percentDropped(df), \"    Droped rows:   \", droped_row_count - df.shape[0])\n"
   ]
  },
  {
   "cell_type": "code",
   "execution_count": 22,
   "metadata": {},
   "outputs": [
    {
     "name": "stdout",
     "output_type": "stream",
     "text": [
      "[1. 0.]\n",
      "(376959, 17)     Dropped percent:  3.98     Droped rows:    15612\n"
     ]
    }
   ],
   "source": [
    "#12 HLTHPLN1\n",
    "# 1 is yes, change 2 to 0 because it is No health care access\n",
    "# remove 7 and 9 for don't know or refused\n",
    "df['HLTHPLN1'] = df['HLTHPLN1'].replace({2:0})\n",
    "df = df[df.HLTHPLN1 != 7]\n",
    "df = df[df.HLTHPLN1 != 9]\n",
    "print(df.HLTHPLN1.unique())\n",
    "print(df.shape, \"    Dropped percent: \" , percentDropped(df), \"    Droped rows:   \", droped_row_count - df.shape[0])\n"
   ]
  },
  {
   "cell_type": "code",
   "execution_count": 23,
   "metadata": {},
   "outputs": [
    {
     "name": "stdout",
     "output_type": "stream",
     "text": [
      "[0. 1.]\n",
      "(376203, 17)     Dropped percent:  4.17     Droped rows:    16368\n"
     ]
    }
   ],
   "source": [
    "#13 MEDCOST\n",
    "# Change 2 to 0 for no, 1 is already yes\n",
    "# remove 7 for don/t know and 9 for refused\n",
    "df['MEDCOST'] = df['MEDCOST'].replace({2:0})\n",
    "df = df[df.MEDCOST != 7]\n",
    "df = df[df.MEDCOST != 9]\n",
    "print(df.MEDCOST.unique())\n",
    "print(df.shape, \"    Dropped percent: \" , percentDropped(df), \"    Droped rows:   \", droped_row_count - df.shape[0])\n"
   ]
  },
  {
   "cell_type": "code",
   "execution_count": 24,
   "metadata": {},
   "outputs": [
    {
     "name": "stdout",
     "output_type": "stream",
     "text": [
      "[2. 3. 5. 1. 4.]\n",
      "(375508, 17)     Dropped percent:  4.35     Droped rows:    17063\n"
     ]
    }
   ],
   "source": [
    "#14 GENHLTH\n",
    "# This is an ordinal variable that I want to keep (1 is Excellent -> 5 is Poor)\n",
    "# Remove 7 and 9 for don't know and refused\n",
    "df = df[df.GENHLTH != 7]\n",
    "df = df[df.GENHLTH != 9]\n",
    "print(df.GENHLTH.unique())\n",
    "print(df.shape, \"    Dropped percent: \" , percentDropped(df), \"    Droped rows:   \", droped_row_count - df.shape[0])\n"
   ]
  },
  {
   "cell_type": "code",
   "execution_count": 25,
   "metadata": {},
   "outputs": [
    {
     "name": "stdout",
     "output_type": "stream",
     "text": [
      "[ 0.  2.  1.  3. 30. 10. 20. 15.  4. 28. 21.  7.  5. 14. 25.  8.  6.  9.\n",
      " 29. 12. 11. 13. 16. 17. 27. 19. 18. 26. 22. 24. 23.]\n",
      "(370778, 17)     Dropped percent:  5.55     Droped rows:    21793\n"
     ]
    }
   ],
   "source": [
    "#15 MENTHLTH\n",
    "# already in days so keep that, scale will be 0-30\n",
    "# change 88 to 0 because it means none (no bad mental health days)\n",
    "# remove 77 and 99 for don't know not sure and refused\n",
    "df['MENTHLTH'] = df['MENTHLTH'].replace({88:0})\n",
    "df = df[df.MENTHLTH != 77]\n",
    "df = df[df.MENTHLTH != 99]\n",
    "print(df.MENTHLTH.unique())\n",
    "print(df.shape, \"    Dropped percent: \" , percentDropped(df), \"    Droped rows:   \", droped_row_count - df.shape[0])\n"
   ]
  },
  {
   "cell_type": "code",
   "execution_count": 26,
   "metadata": {},
   "outputs": [
    {
     "name": "stdout",
     "output_type": "stream",
     "text": [
      "[30.  0. 10.  5.  7.  2.  3. 14. 15. 12.  1. 20.  4. 17. 25. 29. 18.  6.\n",
      "  8. 26. 21.  9. 28. 24. 22. 13. 23. 11. 16. 27. 19.]\n",
      "(365704, 17)     Dropped percent:  6.84     Droped rows:    26867\n"
     ]
    }
   ],
   "source": [
    "#16 PHYSHLTH\n",
    "# already in days so keep that, scale will be 0-30\n",
    "# change 88 to 0 because it means none (no bad mental health days)\n",
    "# remove 77 and 99 for don't know not sure and refused\n",
    "df['PHYSHLTH'] = df['PHYSHLTH'].replace({88:0})\n",
    "df = df[df.PHYSHLTH != 77]\n",
    "df = df[df.PHYSHLTH != 99]\n",
    "print(df.PHYSHLTH.unique())\n",
    "print(df.shape, \"    Dropped percent: \" , percentDropped(df), \"    Droped rows:   \", droped_row_count - df.shape[0])\n"
   ]
  },
  {
   "cell_type": "code",
   "execution_count": 27,
   "metadata": {},
   "outputs": [
    {
     "name": "stdout",
     "output_type": "stream",
     "text": [
      "[1. 0.]\n",
      "(364873, 17)     Dropped percent:  7.06     Droped rows:    27698\n"
     ]
    }
   ],
   "source": [
    "#17 DIFFWALK\n",
    "# change 2 to 0 for no. 1 is already yes\n",
    "# remove 7 and 9 for don't know not sure and refused\n",
    "df['DIFFWALK'] = df['DIFFWALK'].replace({2:0})\n",
    "df = df[df.DIFFWALK != 7]\n",
    "df = df[df.DIFFWALK != 9]\n",
    "print(df.DIFFWALK.unique())\n",
    "print(df.shape, \"    Dropped percent: \" , percentDropped(df), \"    Droped rows:   \", droped_row_count - df.shape[0])\n"
   ]
  },
  {
   "cell_type": "code",
   "execution_count": 30,
   "metadata": {},
   "outputs": [
    {
     "name": "stdout",
     "output_type": "stream",
     "text": [
      "[0. 1.]\n",
      "(364573, 17)     Dropped percent:  7.13     Droped rows:    27998\n"
     ]
    }
   ],
   "source": [
    "#18 SEX\n",
    "# in other words - is respondent male (somewhat arbitrarily chose this change because men are at higher risk for heart disease)\n",
    "# change 2 to 0 (female as 0). Male is 1\n",
    "df['SEX1'] = df['SEX1'].replace({2:0})\n",
    "df = df[df.SEX1 != 9]\n",
    "df = df[df.SEX1 != 7]\n",
    "print(df.SEX1.unique())\n",
    "print(df.shape, \"    Dropped percent: \" , percentDropped(df), \"    Droped rows:   \", droped_row_count - df.shape[0])\n"
   ]
  },
  {
   "cell_type": "code",
   "execution_count": 31,
   "metadata": {},
   "outputs": [
    {
     "name": "stdout",
     "output_type": "stream",
     "text": [
      "[13.  3. 12. 10.  6.  8. 11.  7.  4.  9.  1.  2.  5.]\n",
      "(360765, 17)     Dropped percent:  8.1     Droped rows:    31806\n"
     ]
    }
   ],
   "source": [
    "#19 _AGEG5YR\n",
    "# already ordinal. 1 is 18-24 all the way up to 13 wis 80 and older. 5 year increments.\n",
    "# remove 14 because it is don't know or missing\n",
    "df = df[df._AGEG5YR != 14]\n",
    "print(df._AGEG5YR.unique())\n",
    "print(df.shape, \"    Dropped percent: \" , percentDropped(df), \"    Droped rows:   \", droped_row_count - df.shape[0])\n"
   ]
  },
  {
   "cell_type": "code",
   "execution_count": 32,
   "metadata": {},
   "outputs": [
    {
     "name": "stdout",
     "output_type": "stream",
     "text": [
      "[6. 4. 5. 3. 2. 1.]\n",
      "(360363, 17)     Dropped percent:  8.2     Droped rows:    32208\n"
     ]
    }
   ],
   "source": [
    "#20 EDUCA\n",
    "# This is already an ordinal variable with 1 being never attended school or kindergarten only up to 6 being college 4 years or more\n",
    "# Scale here is 1-6\n",
    "# Remove 9 for refused:\n",
    "df = df[df.EDUCA != 9]\n",
    "print(df.EDUCA.unique())\n",
    "print(df.shape, \"    Dropped percent: \" , percentDropped(df), \"    Droped rows:   \", droped_row_count - df.shape[0])\n"
   ]
  },
  {
   "cell_type": "code",
   "execution_count": 33,
   "metadata": {},
   "outputs": [
    {
     "name": "stdout",
     "output_type": "stream",
     "text": [
      "[6. 4. 3. 8. 5. 7. 2. 1.]\n",
      "(314049, 17)     Dropped percent:  20.0     Droped rows:    78522\n"
     ]
    }
   ],
   "source": [
    "#21 INCOME2\n",
    "# Variable is already ordinal with 1 being less than $10,000 all the way up to 8 being $75,000 or more\n",
    "# Remove 77 and 99 for don't know and refused\n",
    "df = df[df.INCOME2 != 77]\n",
    "df = df[df.INCOME2 != 99]\n",
    "print(df.INCOME2.unique())\n",
    "print(df.shape, \"    Dropped percent: \" , percentDropped(df), \"    Droped rows:   \", droped_row_count - df.shape[0])\n"
   ]
  },
  {
   "cell_type": "code",
   "execution_count": 34,
   "metadata": {},
   "outputs": [
    {
     "name": "stdout",
     "output_type": "stream",
     "text": [
      "(314049, 17) Percent Dropped From Start:  28.21  Original Row Count:  437436\n"
     ]
    }
   ],
   "source": [
    "print(df.shape,  \"Percent Dropped From Start: \", round(((original_row_count - df.shape[0]) / original_row_count) * 100, 2), \" Original Row Count: \", original_row_count)"
   ]
  },
  {
   "cell_type": "code",
   "execution_count": 35,
   "metadata": {},
   "outputs": [
    {
     "name": "stdout",
     "output_type": "stream",
     "text": [
      "_MICHD\n",
      "0.0    285425\n",
      "1.0     28624\n",
      "dtype: int64\n",
      "Percent Yes (1.0):  9.11\n"
     ]
    }
   ],
   "source": [
    "#Check Class Sizes of the heart disease column  Note the class imbalance!\n",
    "print(df.groupby(['_MICHD']).size())\n",
    "grp =df.groupby(['_MICHD'])\n",
    "percent_yes = 100*(grp.size()[1.0] / grp.size().sum())\n",
    "print(\"Percent Yes (1.0): \",  round(percent_yes, 2))"
   ]
  },
  {
   "cell_type": "code",
   "execution_count": 36,
   "metadata": {},
   "outputs": [
    {
     "name": "stdout",
     "output_type": "stream",
     "text": [
      "['_MICHD', 'TOLDHI2', 'TOLDHI3', '_FRTLT1', '_FRTLT1A', '_RFHYPE6', '_RFHYPE5', '_VEGLT1A', '_VEGLT1', '_CHOLCHK', '_CHOLCH1', '_CHOLCH2', '_CHOLCH3', 'SEX', 'SEX1', 'SEXVAR', '_RFDRHV5', '_RFDRHV6', '_RFDRHV7', '_RFDRHV8', 'DIABETE3', 'DIABETE4', 'HLTHPLN1', '_HLTHPLN', 'INCOME2', 'INCOME3', 'MEDCOST', 'MEDCOST1', '_BMI5', 'SMOKE100', 'CVDSTRK3', '_TOTINDA', 'GENHLTH', 'MENTHLTH', 'PHYSHLTH', 'DIFFWALK', '_AGEG5YR', 'EDUCA']\n"
     ]
    },
    {
     "data": {
      "text/html": [
       "<div>\n",
       "<style scoped>\n",
       "    .dataframe tbody tr th:only-of-type {\n",
       "        vertical-align: middle;\n",
       "    }\n",
       "\n",
       "    .dataframe tbody tr th {\n",
       "        vertical-align: top;\n",
       "    }\n",
       "\n",
       "    .dataframe thead th {\n",
       "        text-align: right;\n",
       "    }\n",
       "</style>\n",
       "<table border=\"1\" class=\"dataframe\">\n",
       "  <thead>\n",
       "    <tr style=\"text-align: right;\">\n",
       "      <th></th>\n",
       "      <th>GenHlth</th>\n",
       "      <th>Income</th>\n",
       "      <th>Sex</th>\n",
       "      <th>Stroke</th>\n",
       "      <th>PhysHlth</th>\n",
       "      <th>Diabetes</th>\n",
       "      <th>NoDocbcCost</th>\n",
       "      <th>Smoker</th>\n",
       "      <th>HeartDiseaseorAttack</th>\n",
       "      <th>MentHlth</th>\n",
       "      <th>Education</th>\n",
       "      <th>Age</th>\n",
       "      <th>AnyHealthcare</th>\n",
       "      <th>PhysActivity</th>\n",
       "      <th>DiffWalk</th>\n",
       "      <th>HvyAlcoholConsump</th>\n",
       "      <th>BMI</th>\n",
       "    </tr>\n",
       "  </thead>\n",
       "  <tbody>\n",
       "    <tr>\n",
       "      <th>0</th>\n",
       "      <td>2.0</td>\n",
       "      <td>6.0</td>\n",
       "      <td>0.0</td>\n",
       "      <td>0.0</td>\n",
       "      <td>30.0</td>\n",
       "      <td>0.0</td>\n",
       "      <td>0.0</td>\n",
       "      <td>0.0</td>\n",
       "      <td>0.0</td>\n",
       "      <td>0.0</td>\n",
       "      <td>6.0</td>\n",
       "      <td>13.0</td>\n",
       "      <td>1.0</td>\n",
       "      <td>0.0</td>\n",
       "      <td>1.0</td>\n",
       "      <td>0.0</td>\n",
       "      <td>22.0</td>\n",
       "    </tr>\n",
       "    <tr>\n",
       "      <th>1</th>\n",
       "      <td>3.0</td>\n",
       "      <td>4.0</td>\n",
       "      <td>0.0</td>\n",
       "      <td>0.0</td>\n",
       "      <td>0.0</td>\n",
       "      <td>0.0</td>\n",
       "      <td>1.0</td>\n",
       "      <td>1.0</td>\n",
       "      <td>0.0</td>\n",
       "      <td>0.0</td>\n",
       "      <td>6.0</td>\n",
       "      <td>3.0</td>\n",
       "      <td>0.0</td>\n",
       "      <td>1.0</td>\n",
       "      <td>0.0</td>\n",
       "      <td>0.0</td>\n",
       "      <td>33.0</td>\n",
       "    </tr>\n",
       "    <tr>\n",
       "      <th>2</th>\n",
       "      <td>5.0</td>\n",
       "      <td>3.0</td>\n",
       "      <td>0.0</td>\n",
       "      <td>1.0</td>\n",
       "      <td>10.0</td>\n",
       "      <td>2.0</td>\n",
       "      <td>0.0</td>\n",
       "      <td>0.0</td>\n",
       "      <td>0.0</td>\n",
       "      <td>0.0</td>\n",
       "      <td>4.0</td>\n",
       "      <td>12.0</td>\n",
       "      <td>1.0</td>\n",
       "      <td>1.0</td>\n",
       "      <td>1.0</td>\n",
       "      <td>0.0</td>\n",
       "      <td>30.0</td>\n",
       "    </tr>\n",
       "    <tr>\n",
       "      <th>3</th>\n",
       "      <td>1.0</td>\n",
       "      <td>3.0</td>\n",
       "      <td>1.0</td>\n",
       "      <td>0.0</td>\n",
       "      <td>0.0</td>\n",
       "      <td>0.0</td>\n",
       "      <td>0.0</td>\n",
       "      <td>0.0</td>\n",
       "      <td>0.0</td>\n",
       "      <td>0.0</td>\n",
       "      <td>4.0</td>\n",
       "      <td>10.0</td>\n",
       "      <td>1.0</td>\n",
       "      <td>1.0</td>\n",
       "      <td>0.0</td>\n",
       "      <td>0.0</td>\n",
       "      <td>27.0</td>\n",
       "    </tr>\n",
       "    <tr>\n",
       "      <th>6</th>\n",
       "      <td>1.0</td>\n",
       "      <td>8.0</td>\n",
       "      <td>0.0</td>\n",
       "      <td>0.0</td>\n",
       "      <td>0.0</td>\n",
       "      <td>0.0</td>\n",
       "      <td>0.0</td>\n",
       "      <td>0.0</td>\n",
       "      <td>0.0</td>\n",
       "      <td>0.0</td>\n",
       "      <td>6.0</td>\n",
       "      <td>12.0</td>\n",
       "      <td>1.0</td>\n",
       "      <td>1.0</td>\n",
       "      <td>0.0</td>\n",
       "      <td>0.0</td>\n",
       "      <td>25.0</td>\n",
       "    </tr>\n",
       "    <tr>\n",
       "      <th>...</th>\n",
       "      <td>...</td>\n",
       "      <td>...</td>\n",
       "      <td>...</td>\n",
       "      <td>...</td>\n",
       "      <td>...</td>\n",
       "      <td>...</td>\n",
       "      <td>...</td>\n",
       "      <td>...</td>\n",
       "      <td>...</td>\n",
       "      <td>...</td>\n",
       "      <td>...</td>\n",
       "      <td>...</td>\n",
       "      <td>...</td>\n",
       "      <td>...</td>\n",
       "      <td>...</td>\n",
       "      <td>...</td>\n",
       "      <td>...</td>\n",
       "    </tr>\n",
       "    <tr>\n",
       "      <th>437428</th>\n",
       "      <td>2.0</td>\n",
       "      <td>3.0</td>\n",
       "      <td>0.0</td>\n",
       "      <td>0.0</td>\n",
       "      <td>0.0</td>\n",
       "      <td>0.0</td>\n",
       "      <td>0.0</td>\n",
       "      <td>0.0</td>\n",
       "      <td>0.0</td>\n",
       "      <td>0.0</td>\n",
       "      <td>5.0</td>\n",
       "      <td>10.0</td>\n",
       "      <td>1.0</td>\n",
       "      <td>1.0</td>\n",
       "      <td>0.0</td>\n",
       "      <td>0.0</td>\n",
       "      <td>30.0</td>\n",
       "    </tr>\n",
       "    <tr>\n",
       "      <th>437429</th>\n",
       "      <td>3.0</td>\n",
       "      <td>3.0</td>\n",
       "      <td>1.0</td>\n",
       "      <td>0.0</td>\n",
       "      <td>0.0</td>\n",
       "      <td>0.0</td>\n",
       "      <td>0.0</td>\n",
       "      <td>0.0</td>\n",
       "      <td>0.0</td>\n",
       "      <td>0.0</td>\n",
       "      <td>4.0</td>\n",
       "      <td>7.0</td>\n",
       "      <td>1.0</td>\n",
       "      <td>0.0</td>\n",
       "      <td>0.0</td>\n",
       "      <td>0.0</td>\n",
       "      <td>26.0</td>\n",
       "    </tr>\n",
       "    <tr>\n",
       "      <th>437433</th>\n",
       "      <td>5.0</td>\n",
       "      <td>1.0</td>\n",
       "      <td>0.0</td>\n",
       "      <td>0.0</td>\n",
       "      <td>30.0</td>\n",
       "      <td>0.0</td>\n",
       "      <td>0.0</td>\n",
       "      <td>1.0</td>\n",
       "      <td>0.0</td>\n",
       "      <td>0.0</td>\n",
       "      <td>2.0</td>\n",
       "      <td>12.0</td>\n",
       "      <td>1.0</td>\n",
       "      <td>0.0</td>\n",
       "      <td>1.0</td>\n",
       "      <td>0.0</td>\n",
       "      <td>30.0</td>\n",
       "    </tr>\n",
       "    <tr>\n",
       "      <th>437434</th>\n",
       "      <td>4.0</td>\n",
       "      <td>3.0</td>\n",
       "      <td>0.0</td>\n",
       "      <td>0.0</td>\n",
       "      <td>0.0</td>\n",
       "      <td>1.0</td>\n",
       "      <td>0.0</td>\n",
       "      <td>1.0</td>\n",
       "      <td>0.0</td>\n",
       "      <td>2.0</td>\n",
       "      <td>6.0</td>\n",
       "      <td>12.0</td>\n",
       "      <td>1.0</td>\n",
       "      <td>1.0</td>\n",
       "      <td>0.0</td>\n",
       "      <td>0.0</td>\n",
       "      <td>26.0</td>\n",
       "    </tr>\n",
       "    <tr>\n",
       "      <th>437435</th>\n",
       "      <td>3.0</td>\n",
       "      <td>5.0</td>\n",
       "      <td>0.0</td>\n",
       "      <td>0.0</td>\n",
       "      <td>0.0</td>\n",
       "      <td>0.0</td>\n",
       "      <td>0.0</td>\n",
       "      <td>0.0</td>\n",
       "      <td>0.0</td>\n",
       "      <td>30.0</td>\n",
       "      <td>6.0</td>\n",
       "      <td>6.0</td>\n",
       "      <td>1.0</td>\n",
       "      <td>0.0</td>\n",
       "      <td>1.0</td>\n",
       "      <td>0.0</td>\n",
       "      <td>28.0</td>\n",
       "    </tr>\n",
       "  </tbody>\n",
       "</table>\n",
       "<p>314049 rows × 17 columns</p>\n",
       "</div>"
      ],
      "text/plain": [
       "        GenHlth  Income  Sex  Stroke  PhysHlth  Diabetes  NoDocbcCost  Smoker  \\\n",
       "0           2.0     6.0  0.0     0.0      30.0       0.0          0.0     0.0   \n",
       "1           3.0     4.0  0.0     0.0       0.0       0.0          1.0     1.0   \n",
       "2           5.0     3.0  0.0     1.0      10.0       2.0          0.0     0.0   \n",
       "3           1.0     3.0  1.0     0.0       0.0       0.0          0.0     0.0   \n",
       "6           1.0     8.0  0.0     0.0       0.0       0.0          0.0     0.0   \n",
       "...         ...     ...  ...     ...       ...       ...          ...     ...   \n",
       "437428      2.0     3.0  0.0     0.0       0.0       0.0          0.0     0.0   \n",
       "437429      3.0     3.0  1.0     0.0       0.0       0.0          0.0     0.0   \n",
       "437433      5.0     1.0  0.0     0.0      30.0       0.0          0.0     1.0   \n",
       "437434      4.0     3.0  0.0     0.0       0.0       1.0          0.0     1.0   \n",
       "437435      3.0     5.0  0.0     0.0       0.0       0.0          0.0     0.0   \n",
       "\n",
       "        HeartDiseaseorAttack  MentHlth  Education   Age  AnyHealthcare  \\\n",
       "0                        0.0       0.0        6.0  13.0            1.0   \n",
       "1                        0.0       0.0        6.0   3.0            0.0   \n",
       "2                        0.0       0.0        4.0  12.0            1.0   \n",
       "3                        0.0       0.0        4.0  10.0            1.0   \n",
       "6                        0.0       0.0        6.0  12.0            1.0   \n",
       "...                      ...       ...        ...   ...            ...   \n",
       "437428                   0.0       0.0        5.0  10.0            1.0   \n",
       "437429                   0.0       0.0        4.0   7.0            1.0   \n",
       "437433                   0.0       0.0        2.0  12.0            1.0   \n",
       "437434                   0.0       2.0        6.0  12.0            1.0   \n",
       "437435                   0.0      30.0        6.0   6.0            1.0   \n",
       "\n",
       "        PhysActivity  DiffWalk  HvyAlcoholConsump   BMI  \n",
       "0                0.0       1.0                0.0  22.0  \n",
       "1                1.0       0.0                0.0  33.0  \n",
       "2                1.0       1.0                0.0  30.0  \n",
       "3                1.0       0.0                0.0  27.0  \n",
       "6                1.0       0.0                0.0  25.0  \n",
       "...              ...       ...                ...   ...  \n",
       "437428           1.0       0.0                0.0  30.0  \n",
       "437429           0.0       0.0                0.0  26.0  \n",
       "437433           0.0       1.0                0.0  30.0  \n",
       "437434           1.0       0.0                0.0  26.0  \n",
       "437435           0.0       1.0                0.0  28.0  \n",
       "\n",
       "[314049 rows x 17 columns]"
      ]
     },
     "execution_count": 36,
     "metadata": {},
     "output_type": "execute_result"
    }
   ],
   "source": [
    "column_name_mapping = {\n",
    "\n",
    "    'HeartDiseaseorAttack':['_MICHD'],\n",
    "    'HighChol': ['TOLDHI2', 'TOLDHI3'],\n",
    "    'Fruits': ['_FRTLT1', '_FRTLT1A'],\n",
    "    'HighBP': ['_RFHYPE6', '_RFHYPE5'],\n",
    "    \"Veggies\": ['_VEGLT1A', '_VEGLT1' ],\n",
    "    'CholCheck': ['_CHOLCHK', '_CHOLCH1', '_CHOLCH2', '_CHOLCH3' ],\n",
    "    'Sex':['SEX', 'SEX1', 'SEXVAR'],\n",
    "    'HvyAlcoholConsump': ['_RFDRHV5','_RFDRHV6', '_RFDRHV7', '_RFDRHV8'],\n",
    "    'Diabetes': ['DIABETE3', 'DIABETE4'],\n",
    "    'AnyHealthcare': ['HLTHPLN1', '_HLTHPLN'],\n",
    "    'Income': ['INCOME2', 'INCOME3' ],\n",
    "    'NoDocbcCost': ['MEDCOST', 'MEDCOST1' ],\n",
    "    'BMI': ['_BMI5'],\n",
    "    'Smoker': ['SMOKE100'],\n",
    "    'Stroke': ['CVDSTRK3'],\n",
    "    'PhysActivity': ['_TOTINDA' ],\n",
    "    'GenHlth': ['GENHLTH'],\n",
    "    'MentHlth': ['MENTHLTH'],\n",
    "    'PhysHlth': ['PHYSHLTH'],\n",
    "    'DiffWalk': ['DIFFWALK'],\n",
    "    'Age':['_AGEG5YR'],\n",
    "    'Education': ['EDUCA']}\n",
    "\n",
    "all_column_names = []\n",
    "for vals in column_name_mapping.values():\n",
    "    all_column_names += vals\n",
    "print(all_column_names)\n",
    "\n",
    "col_to_name_mapping = {}\n",
    "\n",
    "for key, values in column_name_mapping.items():\n",
    "    if isinstance(values, list):\n",
    "        for value in values:\n",
    "            col_to_name_mapping[value] = key\n",
    "    elif isinstance(values, str):\n",
    "        col_to_name_mapping[values] = key\n",
    "\n",
    "subset_columns = list(set(df.columns) & set(col_to_name_mapping.keys()))\n",
    "filtered_mapping = {col: col_to_name_mapping[col] for col in subset_columns}\n",
    "df.rename(columns=filtered_mapping, inplace=True)\n",
    "df\n"
   ]
  },
  {
   "cell_type": "code",
   "execution_count": null,
   "metadata": {},
   "outputs": [],
   "source": [
    "df.to_csv('indicators_clean/clean_indicators_2018.csv')"
   ]
  }
 ],
 "metadata": {
  "kernelspec": {
   "display_name": "base",
   "language": "python",
   "name": "python3"
  },
  "language_info": {
   "codemirror_mode": {
    "name": "ipython",
    "version": 3
   },
   "file_extension": ".py",
   "mimetype": "text/x-python",
   "name": "python",
   "nbconvert_exporter": "python",
   "pygments_lexer": "ipython3",
   "version": "3.11.5"
  }
 },
 "nbformat": 4,
 "nbformat_minor": 2
}
