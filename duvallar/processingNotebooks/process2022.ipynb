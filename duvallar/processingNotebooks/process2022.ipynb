{
 "cells": [
  {
   "cell_type": "code",
   "execution_count": 1,
   "metadata": {},
   "outputs": [
    {
     "data": {
      "text/html": [
       "<div>\n",
       "<style scoped>\n",
       "    .dataframe tbody tr th:only-of-type {\n",
       "        vertical-align: middle;\n",
       "    }\n",
       "\n",
       "    .dataframe tbody tr th {\n",
       "        vertical-align: top;\n",
       "    }\n",
       "\n",
       "    .dataframe thead th {\n",
       "        text-align: right;\n",
       "    }\n",
       "</style>\n",
       "<table border=\"1\" class=\"dataframe\">\n",
       "  <thead>\n",
       "    <tr style=\"text-align: right;\">\n",
       "      <th></th>\n",
       "      <th>_RFDRHV8</th>\n",
       "      <th>GENHLTH</th>\n",
       "      <th>INCOME3</th>\n",
       "      <th>_HLTHPLN</th>\n",
       "      <th>CVDSTRK3</th>\n",
       "      <th>PHYSHLTH</th>\n",
       "      <th>MEDCOST1</th>\n",
       "      <th>SMOKE100</th>\n",
       "      <th>_MICHD</th>\n",
       "      <th>MENTHLTH</th>\n",
       "      <th>EDUCA</th>\n",
       "      <th>_AGEG5YR</th>\n",
       "      <th>DIABETE4</th>\n",
       "      <th>SEXVAR</th>\n",
       "      <th>_TOTINDA</th>\n",
       "      <th>DIFFWALK</th>\n",
       "      <th>_BMI5</th>\n",
       "    </tr>\n",
       "  </thead>\n",
       "  <tbody>\n",
       "    <tr>\n",
       "      <th>0</th>\n",
       "      <td>1.0</td>\n",
       "      <td>2.0</td>\n",
       "      <td>99.0</td>\n",
       "      <td>9.0</td>\n",
       "      <td>2.0</td>\n",
       "      <td>88.0</td>\n",
       "      <td>2.0</td>\n",
       "      <td>2.0</td>\n",
       "      <td>2.0</td>\n",
       "      <td>88.0</td>\n",
       "      <td>6.0</td>\n",
       "      <td>13.0</td>\n",
       "      <td>1.0</td>\n",
       "      <td>2.0</td>\n",
       "      <td>2.0</td>\n",
       "      <td>2.0</td>\n",
       "      <td>NaN</td>\n",
       "    </tr>\n",
       "    <tr>\n",
       "      <th>1</th>\n",
       "      <td>1.0</td>\n",
       "      <td>1.0</td>\n",
       "      <td>5.0</td>\n",
       "      <td>1.0</td>\n",
       "      <td>2.0</td>\n",
       "      <td>88.0</td>\n",
       "      <td>2.0</td>\n",
       "      <td>2.0</td>\n",
       "      <td>2.0</td>\n",
       "      <td>88.0</td>\n",
       "      <td>4.0</td>\n",
       "      <td>13.0</td>\n",
       "      <td>3.0</td>\n",
       "      <td>2.0</td>\n",
       "      <td>2.0</td>\n",
       "      <td>2.0</td>\n",
       "      <td>2657.0</td>\n",
       "    </tr>\n",
       "    <tr>\n",
       "      <th>2</th>\n",
       "      <td>1.0</td>\n",
       "      <td>2.0</td>\n",
       "      <td>10.0</td>\n",
       "      <td>1.0</td>\n",
       "      <td>2.0</td>\n",
       "      <td>2.0</td>\n",
       "      <td>2.0</td>\n",
       "      <td>2.0</td>\n",
       "      <td>2.0</td>\n",
       "      <td>3.0</td>\n",
       "      <td>6.0</td>\n",
       "      <td>8.0</td>\n",
       "      <td>3.0</td>\n",
       "      <td>2.0</td>\n",
       "      <td>1.0</td>\n",
       "      <td>2.0</td>\n",
       "      <td>2561.0</td>\n",
       "    </tr>\n",
       "    <tr>\n",
       "      <th>3</th>\n",
       "      <td>1.0</td>\n",
       "      <td>1.0</td>\n",
       "      <td>77.0</td>\n",
       "      <td>9.0</td>\n",
       "      <td>2.0</td>\n",
       "      <td>88.0</td>\n",
       "      <td>2.0</td>\n",
       "      <td>1.0</td>\n",
       "      <td>2.0</td>\n",
       "      <td>88.0</td>\n",
       "      <td>4.0</td>\n",
       "      <td>14.0</td>\n",
       "      <td>3.0</td>\n",
       "      <td>2.0</td>\n",
       "      <td>1.0</td>\n",
       "      <td>2.0</td>\n",
       "      <td>2330.0</td>\n",
       "    </tr>\n",
       "    <tr>\n",
       "      <th>4</th>\n",
       "      <td>1.0</td>\n",
       "      <td>4.0</td>\n",
       "      <td>5.0</td>\n",
       "      <td>1.0</td>\n",
       "      <td>2.0</td>\n",
       "      <td>2.0</td>\n",
       "      <td>2.0</td>\n",
       "      <td>2.0</td>\n",
       "      <td>2.0</td>\n",
       "      <td>88.0</td>\n",
       "      <td>5.0</td>\n",
       "      <td>5.0</td>\n",
       "      <td>3.0</td>\n",
       "      <td>2.0</td>\n",
       "      <td>1.0</td>\n",
       "      <td>2.0</td>\n",
       "      <td>2177.0</td>\n",
       "    </tr>\n",
       "    <tr>\n",
       "      <th>...</th>\n",
       "      <td>...</td>\n",
       "      <td>...</td>\n",
       "      <td>...</td>\n",
       "      <td>...</td>\n",
       "      <td>...</td>\n",
       "      <td>...</td>\n",
       "      <td>...</td>\n",
       "      <td>...</td>\n",
       "      <td>...</td>\n",
       "      <td>...</td>\n",
       "      <td>...</td>\n",
       "      <td>...</td>\n",
       "      <td>...</td>\n",
       "      <td>...</td>\n",
       "      <td>...</td>\n",
       "      <td>...</td>\n",
       "      <td>...</td>\n",
       "    </tr>\n",
       "    <tr>\n",
       "      <th>445127</th>\n",
       "      <td>9.0</td>\n",
       "      <td>3.0</td>\n",
       "      <td>1.0</td>\n",
       "      <td>1.0</td>\n",
       "      <td>2.0</td>\n",
       "      <td>88.0</td>\n",
       "      <td>2.0</td>\n",
       "      <td>2.0</td>\n",
       "      <td>2.0</td>\n",
       "      <td>3.0</td>\n",
       "      <td>4.0</td>\n",
       "      <td>1.0</td>\n",
       "      <td>3.0</td>\n",
       "      <td>2.0</td>\n",
       "      <td>1.0</td>\n",
       "      <td>2.0</td>\n",
       "      <td>2563.0</td>\n",
       "    </tr>\n",
       "    <tr>\n",
       "      <th>445128</th>\n",
       "      <td>1.0</td>\n",
       "      <td>1.0</td>\n",
       "      <td>7.0</td>\n",
       "      <td>1.0</td>\n",
       "      <td>2.0</td>\n",
       "      <td>2.0</td>\n",
       "      <td>2.0</td>\n",
       "      <td>2.0</td>\n",
       "      <td>2.0</td>\n",
       "      <td>2.0</td>\n",
       "      <td>6.0</td>\n",
       "      <td>7.0</td>\n",
       "      <td>3.0</td>\n",
       "      <td>2.0</td>\n",
       "      <td>1.0</td>\n",
       "      <td>2.0</td>\n",
       "      <td>2866.0</td>\n",
       "    </tr>\n",
       "    <tr>\n",
       "      <th>445129</th>\n",
       "      <td>9.0</td>\n",
       "      <td>5.0</td>\n",
       "      <td>77.0</td>\n",
       "      <td>2.0</td>\n",
       "      <td>2.0</td>\n",
       "      <td>30.0</td>\n",
       "      <td>1.0</td>\n",
       "      <td>1.0</td>\n",
       "      <td>2.0</td>\n",
       "      <td>30.0</td>\n",
       "      <td>4.0</td>\n",
       "      <td>10.0</td>\n",
       "      <td>3.0</td>\n",
       "      <td>2.0</td>\n",
       "      <td>2.0</td>\n",
       "      <td>2.0</td>\n",
       "      <td>1723.0</td>\n",
       "    </tr>\n",
       "    <tr>\n",
       "      <th>445130</th>\n",
       "      <td>1.0</td>\n",
       "      <td>2.0</td>\n",
       "      <td>8.0</td>\n",
       "      <td>1.0</td>\n",
       "      <td>2.0</td>\n",
       "      <td>88.0</td>\n",
       "      <td>2.0</td>\n",
       "      <td>2.0</td>\n",
       "      <td>1.0</td>\n",
       "      <td>88.0</td>\n",
       "      <td>5.0</td>\n",
       "      <td>11.0</td>\n",
       "      <td>3.0</td>\n",
       "      <td>1.0</td>\n",
       "      <td>2.0</td>\n",
       "      <td>2.0</td>\n",
       "      <td>3255.0</td>\n",
       "    </tr>\n",
       "    <tr>\n",
       "      <th>445131</th>\n",
       "      <td>9.0</td>\n",
       "      <td>2.0</td>\n",
       "      <td>4.0</td>\n",
       "      <td>2.0</td>\n",
       "      <td>2.0</td>\n",
       "      <td>88.0</td>\n",
       "      <td>1.0</td>\n",
       "      <td>1.0</td>\n",
       "      <td>2.0</td>\n",
       "      <td>1.0</td>\n",
       "      <td>3.0</td>\n",
       "      <td>5.0</td>\n",
       "      <td>3.0</td>\n",
       "      <td>1.0</td>\n",
       "      <td>1.0</td>\n",
       "      <td>1.0</td>\n",
       "      <td>2260.0</td>\n",
       "    </tr>\n",
       "  </tbody>\n",
       "</table>\n",
       "<p>445132 rows × 17 columns</p>\n",
       "</div>"
      ],
      "text/plain": [
       "        _RFDRHV8  GENHLTH  INCOME3  _HLTHPLN  CVDSTRK3  PHYSHLTH  MEDCOST1  \\\n",
       "0            1.0      2.0     99.0       9.0       2.0      88.0       2.0   \n",
       "1            1.0      1.0      5.0       1.0       2.0      88.0       2.0   \n",
       "2            1.0      2.0     10.0       1.0       2.0       2.0       2.0   \n",
       "3            1.0      1.0     77.0       9.0       2.0      88.0       2.0   \n",
       "4            1.0      4.0      5.0       1.0       2.0       2.0       2.0   \n",
       "...          ...      ...      ...       ...       ...       ...       ...   \n",
       "445127       9.0      3.0      1.0       1.0       2.0      88.0       2.0   \n",
       "445128       1.0      1.0      7.0       1.0       2.0       2.0       2.0   \n",
       "445129       9.0      5.0     77.0       2.0       2.0      30.0       1.0   \n",
       "445130       1.0      2.0      8.0       1.0       2.0      88.0       2.0   \n",
       "445131       9.0      2.0      4.0       2.0       2.0      88.0       1.0   \n",
       "\n",
       "        SMOKE100  _MICHD  MENTHLTH  EDUCA  _AGEG5YR  DIABETE4  SEXVAR  \\\n",
       "0            2.0     2.0      88.0    6.0      13.0       1.0     2.0   \n",
       "1            2.0     2.0      88.0    4.0      13.0       3.0     2.0   \n",
       "2            2.0     2.0       3.0    6.0       8.0       3.0     2.0   \n",
       "3            1.0     2.0      88.0    4.0      14.0       3.0     2.0   \n",
       "4            2.0     2.0      88.0    5.0       5.0       3.0     2.0   \n",
       "...          ...     ...       ...    ...       ...       ...     ...   \n",
       "445127       2.0     2.0       3.0    4.0       1.0       3.0     2.0   \n",
       "445128       2.0     2.0       2.0    6.0       7.0       3.0     2.0   \n",
       "445129       1.0     2.0      30.0    4.0      10.0       3.0     2.0   \n",
       "445130       2.0     1.0      88.0    5.0      11.0       3.0     1.0   \n",
       "445131       1.0     2.0       1.0    3.0       5.0       3.0     1.0   \n",
       "\n",
       "        _TOTINDA  DIFFWALK   _BMI5  \n",
       "0            2.0       2.0     NaN  \n",
       "1            2.0       2.0  2657.0  \n",
       "2            1.0       2.0  2561.0  \n",
       "3            1.0       2.0  2330.0  \n",
       "4            1.0       2.0  2177.0  \n",
       "...          ...       ...     ...  \n",
       "445127       1.0       2.0  2563.0  \n",
       "445128       1.0       2.0  2866.0  \n",
       "445129       2.0       2.0  1723.0  \n",
       "445130       2.0       2.0  3255.0  \n",
       "445131       1.0       1.0  2260.0  \n",
       "\n",
       "[445132 rows x 17 columns]"
      ]
     },
     "execution_count": 1,
     "metadata": {},
     "output_type": "execute_result"
    }
   ],
   "source": [
    "import pandas as pd\n",
    "\n",
    "df = pd.read_csv('filtered_indicators/2022.csv')\n",
    "pd.set_option('mode.chained_assignment', None)\n",
    "df"
   ]
  },
  {
   "cell_type": "code",
   "execution_count": 2,
   "metadata": {},
   "outputs": [
    {
     "name": "stdout",
     "output_type": "stream",
     "text": [
      "(380530, 17) Percentage Droped:   14.512998391488368\n"
     ]
    }
   ],
   "source": [
    "#Drop Missing Values - knocks 100,000 rows out right away\n",
    "original_row_count = df.shape[0]\n",
    "df = df.dropna()\n",
    "droped_row_count = df.shape[0]\n",
    "print(df.shape, \"Percentage Droped:  \", ((original_row_count -  droped_row_count)/original_row_count) * 100)\n"
   ]
  },
  {
   "cell_type": "code",
   "execution_count": 3,
   "metadata": {},
   "outputs": [],
   "source": [
    "def percentDropped(df_input):\n",
    "    p =100*( (droped_row_count - df.shape[0]) / droped_row_count)\n",
    "    return round(p,2)"
   ]
  },
  {
   "cell_type": "code",
   "execution_count": 4,
   "metadata": {},
   "outputs": [
    {
     "name": "stdout",
     "output_type": "stream",
     "text": [
      "[0. 1.]\n"
     ]
    }
   ],
   "source": [
    "# _MICHD\n",
    "#Change 2 to 0 because this means did not have MI or CHD\n",
    "df['_MICHD'] = df['_MICHD'].replace({2: 0})\n",
    "print(df._MICHD.unique())\n"
   ]
  },
  {
   "cell_type": "code",
   "execution_count": 5,
   "metadata": {},
   "outputs": [],
   "source": [
    "# #1 _RFHYPE5\n",
    "# #Change 1 to 0 so it represetnts No high blood pressure and 2 to 1 so it represents high blood pressure\n",
    "# df['_RFHYPE5'] = df['_RFHYPE5'].replace({1:0, 2:1})\n",
    "# df = df[df._RFHYPE5 != 9]\n",
    "# print(df._RFHYPE5.unique())\n",
    "# print(df.shape, \"    Dropped percent: \" , percentDropped(df), \"    Droped rows:   \", droped_row_count - df.shape[0])\n"
   ]
  },
  {
   "cell_type": "code",
   "execution_count": 6,
   "metadata": {},
   "outputs": [],
   "source": [
    "# #2 TOLDHI2\n",
    "# # Change 2 to 0 because it is No\n",
    "# # Remove all 7 (dont knows)\n",
    "# # Remove all 9 (refused)\n",
    "# df['TOLDHI3'] = df['TOLDHI3'].replace({2:0})\n",
    "# df = df[df.TOLDHI3 != 7]\n",
    "# df = df[df.TOLDHI3 != 9]\n",
    "# print(df.TOLDHI3.unique())\n",
    "# print(df.shape, \"    Dropped percent: \" , percentDropped(df), \"    Droped rows:   \", droped_row_count - df.shape[0])\n"
   ]
  },
  {
   "cell_type": "code",
   "execution_count": 7,
   "metadata": {},
   "outputs": [],
   "source": [
    "# #3 _CHOLCHK\n",
    "# # Change 3 to 0 and 2 to 0 for Not checked cholesterol in past 5 years\n",
    "# # Remove 9\n",
    "# df['_CHOLCH1'] = df['_CHOLCH1'].replace({3:0,2:0})\n",
    "# df = df[df._CHOLCH1 != 9]\n",
    "# print(df._CHOLCH1.unique())\n",
    "# print(df.shape, \"    Dropped percent: \" , percentDropped(df), \"    Droped rows:   \", droped_row_count - df.shape[0])\n"
   ]
  },
  {
   "cell_type": "code",
   "execution_count": 8,
   "metadata": {},
   "outputs": [
    {
     "data": {
      "text/plain": [
       "array([ 27.,  26.,  23.,  22.,  28.,  29.,  33.,  25.,  32.,  45.,  24.,\n",
       "        37.,  31.,  39.,  34.,  19.,  21.,  35.,  38.,  20.,  46.,  13.,\n",
       "        30.,  41.,  36.,  17.,  57.,  47.,  43.,  51.,  18.,  44.,  40.,\n",
       "        50.,  52.,  56.,  42.,  58.,  16.,  49.,  54.,  15.,  92.,  60.,\n",
       "        53.,  48.,  59.,  62.,  55.,  61.,  77.,  68.,  14.,  86.,  63.,\n",
       "        66.,  79.,  64.,  73.,  75.,  69.,  71.,  74.,  12.,  85.,  95.,\n",
       "        67.,  72.,  65.,  76.,  91.,  89.,  70.,  93.,  98.,  80.,  81.,\n",
       "        82.,  96.,  78.,  83.,  87.,  90.,  88.,  84.,  94.,  97., 100.])"
      ]
     },
     "execution_count": 8,
     "metadata": {},
     "output_type": "execute_result"
    }
   ],
   "source": [
    "#4 _BMI5 (no changes, just note that these are BMI * 100. So for example a BMI of 4018 is really 40.18)\n",
    "df['_BMI5'] = df['_BMI5'].div(100).round(0)\n",
    "df._BMI5.unique()"
   ]
  },
  {
   "cell_type": "code",
   "execution_count": 9,
   "metadata": {},
   "outputs": [
    {
     "name": "stdout",
     "output_type": "stream",
     "text": [
      "[0. 1.]\n",
      "(378240, 17)     Dropped percent:  0.6     Droped rows:    2290\n"
     ]
    }
   ],
   "source": [
    "#5 SMOKE100\n",
    "# Change 2 to 0 because it is No\n",
    "# Remove all 7 (dont knows)\n",
    "# Remove all 9 (refused)\n",
    "df['SMOKE100'] = df['SMOKE100'].replace({2:0})\n",
    "df = df[df.SMOKE100 != 7]\n",
    "df = df[df.SMOKE100 != 9]\n",
    "print(df.SMOKE100.unique())\n",
    "print(df.shape, \"    Dropped percent: \" , percentDropped(df), \"    Droped rows:   \", droped_row_count - df.shape[0])\n"
   ]
  },
  {
   "cell_type": "code",
   "execution_count": 10,
   "metadata": {},
   "outputs": [
    {
     "name": "stdout",
     "output_type": "stream",
     "text": [
      "[0. 1.]\n",
      "(377379, 17)     Dropped percent:  0.83     Droped rows:    3151\n"
     ]
    }
   ],
   "source": [
    "#6 CVDSTRK3\n",
    "# Change 2 to 0 because it is No\n",
    "# Remove all 7 (dont knows)\n",
    "# Remove all 9 (refused)\n",
    "df['CVDSTRK3'] = df['CVDSTRK3'].replace({2:0})\n",
    "df = df[df.CVDSTRK3 != 7]\n",
    "df = df[df.CVDSTRK3 != 9]\n",
    "print(df.CVDSTRK3.unique())\n",
    "print(df.shape, \"    Dropped percent: \" , percentDropped(df), \"    Droped rows:   \", droped_row_count - df.shape[0])\n"
   ]
  },
  {
   "cell_type": "code",
   "execution_count": 11,
   "metadata": {},
   "outputs": [
    {
     "name": "stdout",
     "output_type": "stream",
     "text": [
      "[0. 2. 1.]\n",
      "(376829, 17)     Dropped percent:  0.97     Droped rows:    3701\n"
     ]
    }
   ],
   "source": [
    "#7 DIABETE3\n",
    "# going to make this ordinal. 0 is for no diabetes or only during pregnancy, 1 is for pre-diabetes or borderline diabetes, 2 is for yes diabetes\n",
    "# Remove all 7 (dont knows)\n",
    "# Remove all 9 (refused)\n",
    "df['DIABETE4'] = df['DIABETE4'].replace({2:0, 3:0, 1:2, 4:1})\n",
    "df = df[df.DIABETE4 != 7]\n",
    "df = df[df.DIABETE4 != 9]\n",
    "print(df.DIABETE4.unique())\n",
    "print(df.shape, \"    Dropped percent: \" , percentDropped(df), \"    Droped rows:   \", droped_row_count - df.shape[0])\n"
   ]
  },
  {
   "cell_type": "code",
   "execution_count": 12,
   "metadata": {},
   "outputs": [
    {
     "name": "stdout",
     "output_type": "stream",
     "text": [
      "[0. 1.]\n",
      "(376149, 17)     Dropped percent:  1.15     Droped rows:    4381\n"
     ]
    }
   ],
   "source": [
    "#8 _TOTINDA\n",
    "# 1 for physical activity\n",
    "# change 2 to 0 for no physical activity\n",
    "# Remove all 9 (don't know/refused)\n",
    "df['_TOTINDA'] = df['_TOTINDA'].replace({2:0})\n",
    "df = df[df._TOTINDA != 9]\n",
    "print(df._TOTINDA.unique())\n",
    "print(df.shape, \"    Dropped percent: \" , percentDropped(df), \"    Droped rows:   \", droped_row_count - df.shape[0])\n"
   ]
  },
  {
   "cell_type": "code",
   "execution_count": 13,
   "metadata": {},
   "outputs": [
    {
     "data": {
      "text/html": [
       "<div>\n",
       "<style scoped>\n",
       "    .dataframe tbody tr th:only-of-type {\n",
       "        vertical-align: middle;\n",
       "    }\n",
       "\n",
       "    .dataframe tbody tr th {\n",
       "        vertical-align: top;\n",
       "    }\n",
       "\n",
       "    .dataframe thead th {\n",
       "        text-align: right;\n",
       "    }\n",
       "</style>\n",
       "<table border=\"1\" class=\"dataframe\">\n",
       "  <thead>\n",
       "    <tr style=\"text-align: right;\">\n",
       "      <th></th>\n",
       "      <th>_RFDRHV8</th>\n",
       "      <th>GENHLTH</th>\n",
       "      <th>INCOME3</th>\n",
       "      <th>_HLTHPLN</th>\n",
       "      <th>CVDSTRK3</th>\n",
       "      <th>PHYSHLTH</th>\n",
       "      <th>MEDCOST1</th>\n",
       "      <th>SMOKE100</th>\n",
       "      <th>_MICHD</th>\n",
       "      <th>MENTHLTH</th>\n",
       "      <th>EDUCA</th>\n",
       "      <th>_AGEG5YR</th>\n",
       "      <th>DIABETE4</th>\n",
       "      <th>SEXVAR</th>\n",
       "      <th>_TOTINDA</th>\n",
       "      <th>DIFFWALK</th>\n",
       "      <th>_BMI5</th>\n",
       "    </tr>\n",
       "  </thead>\n",
       "  <tbody>\n",
       "    <tr>\n",
       "      <th>1</th>\n",
       "      <td>1.0</td>\n",
       "      <td>1.0</td>\n",
       "      <td>5.0</td>\n",
       "      <td>1.0</td>\n",
       "      <td>0.0</td>\n",
       "      <td>88.0</td>\n",
       "      <td>2.0</td>\n",
       "      <td>0.0</td>\n",
       "      <td>0.0</td>\n",
       "      <td>88.0</td>\n",
       "      <td>4.0</td>\n",
       "      <td>13.0</td>\n",
       "      <td>0.0</td>\n",
       "      <td>2.0</td>\n",
       "      <td>0.0</td>\n",
       "      <td>2.0</td>\n",
       "      <td>27.0</td>\n",
       "    </tr>\n",
       "    <tr>\n",
       "      <th>2</th>\n",
       "      <td>1.0</td>\n",
       "      <td>2.0</td>\n",
       "      <td>10.0</td>\n",
       "      <td>1.0</td>\n",
       "      <td>0.0</td>\n",
       "      <td>2.0</td>\n",
       "      <td>2.0</td>\n",
       "      <td>0.0</td>\n",
       "      <td>0.0</td>\n",
       "      <td>3.0</td>\n",
       "      <td>6.0</td>\n",
       "      <td>8.0</td>\n",
       "      <td>0.0</td>\n",
       "      <td>2.0</td>\n",
       "      <td>1.0</td>\n",
       "      <td>2.0</td>\n",
       "      <td>26.0</td>\n",
       "    </tr>\n",
       "    <tr>\n",
       "      <th>3</th>\n",
       "      <td>1.0</td>\n",
       "      <td>1.0</td>\n",
       "      <td>77.0</td>\n",
       "      <td>9.0</td>\n",
       "      <td>0.0</td>\n",
       "      <td>88.0</td>\n",
       "      <td>2.0</td>\n",
       "      <td>1.0</td>\n",
       "      <td>0.0</td>\n",
       "      <td>88.0</td>\n",
       "      <td>4.0</td>\n",
       "      <td>14.0</td>\n",
       "      <td>0.0</td>\n",
       "      <td>2.0</td>\n",
       "      <td>1.0</td>\n",
       "      <td>2.0</td>\n",
       "      <td>23.0</td>\n",
       "    </tr>\n",
       "    <tr>\n",
       "      <th>4</th>\n",
       "      <td>1.0</td>\n",
       "      <td>4.0</td>\n",
       "      <td>5.0</td>\n",
       "      <td>1.0</td>\n",
       "      <td>0.0</td>\n",
       "      <td>2.0</td>\n",
       "      <td>2.0</td>\n",
       "      <td>0.0</td>\n",
       "      <td>0.0</td>\n",
       "      <td>88.0</td>\n",
       "      <td>5.0</td>\n",
       "      <td>5.0</td>\n",
       "      <td>0.0</td>\n",
       "      <td>2.0</td>\n",
       "      <td>1.0</td>\n",
       "      <td>2.0</td>\n",
       "      <td>22.0</td>\n",
       "    </tr>\n",
       "    <tr>\n",
       "      <th>5</th>\n",
       "      <td>1.0</td>\n",
       "      <td>5.0</td>\n",
       "      <td>99.0</td>\n",
       "      <td>1.0</td>\n",
       "      <td>1.0</td>\n",
       "      <td>1.0</td>\n",
       "      <td>2.0</td>\n",
       "      <td>0.0</td>\n",
       "      <td>1.0</td>\n",
       "      <td>88.0</td>\n",
       "      <td>4.0</td>\n",
       "      <td>13.0</td>\n",
       "      <td>2.0</td>\n",
       "      <td>1.0</td>\n",
       "      <td>0.0</td>\n",
       "      <td>2.0</td>\n",
       "      <td>26.0</td>\n",
       "    </tr>\n",
       "  </tbody>\n",
       "</table>\n",
       "</div>"
      ],
      "text/plain": [
       "   _RFDRHV8  GENHLTH  INCOME3  _HLTHPLN  CVDSTRK3  PHYSHLTH  MEDCOST1  \\\n",
       "1       1.0      1.0      5.0       1.0       0.0      88.0       2.0   \n",
       "2       1.0      2.0     10.0       1.0       0.0       2.0       2.0   \n",
       "3       1.0      1.0     77.0       9.0       0.0      88.0       2.0   \n",
       "4       1.0      4.0      5.0       1.0       0.0       2.0       2.0   \n",
       "5       1.0      5.0     99.0       1.0       1.0       1.0       2.0   \n",
       "\n",
       "   SMOKE100  _MICHD  MENTHLTH  EDUCA  _AGEG5YR  DIABETE4  SEXVAR  _TOTINDA  \\\n",
       "1       0.0     0.0      88.0    4.0      13.0       0.0     2.0       0.0   \n",
       "2       0.0     0.0       3.0    6.0       8.0       0.0     2.0       1.0   \n",
       "3       1.0     0.0      88.0    4.0      14.0       0.0     2.0       1.0   \n",
       "4       0.0     0.0      88.0    5.0       5.0       0.0     2.0       1.0   \n",
       "5       0.0     1.0      88.0    4.0      13.0       2.0     1.0       0.0   \n",
       "\n",
       "   DIFFWALK  _BMI5  \n",
       "1       2.0   27.0  \n",
       "2       2.0   26.0  \n",
       "3       2.0   23.0  \n",
       "4       2.0   22.0  \n",
       "5       2.0   26.0  "
      ]
     },
     "execution_count": 13,
     "metadata": {},
     "output_type": "execute_result"
    }
   ],
   "source": [
    "df.head()"
   ]
  },
  {
   "cell_type": "code",
   "execution_count": 14,
   "metadata": {},
   "outputs": [],
   "source": [
    "# #9 _FRTLT1\n",
    "# # Change 2 to 0. this means no fruit consumed per day. 1 will mean consumed 1 or more pieces of fruit per day \n",
    "# # remove all dont knows and missing 9\n",
    "# df['_FRTLT1'] = df['_FRTLT1'].replace({2:0})\n",
    "# df = df[df._FRTLT1 != 9]\n",
    "# print(df._FRTLT1.unique())\n",
    "# print(df.shape, \"    Dropped percent: \" , percentDropped(df), \"    Droped rows:   \", droped_row_count - df.shape[0])\n"
   ]
  },
  {
   "cell_type": "code",
   "execution_count": 15,
   "metadata": {},
   "outputs": [],
   "source": [
    "# #10 _VEGLT1\n",
    "# # Change 2 to 0. this means no vegetables consumed per day. 1 will mean consumed 1 or more pieces of vegetable per day \n",
    "# # remove all dont knows and missing 9\n",
    "# df['_VEGLT1'] = df['_VEGLT1A'].replace({2:0})\n",
    "# df = df[df._VEGLT1 != 9]\n",
    "# print(df._VEGLT1.unique())\n",
    "# print(df.shape, \"    Dropped percent: \" , percentDropped(df), \"    Droped rows:   \", droped_row_count - df.shape[0])\n"
   ]
  },
  {
   "cell_type": "code",
   "execution_count": 17,
   "metadata": {},
   "outputs": [
    {
     "data": {
      "text/plain": [
       "Index(['_RFDRHV8', 'GENHLTH', 'INCOME3', '_HLTHPLN', 'CVDSTRK3', 'PHYSHLTH',\n",
       "       'MEDCOST1', 'SMOKE100', '_MICHD', 'MENTHLTH', 'EDUCA', '_AGEG5YR',\n",
       "       'DIABETE4', 'SEXVAR', '_TOTINDA', 'DIFFWALK', '_BMI5'],\n",
       "      dtype='object')"
      ]
     },
     "execution_count": 17,
     "metadata": {},
     "output_type": "execute_result"
    }
   ],
   "source": [
    "df.columns"
   ]
  },
  {
   "cell_type": "code",
   "execution_count": 18,
   "metadata": {},
   "outputs": [
    {
     "name": "stdout",
     "output_type": "stream",
     "text": [
      "[0. 1.]\n",
      "(361846, 17)     Dropped percent:  4.91     Droped rows:    18684\n"
     ]
    }
   ],
   "source": [
    "#11 _RFDRHV5\n",
    "# Change 1 to 0 (1 was no for heavy drinking). change all 2 to 1 (2 was yes for heavy drinking)\n",
    "# remove all dont knows and missing 9\n",
    "df['_RFDRHV8'] = df['_RFDRHV8'].replace({1:0, 2:1})\n",
    "df = df[df._RFDRHV8 != 9]\n",
    "print(df._RFDRHV8.unique())\n",
    "print(df.shape, \"    Dropped percent: \" , percentDropped(df), \"    Droped rows:   \", droped_row_count - df.shape[0])\n"
   ]
  },
  {
   "cell_type": "code",
   "execution_count": 21,
   "metadata": {},
   "outputs": [
    {
     "name": "stdout",
     "output_type": "stream",
     "text": [
      "[1. 0.]\n",
      "(350653, 17)     Dropped percent:  7.85     Droped rows:    29877\n"
     ]
    }
   ],
   "source": [
    "#12 HLTHPLN1\n",
    "# 1 is yes, change 2 to 0 because it is No health care access\n",
    "# remove 7 and 9 for don't know or refused\n",
    "df['_HLTHPLN'] = df['_HLTHPLN'].replace({2:0})\n",
    "df = df[df._HLTHPLN != 7]\n",
    "df = df[df._HLTHPLN != 9]\n",
    "print(df._HLTHPLN.unique())\n",
    "print(df.shape, \"    Dropped percent: \" , percentDropped(df), \"    Droped rows:   \", droped_row_count - df.shape[0])\n"
   ]
  },
  {
   "cell_type": "code",
   "execution_count": 23,
   "metadata": {},
   "outputs": [
    {
     "name": "stdout",
     "output_type": "stream",
     "text": [
      "[0. 1.]\n",
      "(349860, 17)     Dropped percent:  8.06     Droped rows:    30670\n"
     ]
    }
   ],
   "source": [
    "#13 MEDCOST\n",
    "# Change 2 to 0 for no, 1 is already yes\n",
    "# remove 7 for don/t know and 9 for refused\n",
    "df['MEDCOST1'] = df['MEDCOST1'].replace({2:0})\n",
    "df = df[df.MEDCOST1 != 7]\n",
    "df = df[df.MEDCOST1 != 9]\n",
    "print(df.MEDCOST1.unique())\n",
    "print(df.shape, \"    Dropped percent: \" , percentDropped(df), \"    Droped rows:   \", droped_row_count - df.shape[0])\n"
   ]
  },
  {
   "cell_type": "code",
   "execution_count": 24,
   "metadata": {},
   "outputs": [
    {
     "name": "stdout",
     "output_type": "stream",
     "text": [
      "[1. 2. 4. 5. 3.]\n",
      "(349238, 17)     Dropped percent:  8.22     Droped rows:    31292\n"
     ]
    }
   ],
   "source": [
    "#14 GENHLTH\n",
    "# This is an ordinal variable that I want to keep (1 is Excellent -> 5 is Poor)\n",
    "# Remove 7 and 9 for don't know and refused\n",
    "df = df[df.GENHLTH != 7]\n",
    "df = df[df.GENHLTH != 9]\n",
    "print(df.GENHLTH.unique())\n",
    "print(df.shape, \"    Dropped percent: \" , percentDropped(df), \"    Droped rows:   \", droped_row_count - df.shape[0])\n"
   ]
  },
  {
   "cell_type": "code",
   "execution_count": 25,
   "metadata": {},
   "outputs": [
    {
     "name": "stdout",
     "output_type": "stream",
     "text": [
      "[ 0.  3.  9.  5. 15. 20. 14. 10. 18.  1.  2. 30.  4.  6.  7. 25.  8. 27.\n",
      " 21. 12. 16. 13. 28. 29. 26. 17. 11. 23. 19. 22. 24.]\n",
      "(343874, 17)     Dropped percent:  9.63     Droped rows:    36656\n"
     ]
    }
   ],
   "source": [
    "#15 MENTHLTH\n",
    "# already in days so keep that, scale will be 0-30\n",
    "# change 88 to 0 because it means none (no bad mental health days)\n",
    "# remove 77 and 99 for don't know not sure and refused\n",
    "df['MENTHLTH'] = df['MENTHLTH'].replace({88:0})\n",
    "df = df[df.MENTHLTH != 77]\n",
    "df = df[df.MENTHLTH != 99]\n",
    "print(df.MENTHLTH.unique())\n",
    "print(df.shape, \"    Dropped percent: \" , percentDropped(df), \"    Droped rows:   \", droped_row_count - df.shape[0])\n"
   ]
  },
  {
   "cell_type": "code",
   "execution_count": 26,
   "metadata": {},
   "outputs": [
    {
     "name": "stdout",
     "output_type": "stream",
     "text": [
      "[ 0.  2.  1.  8.  5. 30.  4. 23. 14. 15.  3. 10.  7. 25.  6. 21. 20. 29.\n",
      " 16.  9. 27. 28. 12. 13. 11. 26. 17. 24. 18. 19. 22.]\n",
      "(338706, 17)     Dropped percent:  10.99     Droped rows:    41824\n"
     ]
    }
   ],
   "source": [
    "#16 PHYSHLTH\n",
    "# already in days so keep that, scale will be 0-30\n",
    "# change 88 to 0 because it means none (no bad mental health days)\n",
    "# remove 77 and 99 for don't know not sure and refused\n",
    "df['PHYSHLTH'] = df['PHYSHLTH'].replace({88:0})\n",
    "df = df[df.PHYSHLTH != 77]\n",
    "df = df[df.PHYSHLTH != 99]\n",
    "print(df.PHYSHLTH.unique())\n",
    "print(df.shape, \"    Dropped percent: \" , percentDropped(df), \"    Droped rows:   \", droped_row_count - df.shape[0])\n"
   ]
  },
  {
   "cell_type": "code",
   "execution_count": 27,
   "metadata": {},
   "outputs": [
    {
     "name": "stdout",
     "output_type": "stream",
     "text": [
      "[0. 1.]\n",
      "(337902, 17)     Dropped percent:  11.2     Droped rows:    42628\n"
     ]
    }
   ],
   "source": [
    "#17 DIFFWALK\n",
    "# change 2 to 0 for no. 1 is already yes\n",
    "# remove 7 and 9 for don't know not sure and refused\n",
    "df['DIFFWALK'] = df['DIFFWALK'].replace({2:0})\n",
    "df = df[df.DIFFWALK != 7]\n",
    "df = df[df.DIFFWALK != 9]\n",
    "print(df.DIFFWALK.unique())\n",
    "print(df.shape, \"    Dropped percent: \" , percentDropped(df), \"    Droped rows:   \", droped_row_count - df.shape[0])\n"
   ]
  },
  {
   "cell_type": "code",
   "execution_count": 29,
   "metadata": {},
   "outputs": [
    {
     "name": "stdout",
     "output_type": "stream",
     "text": [
      "[0. 1.]\n",
      "(337902, 17)     Dropped percent:  11.2     Droped rows:    42628\n"
     ]
    }
   ],
   "source": [
    "#18 SEX\n",
    "# in other words - is respondent male (somewhat arbitrarily chose this change because men are at higher risk for heart disease)\n",
    "# change 2 to 0 (female as 0). Male is 1\n",
    "df['SEXVAR'] = df['SEXVAR'].replace({2:0})\n",
    "df = df[df.SEXVAR != 9]\n",
    "print(df.SEXVAR.unique())\n",
    "print(df.shape, \"    Dropped percent: \" , percentDropped(df), \"    Droped rows:   \", droped_row_count - df.shape[0])\n"
   ]
  },
  {
   "cell_type": "code",
   "execution_count": 30,
   "metadata": {},
   "outputs": [
    {
     "name": "stdout",
     "output_type": "stream",
     "text": [
      "[13.  8.  5. 11. 10.  9. 12.  7.  6.  4.  3.  2.  1.]\n",
      "(334924, 17)     Dropped percent:  11.98     Droped rows:    45606\n"
     ]
    }
   ],
   "source": [
    "#19 _AGEG5YR\n",
    "# already ordinal. 1 is 18-24 all the way up to 13 wis 80 and older. 5 year increments.\n",
    "# remove 14 because it is don't know or missing\n",
    "df = df[df._AGEG5YR != 14]\n",
    "print(df._AGEG5YR.unique())\n",
    "print(df.shape, \"    Dropped percent: \" , percentDropped(df), \"    Droped rows:   \", droped_row_count - df.shape[0])\n"
   ]
  },
  {
   "cell_type": "code",
   "execution_count": 31,
   "metadata": {},
   "outputs": [
    {
     "name": "stdout",
     "output_type": "stream",
     "text": [
      "[4. 6. 5. 3. 2. 1.]\n",
      "(334439, 17)     Dropped percent:  12.11     Droped rows:    46091\n"
     ]
    }
   ],
   "source": [
    "#20 EDUCA\n",
    "# This is already an ordinal variable with 1 being never attended school or kindergarten only up to 6 being college 4 years or more\n",
    "# Scale here is 1-6\n",
    "# Remove 9 for refused:\n",
    "df = df[df.EDUCA != 9]\n",
    "print(df.EDUCA.unique())\n",
    "print(df.shape, \"    Dropped percent: \" , percentDropped(df), \"    Droped rows:   \", droped_row_count - df.shape[0])\n"
   ]
  },
  {
   "cell_type": "code",
   "execution_count": 33,
   "metadata": {},
   "outputs": [
    {
     "data": {
      "text/plain": [
       "Index(['_RFDRHV8', 'GENHLTH', 'INCOME3', '_HLTHPLN', 'CVDSTRK3', 'PHYSHLTH',\n",
       "       'MEDCOST1', 'SMOKE100', '_MICHD', 'MENTHLTH', 'EDUCA', '_AGEG5YR',\n",
       "       'DIABETE4', 'SEXVAR', '_TOTINDA', 'DIFFWALK', '_BMI5'],\n",
       "      dtype='object')"
      ]
     },
     "execution_count": 33,
     "metadata": {},
     "output_type": "execute_result"
    }
   ],
   "source": [
    "df.columns"
   ]
  },
  {
   "cell_type": "code",
   "execution_count": 34,
   "metadata": {},
   "outputs": [
    {
     "name": "stdout",
     "output_type": "stream",
     "text": [
      "[5. 7. 6. 2. 4. 3. 1.]\n",
      "(286769, 17)     Dropped percent:  24.64     Droped rows:    93761\n"
     ]
    }
   ],
   "source": [
    "#21 INCOME2\n",
    "# Variable is already ordinal with 1 being less than $10,000 all the way up to 8 being $75,000 or more\n",
    "# Remove 77 and 99 for don't know and refused\n",
    "df = df[df.INCOME3 != 77]\n",
    "df = df[df.INCOME3 != 99]\n",
    "df.loc[df['INCOME3'] > 7, 'INCOME3'] = 7\n",
    "print(df.INCOME3.unique())\n",
    "print(df.shape, \"    Dropped percent: \" , percentDropped(df), \"    Droped rows:   \", droped_row_count - df.shape[0])\n"
   ]
  },
  {
   "cell_type": "code",
   "execution_count": 35,
   "metadata": {},
   "outputs": [
    {
     "name": "stdout",
     "output_type": "stream",
     "text": [
      "(286769, 17) Percent Dropped From Start:  35.58  Original Row Count:  445132\n"
     ]
    }
   ],
   "source": [
    "print(df.shape,  \"Percent Dropped From Start: \", round(((original_row_count - df.shape[0]) / original_row_count) * 100, 2), \" Original Row Count: \", original_row_count)"
   ]
  },
  {
   "cell_type": "code",
   "execution_count": 36,
   "metadata": {},
   "outputs": [
    {
     "name": "stdout",
     "output_type": "stream",
     "text": [
      "_MICHD\n",
      "0.0    261108\n",
      "1.0     25661\n",
      "dtype: int64\n",
      "Percent Yes (1.0):  8.95\n"
     ]
    }
   ],
   "source": [
    "#Check Class Sizes of the heart disease column  Note the class imbalance!\n",
    "print(df.groupby(['_MICHD']).size())\n",
    "grp =df.groupby(['_MICHD'])\n",
    "percent_yes = 100*(grp.size()[1.0] / grp.size().sum())\n",
    "print(\"Percent Yes (1.0): \",  round(percent_yes, 2))"
   ]
  },
  {
   "cell_type": "code",
   "execution_count": 37,
   "metadata": {},
   "outputs": [
    {
     "name": "stdout",
     "output_type": "stream",
     "text": [
      "['_MICHD', 'TOLDHI2', 'TOLDHI3', '_FRTLT1', '_FRTLT1A', '_RFHYPE6', '_RFHYPE5', '_VEGLT1A', '_VEGLT1', '_CHOLCHK', '_CHOLCH1', '_CHOLCH2', '_CHOLCH3', 'SEX', 'SEX1', 'SEXVAR', '_RFDRHV5', '_RFDRHV6', '_RFDRHV7', '_RFDRHV8', 'DIABETE3', 'DIABETE4', 'HLTHPLN1', '_HLTHPLN', 'INCOME2', 'INCOME3', 'MEDCOST', 'MEDCOST1', '_BMI5', 'SMOKE100', 'CVDSTRK3', '_TOTINDA', 'GENHLTH', 'MENTHLTH', 'PHYSHLTH', 'DIFFWALK', '_AGEG5YR', 'EDUCA']\n"
     ]
    },
    {
     "data": {
      "text/html": [
       "<div>\n",
       "<style scoped>\n",
       "    .dataframe tbody tr th:only-of-type {\n",
       "        vertical-align: middle;\n",
       "    }\n",
       "\n",
       "    .dataframe tbody tr th {\n",
       "        vertical-align: top;\n",
       "    }\n",
       "\n",
       "    .dataframe thead th {\n",
       "        text-align: right;\n",
       "    }\n",
       "</style>\n",
       "<table border=\"1\" class=\"dataframe\">\n",
       "  <thead>\n",
       "    <tr style=\"text-align: right;\">\n",
       "      <th></th>\n",
       "      <th>HvyAlcoholConsump</th>\n",
       "      <th>GenHlth</th>\n",
       "      <th>Income</th>\n",
       "      <th>AnyHealthcare</th>\n",
       "      <th>Stroke</th>\n",
       "      <th>PhysHlth</th>\n",
       "      <th>NoDocbcCost</th>\n",
       "      <th>Smoker</th>\n",
       "      <th>HeartDiseaseorAttack</th>\n",
       "      <th>MentHlth</th>\n",
       "      <th>Education</th>\n",
       "      <th>Age</th>\n",
       "      <th>Diabetes</th>\n",
       "      <th>Sex</th>\n",
       "      <th>PhysActivity</th>\n",
       "      <th>DiffWalk</th>\n",
       "      <th>BMI</th>\n",
       "    </tr>\n",
       "  </thead>\n",
       "  <tbody>\n",
       "    <tr>\n",
       "      <th>1</th>\n",
       "      <td>0.0</td>\n",
       "      <td>1.0</td>\n",
       "      <td>5.0</td>\n",
       "      <td>1.0</td>\n",
       "      <td>0.0</td>\n",
       "      <td>0.0</td>\n",
       "      <td>0.0</td>\n",
       "      <td>0.0</td>\n",
       "      <td>0.0</td>\n",
       "      <td>0.0</td>\n",
       "      <td>4.0</td>\n",
       "      <td>13.0</td>\n",
       "      <td>0.0</td>\n",
       "      <td>0.0</td>\n",
       "      <td>0.0</td>\n",
       "      <td>0.0</td>\n",
       "      <td>27.0</td>\n",
       "    </tr>\n",
       "    <tr>\n",
       "      <th>2</th>\n",
       "      <td>0.0</td>\n",
       "      <td>2.0</td>\n",
       "      <td>7.0</td>\n",
       "      <td>1.0</td>\n",
       "      <td>0.0</td>\n",
       "      <td>2.0</td>\n",
       "      <td>0.0</td>\n",
       "      <td>0.0</td>\n",
       "      <td>0.0</td>\n",
       "      <td>3.0</td>\n",
       "      <td>6.0</td>\n",
       "      <td>8.0</td>\n",
       "      <td>0.0</td>\n",
       "      <td>0.0</td>\n",
       "      <td>1.0</td>\n",
       "      <td>0.0</td>\n",
       "      <td>26.0</td>\n",
       "    </tr>\n",
       "    <tr>\n",
       "      <th>4</th>\n",
       "      <td>0.0</td>\n",
       "      <td>4.0</td>\n",
       "      <td>5.0</td>\n",
       "      <td>1.0</td>\n",
       "      <td>0.0</td>\n",
       "      <td>2.0</td>\n",
       "      <td>0.0</td>\n",
       "      <td>0.0</td>\n",
       "      <td>0.0</td>\n",
       "      <td>0.0</td>\n",
       "      <td>5.0</td>\n",
       "      <td>5.0</td>\n",
       "      <td>0.0</td>\n",
       "      <td>0.0</td>\n",
       "      <td>1.0</td>\n",
       "      <td>0.0</td>\n",
       "      <td>22.0</td>\n",
       "    </tr>\n",
       "    <tr>\n",
       "      <th>6</th>\n",
       "      <td>0.0</td>\n",
       "      <td>2.0</td>\n",
       "      <td>7.0</td>\n",
       "      <td>1.0</td>\n",
       "      <td>0.0</td>\n",
       "      <td>0.0</td>\n",
       "      <td>0.0</td>\n",
       "      <td>1.0</td>\n",
       "      <td>0.0</td>\n",
       "      <td>0.0</td>\n",
       "      <td>6.0</td>\n",
       "      <td>13.0</td>\n",
       "      <td>0.0</td>\n",
       "      <td>0.0</td>\n",
       "      <td>1.0</td>\n",
       "      <td>0.0</td>\n",
       "      <td>23.0</td>\n",
       "    </tr>\n",
       "    <tr>\n",
       "      <th>7</th>\n",
       "      <td>0.0</td>\n",
       "      <td>3.0</td>\n",
       "      <td>7.0</td>\n",
       "      <td>1.0</td>\n",
       "      <td>0.0</td>\n",
       "      <td>0.0</td>\n",
       "      <td>0.0</td>\n",
       "      <td>0.0</td>\n",
       "      <td>0.0</td>\n",
       "      <td>0.0</td>\n",
       "      <td>4.0</td>\n",
       "      <td>13.0</td>\n",
       "      <td>0.0</td>\n",
       "      <td>0.0</td>\n",
       "      <td>0.0</td>\n",
       "      <td>0.0</td>\n",
       "      <td>28.0</td>\n",
       "    </tr>\n",
       "    <tr>\n",
       "      <th>...</th>\n",
       "      <td>...</td>\n",
       "      <td>...</td>\n",
       "      <td>...</td>\n",
       "      <td>...</td>\n",
       "      <td>...</td>\n",
       "      <td>...</td>\n",
       "      <td>...</td>\n",
       "      <td>...</td>\n",
       "      <td>...</td>\n",
       "      <td>...</td>\n",
       "      <td>...</td>\n",
       "      <td>...</td>\n",
       "      <td>...</td>\n",
       "      <td>...</td>\n",
       "      <td>...</td>\n",
       "      <td>...</td>\n",
       "      <td>...</td>\n",
       "    </tr>\n",
       "    <tr>\n",
       "      <th>445123</th>\n",
       "      <td>0.0</td>\n",
       "      <td>4.0</td>\n",
       "      <td>4.0</td>\n",
       "      <td>0.0</td>\n",
       "      <td>0.0</td>\n",
       "      <td>0.0</td>\n",
       "      <td>1.0</td>\n",
       "      <td>0.0</td>\n",
       "      <td>0.0</td>\n",
       "      <td>7.0</td>\n",
       "      <td>6.0</td>\n",
       "      <td>2.0</td>\n",
       "      <td>0.0</td>\n",
       "      <td>0.0</td>\n",
       "      <td>1.0</td>\n",
       "      <td>0.0</td>\n",
       "      <td>24.0</td>\n",
       "    </tr>\n",
       "    <tr>\n",
       "      <th>445124</th>\n",
       "      <td>0.0</td>\n",
       "      <td>3.0</td>\n",
       "      <td>7.0</td>\n",
       "      <td>1.0</td>\n",
       "      <td>1.0</td>\n",
       "      <td>0.0</td>\n",
       "      <td>0.0</td>\n",
       "      <td>0.0</td>\n",
       "      <td>0.0</td>\n",
       "      <td>15.0</td>\n",
       "      <td>6.0</td>\n",
       "      <td>10.0</td>\n",
       "      <td>2.0</td>\n",
       "      <td>1.0</td>\n",
       "      <td>1.0</td>\n",
       "      <td>0.0</td>\n",
       "      <td>30.0</td>\n",
       "    </tr>\n",
       "    <tr>\n",
       "      <th>445126</th>\n",
       "      <td>0.0</td>\n",
       "      <td>3.0</td>\n",
       "      <td>7.0</td>\n",
       "      <td>1.0</td>\n",
       "      <td>0.0</td>\n",
       "      <td>0.0</td>\n",
       "      <td>0.0</td>\n",
       "      <td>0.0</td>\n",
       "      <td>0.0</td>\n",
       "      <td>0.0</td>\n",
       "      <td>6.0</td>\n",
       "      <td>3.0</td>\n",
       "      <td>0.0</td>\n",
       "      <td>1.0</td>\n",
       "      <td>1.0</td>\n",
       "      <td>0.0</td>\n",
       "      <td>31.0</td>\n",
       "    </tr>\n",
       "    <tr>\n",
       "      <th>445128</th>\n",
       "      <td>0.0</td>\n",
       "      <td>1.0</td>\n",
       "      <td>7.0</td>\n",
       "      <td>1.0</td>\n",
       "      <td>0.0</td>\n",
       "      <td>2.0</td>\n",
       "      <td>0.0</td>\n",
       "      <td>0.0</td>\n",
       "      <td>0.0</td>\n",
       "      <td>2.0</td>\n",
       "      <td>6.0</td>\n",
       "      <td>7.0</td>\n",
       "      <td>0.0</td>\n",
       "      <td>0.0</td>\n",
       "      <td>1.0</td>\n",
       "      <td>0.0</td>\n",
       "      <td>29.0</td>\n",
       "    </tr>\n",
       "    <tr>\n",
       "      <th>445130</th>\n",
       "      <td>0.0</td>\n",
       "      <td>2.0</td>\n",
       "      <td>7.0</td>\n",
       "      <td>1.0</td>\n",
       "      <td>0.0</td>\n",
       "      <td>0.0</td>\n",
       "      <td>0.0</td>\n",
       "      <td>0.0</td>\n",
       "      <td>1.0</td>\n",
       "      <td>0.0</td>\n",
       "      <td>5.0</td>\n",
       "      <td>11.0</td>\n",
       "      <td>0.0</td>\n",
       "      <td>1.0</td>\n",
       "      <td>0.0</td>\n",
       "      <td>0.0</td>\n",
       "      <td>33.0</td>\n",
       "    </tr>\n",
       "  </tbody>\n",
       "</table>\n",
       "<p>286769 rows × 17 columns</p>\n",
       "</div>"
      ],
      "text/plain": [
       "        HvyAlcoholConsump  GenHlth  Income  AnyHealthcare  Stroke  PhysHlth  \\\n",
       "1                     0.0      1.0     5.0            1.0     0.0       0.0   \n",
       "2                     0.0      2.0     7.0            1.0     0.0       2.0   \n",
       "4                     0.0      4.0     5.0            1.0     0.0       2.0   \n",
       "6                     0.0      2.0     7.0            1.0     0.0       0.0   \n",
       "7                     0.0      3.0     7.0            1.0     0.0       0.0   \n",
       "...                   ...      ...     ...            ...     ...       ...   \n",
       "445123                0.0      4.0     4.0            0.0     0.0       0.0   \n",
       "445124                0.0      3.0     7.0            1.0     1.0       0.0   \n",
       "445126                0.0      3.0     7.0            1.0     0.0       0.0   \n",
       "445128                0.0      1.0     7.0            1.0     0.0       2.0   \n",
       "445130                0.0      2.0     7.0            1.0     0.0       0.0   \n",
       "\n",
       "        NoDocbcCost  Smoker  HeartDiseaseorAttack  MentHlth  Education   Age  \\\n",
       "1               0.0     0.0                   0.0       0.0        4.0  13.0   \n",
       "2               0.0     0.0                   0.0       3.0        6.0   8.0   \n",
       "4               0.0     0.0                   0.0       0.0        5.0   5.0   \n",
       "6               0.0     1.0                   0.0       0.0        6.0  13.0   \n",
       "7               0.0     0.0                   0.0       0.0        4.0  13.0   \n",
       "...             ...     ...                   ...       ...        ...   ...   \n",
       "445123          1.0     0.0                   0.0       7.0        6.0   2.0   \n",
       "445124          0.0     0.0                   0.0      15.0        6.0  10.0   \n",
       "445126          0.0     0.0                   0.0       0.0        6.0   3.0   \n",
       "445128          0.0     0.0                   0.0       2.0        6.0   7.0   \n",
       "445130          0.0     0.0                   1.0       0.0        5.0  11.0   \n",
       "\n",
       "        Diabetes  Sex  PhysActivity  DiffWalk   BMI  \n",
       "1            0.0  0.0           0.0       0.0  27.0  \n",
       "2            0.0  0.0           1.0       0.0  26.0  \n",
       "4            0.0  0.0           1.0       0.0  22.0  \n",
       "6            0.0  0.0           1.0       0.0  23.0  \n",
       "7            0.0  0.0           0.0       0.0  28.0  \n",
       "...          ...  ...           ...       ...   ...  \n",
       "445123       0.0  0.0           1.0       0.0  24.0  \n",
       "445124       2.0  1.0           1.0       0.0  30.0  \n",
       "445126       0.0  1.0           1.0       0.0  31.0  \n",
       "445128       0.0  0.0           1.0       0.0  29.0  \n",
       "445130       0.0  1.0           0.0       0.0  33.0  \n",
       "\n",
       "[286769 rows x 17 columns]"
      ]
     },
     "execution_count": 37,
     "metadata": {},
     "output_type": "execute_result"
    }
   ],
   "source": [
    "column_name_mapping = {\n",
    "\n",
    "    'HeartDiseaseorAttack':['_MICHD'],\n",
    "    'HighChol': ['TOLDHI2', 'TOLDHI3'],\n",
    "    'Fruits': ['_FRTLT1', '_FRTLT1A'],\n",
    "    'HighBP': ['_RFHYPE6', '_RFHYPE5'],\n",
    "    \"Veggies\": ['_VEGLT1A', '_VEGLT1' ],\n",
    "    'CholCheck': ['_CHOLCHK', '_CHOLCH1', '_CHOLCH2', '_CHOLCH3' ],\n",
    "    'Sex':['SEX', 'SEX1', 'SEXVAR'],\n",
    "    'HvyAlcoholConsump': ['_RFDRHV5','_RFDRHV6', '_RFDRHV7', '_RFDRHV8'],\n",
    "    'Diabetes': ['DIABETE3', 'DIABETE4'],\n",
    "    'AnyHealthcare': ['HLTHPLN1', '_HLTHPLN'],\n",
    "    'Income': ['INCOME2', 'INCOME3' ],\n",
    "    'NoDocbcCost': ['MEDCOST', 'MEDCOST1' ],\n",
    "    'BMI': ['_BMI5'],\n",
    "    'Smoker': ['SMOKE100'],\n",
    "    'Stroke': ['CVDSTRK3'],\n",
    "    'PhysActivity': ['_TOTINDA' ],\n",
    "    'GenHlth': ['GENHLTH'],\n",
    "    'MentHlth': ['MENTHLTH'],\n",
    "    'PhysHlth': ['PHYSHLTH'],\n",
    "    'DiffWalk': ['DIFFWALK'],\n",
    "    'Age':['_AGEG5YR'],\n",
    "    'Education': ['EDUCA']}\n",
    "\n",
    "all_column_names = []\n",
    "for vals in column_name_mapping.values():\n",
    "    all_column_names += vals\n",
    "print(all_column_names)\n",
    "\n",
    "col_to_name_mapping = {}\n",
    "\n",
    "for key, values in column_name_mapping.items():\n",
    "    if isinstance(values, list):\n",
    "        for value in values:\n",
    "            col_to_name_mapping[value] = key\n",
    "    elif isinstance(values, str):\n",
    "        col_to_name_mapping[values] = key\n",
    "\n",
    "subset_columns = list(set(df.columns) & set(col_to_name_mapping.keys()))\n",
    "filtered_mapping = {col: col_to_name_mapping[col] for col in subset_columns}\n",
    "df.rename(columns=filtered_mapping, inplace=True)\n",
    "df\n"
   ]
  },
  {
   "cell_type": "code",
   "execution_count": 38,
   "metadata": {},
   "outputs": [],
   "source": [
    "df.to_csv('indicators_clean/clean_indicators_2022.csv')"
   ]
  }
 ],
 "metadata": {
  "kernelspec": {
   "display_name": "base",
   "language": "python",
   "name": "python3"
  },
  "language_info": {
   "codemirror_mode": {
    "name": "ipython",
    "version": 3
   },
   "file_extension": ".py",
   "mimetype": "text/x-python",
   "name": "python",
   "nbconvert_exporter": "python",
   "pygments_lexer": "ipython3",
   "version": "3.11.5"
  }
 },
 "nbformat": 4,
 "nbformat_minor": 2
}
