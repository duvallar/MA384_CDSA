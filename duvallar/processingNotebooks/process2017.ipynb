{
 "cells": [
  {
   "cell_type": "code",
   "execution_count": 31,
   "metadata": {},
   "outputs": [
    {
     "data": {
      "text/html": [
       "<div>\n",
       "<style scoped>\n",
       "    .dataframe tbody tr th:only-of-type {\n",
       "        vertical-align: middle;\n",
       "    }\n",
       "\n",
       "    .dataframe tbody tr th {\n",
       "        vertical-align: top;\n",
       "    }\n",
       "\n",
       "    .dataframe thead th {\n",
       "        text-align: right;\n",
       "    }\n",
       "</style>\n",
       "<table border=\"1\" class=\"dataframe\">\n",
       "  <thead>\n",
       "    <tr style=\"text-align: right;\">\n",
       "      <th></th>\n",
       "      <th>GENHLTH</th>\n",
       "      <th>INCOME2</th>\n",
       "      <th>SEX</th>\n",
       "      <th>CVDSTRK3</th>\n",
       "      <th>_FRTLT1A</th>\n",
       "      <th>_CHOLCH1</th>\n",
       "      <th>_BMI5</th>\n",
       "      <th>PHYSHLTH</th>\n",
       "      <th>TOLDHI2</th>\n",
       "      <th>MEDCOST</th>\n",
       "      <th>SMOKE100</th>\n",
       "      <th>_RFDRHV5</th>\n",
       "      <th>EDUCA</th>\n",
       "      <th>_VEGLT1A</th>\n",
       "      <th>HLTHPLN1</th>\n",
       "      <th>DIABETE3</th>\n",
       "      <th>_MICHD</th>\n",
       "      <th>MENTHLTH</th>\n",
       "      <th>_RFHYPE5</th>\n",
       "      <th>_AGEG5YR</th>\n",
       "      <th>_TOTINDA</th>\n",
       "      <th>DIFFWALK</th>\n",
       "    </tr>\n",
       "  </thead>\n",
       "  <tbody>\n",
       "    <tr>\n",
       "      <th>0</th>\n",
       "      <td>2.0</td>\n",
       "      <td>6.0</td>\n",
       "      <td>2.0</td>\n",
       "      <td>2.0</td>\n",
       "      <td>1.0</td>\n",
       "      <td>1.0</td>\n",
       "      <td>2696.0</td>\n",
       "      <td>88.0</td>\n",
       "      <td>1.0</td>\n",
       "      <td>2.0</td>\n",
       "      <td>2.0</td>\n",
       "      <td>1.0</td>\n",
       "      <td>6.0</td>\n",
       "      <td>1.0</td>\n",
       "      <td>1.0</td>\n",
       "      <td>1.0</td>\n",
       "      <td>2.0</td>\n",
       "      <td>88.0</td>\n",
       "      <td>2.0</td>\n",
       "      <td>11.0</td>\n",
       "      <td>1.0</td>\n",
       "      <td>1.0</td>\n",
       "    </tr>\n",
       "    <tr>\n",
       "      <th>1</th>\n",
       "      <td>2.0</td>\n",
       "      <td>8.0</td>\n",
       "      <td>1.0</td>\n",
       "      <td>2.0</td>\n",
       "      <td>1.0</td>\n",
       "      <td>1.0</td>\n",
       "      <td>2943.0</td>\n",
       "      <td>88.0</td>\n",
       "      <td>2.0</td>\n",
       "      <td>2.0</td>\n",
       "      <td>2.0</td>\n",
       "      <td>1.0</td>\n",
       "      <td>6.0</td>\n",
       "      <td>1.0</td>\n",
       "      <td>1.0</td>\n",
       "      <td>3.0</td>\n",
       "      <td>2.0</td>\n",
       "      <td>88.0</td>\n",
       "      <td>2.0</td>\n",
       "      <td>10.0</td>\n",
       "      <td>1.0</td>\n",
       "      <td>2.0</td>\n",
       "    </tr>\n",
       "    <tr>\n",
       "      <th>2</th>\n",
       "      <td>3.0</td>\n",
       "      <td>99.0</td>\n",
       "      <td>1.0</td>\n",
       "      <td>2.0</td>\n",
       "      <td>2.0</td>\n",
       "      <td>1.0</td>\n",
       "      <td>2504.0</td>\n",
       "      <td>88.0</td>\n",
       "      <td>1.0</td>\n",
       "      <td>2.0</td>\n",
       "      <td>2.0</td>\n",
       "      <td>1.0</td>\n",
       "      <td>2.0</td>\n",
       "      <td>2.0</td>\n",
       "      <td>1.0</td>\n",
       "      <td>3.0</td>\n",
       "      <td>2.0</td>\n",
       "      <td>88.0</td>\n",
       "      <td>1.0</td>\n",
       "      <td>11.0</td>\n",
       "      <td>2.0</td>\n",
       "      <td>2.0</td>\n",
       "    </tr>\n",
       "    <tr>\n",
       "      <th>3</th>\n",
       "      <td>4.0</td>\n",
       "      <td>1.0</td>\n",
       "      <td>2.0</td>\n",
       "      <td>2.0</td>\n",
       "      <td>2.0</td>\n",
       "      <td>1.0</td>\n",
       "      <td>2663.0</td>\n",
       "      <td>88.0</td>\n",
       "      <td>1.0</td>\n",
       "      <td>2.0</td>\n",
       "      <td>2.0</td>\n",
       "      <td>1.0</td>\n",
       "      <td>3.0</td>\n",
       "      <td>9.0</td>\n",
       "      <td>1.0</td>\n",
       "      <td>1.0</td>\n",
       "      <td>2.0</td>\n",
       "      <td>88.0</td>\n",
       "      <td>2.0</td>\n",
       "      <td>11.0</td>\n",
       "      <td>9.0</td>\n",
       "      <td>2.0</td>\n",
       "    </tr>\n",
       "    <tr>\n",
       "      <th>4</th>\n",
       "      <td>4.0</td>\n",
       "      <td>2.0</td>\n",
       "      <td>2.0</td>\n",
       "      <td>2.0</td>\n",
       "      <td>1.0</td>\n",
       "      <td>1.0</td>\n",
       "      <td>2330.0</td>\n",
       "      <td>14.0</td>\n",
       "      <td>2.0</td>\n",
       "      <td>2.0</td>\n",
       "      <td>1.0</td>\n",
       "      <td>1.0</td>\n",
       "      <td>2.0</td>\n",
       "      <td>2.0</td>\n",
       "      <td>1.0</td>\n",
       "      <td>3.0</td>\n",
       "      <td>2.0</td>\n",
       "      <td>88.0</td>\n",
       "      <td>1.0</td>\n",
       "      <td>10.0</td>\n",
       "      <td>2.0</td>\n",
       "      <td>2.0</td>\n",
       "    </tr>\n",
       "    <tr>\n",
       "      <th>...</th>\n",
       "      <td>...</td>\n",
       "      <td>...</td>\n",
       "      <td>...</td>\n",
       "      <td>...</td>\n",
       "      <td>...</td>\n",
       "      <td>...</td>\n",
       "      <td>...</td>\n",
       "      <td>...</td>\n",
       "      <td>...</td>\n",
       "      <td>...</td>\n",
       "      <td>...</td>\n",
       "      <td>...</td>\n",
       "      <td>...</td>\n",
       "      <td>...</td>\n",
       "      <td>...</td>\n",
       "      <td>...</td>\n",
       "      <td>...</td>\n",
       "      <td>...</td>\n",
       "      <td>...</td>\n",
       "      <td>...</td>\n",
       "      <td>...</td>\n",
       "      <td>...</td>\n",
       "    </tr>\n",
       "    <tr>\n",
       "      <th>450011</th>\n",
       "      <td>3.0</td>\n",
       "      <td>77.0</td>\n",
       "      <td>2.0</td>\n",
       "      <td>2.0</td>\n",
       "      <td>1.0</td>\n",
       "      <td>1.0</td>\n",
       "      <td>2569.0</td>\n",
       "      <td>88.0</td>\n",
       "      <td>2.0</td>\n",
       "      <td>1.0</td>\n",
       "      <td>2.0</td>\n",
       "      <td>1.0</td>\n",
       "      <td>5.0</td>\n",
       "      <td>1.0</td>\n",
       "      <td>1.0</td>\n",
       "      <td>3.0</td>\n",
       "      <td>2.0</td>\n",
       "      <td>88.0</td>\n",
       "      <td>1.0</td>\n",
       "      <td>3.0</td>\n",
       "      <td>1.0</td>\n",
       "      <td>2.0</td>\n",
       "    </tr>\n",
       "    <tr>\n",
       "      <th>450012</th>\n",
       "      <td>4.0</td>\n",
       "      <td>2.0</td>\n",
       "      <td>1.0</td>\n",
       "      <td>2.0</td>\n",
       "      <td>2.0</td>\n",
       "      <td>1.0</td>\n",
       "      <td>2129.0</td>\n",
       "      <td>88.0</td>\n",
       "      <td>1.0</td>\n",
       "      <td>1.0</td>\n",
       "      <td>2.0</td>\n",
       "      <td>1.0</td>\n",
       "      <td>4.0</td>\n",
       "      <td>1.0</td>\n",
       "      <td>1.0</td>\n",
       "      <td>3.0</td>\n",
       "      <td>2.0</td>\n",
       "      <td>5.0</td>\n",
       "      <td>2.0</td>\n",
       "      <td>13.0</td>\n",
       "      <td>2.0</td>\n",
       "      <td>1.0</td>\n",
       "    </tr>\n",
       "    <tr>\n",
       "      <th>450013</th>\n",
       "      <td>3.0</td>\n",
       "      <td>7.0</td>\n",
       "      <td>1.0</td>\n",
       "      <td>2.0</td>\n",
       "      <td>2.0</td>\n",
       "      <td>1.0</td>\n",
       "      <td>3228.0</td>\n",
       "      <td>88.0</td>\n",
       "      <td>1.0</td>\n",
       "      <td>2.0</td>\n",
       "      <td>2.0</td>\n",
       "      <td>1.0</td>\n",
       "      <td>6.0</td>\n",
       "      <td>1.0</td>\n",
       "      <td>1.0</td>\n",
       "      <td>3.0</td>\n",
       "      <td>2.0</td>\n",
       "      <td>88.0</td>\n",
       "      <td>2.0</td>\n",
       "      <td>7.0</td>\n",
       "      <td>2.0</td>\n",
       "      <td>2.0</td>\n",
       "    </tr>\n",
       "    <tr>\n",
       "      <th>450014</th>\n",
       "      <td>4.0</td>\n",
       "      <td>1.0</td>\n",
       "      <td>2.0</td>\n",
       "      <td>2.0</td>\n",
       "      <td>2.0</td>\n",
       "      <td>9.0</td>\n",
       "      <td>3328.0</td>\n",
       "      <td>88.0</td>\n",
       "      <td>1.0</td>\n",
       "      <td>2.0</td>\n",
       "      <td>1.0</td>\n",
       "      <td>1.0</td>\n",
       "      <td>5.0</td>\n",
       "      <td>2.0</td>\n",
       "      <td>1.0</td>\n",
       "      <td>1.0</td>\n",
       "      <td>2.0</td>\n",
       "      <td>88.0</td>\n",
       "      <td>1.0</td>\n",
       "      <td>3.0</td>\n",
       "      <td>2.0</td>\n",
       "      <td>2.0</td>\n",
       "    </tr>\n",
       "    <tr>\n",
       "      <th>450015</th>\n",
       "      <td>3.0</td>\n",
       "      <td>6.0</td>\n",
       "      <td>2.0</td>\n",
       "      <td>2.0</td>\n",
       "      <td>2.0</td>\n",
       "      <td>1.0</td>\n",
       "      <td>2995.0</td>\n",
       "      <td>88.0</td>\n",
       "      <td>1.0</td>\n",
       "      <td>2.0</td>\n",
       "      <td>2.0</td>\n",
       "      <td>1.0</td>\n",
       "      <td>6.0</td>\n",
       "      <td>2.0</td>\n",
       "      <td>1.0</td>\n",
       "      <td>3.0</td>\n",
       "      <td>2.0</td>\n",
       "      <td>88.0</td>\n",
       "      <td>1.0</td>\n",
       "      <td>2.0</td>\n",
       "      <td>2.0</td>\n",
       "      <td>2.0</td>\n",
       "    </tr>\n",
       "  </tbody>\n",
       "</table>\n",
       "<p>450016 rows × 22 columns</p>\n",
       "</div>"
      ],
      "text/plain": [
       "        GENHLTH  INCOME2  SEX  CVDSTRK3  _FRTLT1A  _CHOLCH1   _BMI5  PHYSHLTH  \\\n",
       "0           2.0      6.0  2.0       2.0       1.0       1.0  2696.0      88.0   \n",
       "1           2.0      8.0  1.0       2.0       1.0       1.0  2943.0      88.0   \n",
       "2           3.0     99.0  1.0       2.0       2.0       1.0  2504.0      88.0   \n",
       "3           4.0      1.0  2.0       2.0       2.0       1.0  2663.0      88.0   \n",
       "4           4.0      2.0  2.0       2.0       1.0       1.0  2330.0      14.0   \n",
       "...         ...      ...  ...       ...       ...       ...     ...       ...   \n",
       "450011      3.0     77.0  2.0       2.0       1.0       1.0  2569.0      88.0   \n",
       "450012      4.0      2.0  1.0       2.0       2.0       1.0  2129.0      88.0   \n",
       "450013      3.0      7.0  1.0       2.0       2.0       1.0  3228.0      88.0   \n",
       "450014      4.0      1.0  2.0       2.0       2.0       9.0  3328.0      88.0   \n",
       "450015      3.0      6.0  2.0       2.0       2.0       1.0  2995.0      88.0   \n",
       "\n",
       "        TOLDHI2  MEDCOST  SMOKE100  _RFDRHV5  EDUCA  _VEGLT1A  HLTHPLN1  \\\n",
       "0           1.0      2.0       2.0       1.0    6.0       1.0       1.0   \n",
       "1           2.0      2.0       2.0       1.0    6.0       1.0       1.0   \n",
       "2           1.0      2.0       2.0       1.0    2.0       2.0       1.0   \n",
       "3           1.0      2.0       2.0       1.0    3.0       9.0       1.0   \n",
       "4           2.0      2.0       1.0       1.0    2.0       2.0       1.0   \n",
       "...         ...      ...       ...       ...    ...       ...       ...   \n",
       "450011      2.0      1.0       2.0       1.0    5.0       1.0       1.0   \n",
       "450012      1.0      1.0       2.0       1.0    4.0       1.0       1.0   \n",
       "450013      1.0      2.0       2.0       1.0    6.0       1.0       1.0   \n",
       "450014      1.0      2.0       1.0       1.0    5.0       2.0       1.0   \n",
       "450015      1.0      2.0       2.0       1.0    6.0       2.0       1.0   \n",
       "\n",
       "        DIABETE3  _MICHD  MENTHLTH  _RFHYPE5  _AGEG5YR  _TOTINDA  DIFFWALK  \n",
       "0            1.0     2.0      88.0       2.0      11.0       1.0       1.0  \n",
       "1            3.0     2.0      88.0       2.0      10.0       1.0       2.0  \n",
       "2            3.0     2.0      88.0       1.0      11.0       2.0       2.0  \n",
       "3            1.0     2.0      88.0       2.0      11.0       9.0       2.0  \n",
       "4            3.0     2.0      88.0       1.0      10.0       2.0       2.0  \n",
       "...          ...     ...       ...       ...       ...       ...       ...  \n",
       "450011       3.0     2.0      88.0       1.0       3.0       1.0       2.0  \n",
       "450012       3.0     2.0       5.0       2.0      13.0       2.0       1.0  \n",
       "450013       3.0     2.0      88.0       2.0       7.0       2.0       2.0  \n",
       "450014       1.0     2.0      88.0       1.0       3.0       2.0       2.0  \n",
       "450015       3.0     2.0      88.0       1.0       2.0       2.0       2.0  \n",
       "\n",
       "[450016 rows x 22 columns]"
      ]
     },
     "execution_count": 31,
     "metadata": {},
     "output_type": "execute_result"
    }
   ],
   "source": [
    "import pandas as pd\n",
    "\n",
    "df = pd.read_csv('../filtered_indicators/2017.csv')\n",
    "pd.set_option('display.max_columns', None)\n",
    "pd.set_option('mode.chained_assignment', None)\n",
    "df"
   ]
  },
  {
   "cell_type": "code",
   "execution_count": 32,
   "metadata": {},
   "outputs": [
    {
     "name": "stdout",
     "output_type": "stream",
     "text": [
      "(378115, 22) Percentage Droped:   15.977431913531964\n"
     ]
    }
   ],
   "source": [
    "#Drop Missing Values - knocks 100,000 rows out right away\n",
    "original_row_count = df.shape[0]\n",
    "df = df.dropna()\n",
    "droped_row_count = df.shape[0]\n",
    "print(df.shape, \"Percentage Droped:  \", ((original_row_count -  droped_row_count)/original_row_count) * 100)\n"
   ]
  },
  {
   "cell_type": "code",
   "execution_count": 33,
   "metadata": {},
   "outputs": [],
   "source": [
    "def percentDropped(df_input):\n",
    "    p =100*( (droped_row_count - df.shape[0]) / droped_row_count)\n",
    "    return round(p,2)"
   ]
  },
  {
   "cell_type": "code",
   "execution_count": 34,
   "metadata": {},
   "outputs": [
    {
     "name": "stdout",
     "output_type": "stream",
     "text": [
      "[0. 1.]\n"
     ]
    }
   ],
   "source": [
    "# _MICHD\n",
    "#Change 2 to 0 because this means did not have MI or CHD\n",
    "df['_MICHD'] = df['_MICHD'].replace({2: 0})\n",
    "print(df._MICHD.unique())\n"
   ]
  },
  {
   "cell_type": "code",
   "execution_count": 35,
   "metadata": {},
   "outputs": [
    {
     "name": "stdout",
     "output_type": "stream",
     "text": [
      "[1. 0.]\n",
      "(377266, 22)     Dropped percent:  0.22     Droped rows:    849\n"
     ]
    }
   ],
   "source": [
    "#1 _RFHYPE5\n",
    "#Change 1 to 0 so it represetnts No high blood pressure and 2 to 1 so it represents high blood pressure\n",
    "df['_RFHYPE5'] = df['_RFHYPE5'].replace({1:0, 2:1})\n",
    "df = df[df._RFHYPE5 != 9]\n",
    "print(df._RFHYPE5.unique())\n",
    "print(df.shape, \"    Dropped percent: \" , percentDropped(df), \"    Droped rows:   \", droped_row_count - df.shape[0])\n"
   ]
  },
  {
   "cell_type": "code",
   "execution_count": 36,
   "metadata": {},
   "outputs": [
    {
     "name": "stdout",
     "output_type": "stream",
     "text": [
      "[1. 0.]\n",
      "(374016, 22)     Dropped percent:  1.08     Droped rows:    4099\n"
     ]
    }
   ],
   "source": [
    "#2 TOLDHI2\n",
    "# Change 2 to 0 because it is No\n",
    "# Remove all 7 (dont knows)\n",
    "# Remove all 9 (refused)\n",
    "df['TOLDHI2'] = df['TOLDHI2'].replace({2:0})\n",
    "df = df[df.TOLDHI2 != 7]\n",
    "df = df[df.TOLDHI2 != 9]\n",
    "print(df.TOLDHI2.unique())\n",
    "print(df.shape, \"    Dropped percent: \" , percentDropped(df), \"    Droped rows:   \", droped_row_count - df.shape[0])\n"
   ]
  },
  {
   "cell_type": "code",
   "execution_count": 37,
   "metadata": {},
   "outputs": [
    {
     "name": "stdout",
     "output_type": "stream",
     "text": [
      "[1. 0.]\n",
      "(357458, 22)     Dropped percent:  5.46     Droped rows:    20657\n"
     ]
    }
   ],
   "source": [
    "#3 _CHOLCHK\n",
    "# Change 3 to 0 and 2 to 0 for Not checked cholesterol in past 5 years\n",
    "# Remove 9\n",
    "df['_CHOLCH1'] = df['_CHOLCH1'].replace({3:0,2:0})\n",
    "df = df[df._CHOLCH1 != 9]\n",
    "print(df._CHOLCH1.unique())\n",
    "print(df.shape, \"    Dropped percent: \" , percentDropped(df), \"    Droped rows:   \", droped_row_count - df.shape[0])\n"
   ]
  },
  {
   "cell_type": "code",
   "execution_count": 38,
   "metadata": {},
   "outputs": [
    {
     "data": {
      "text/plain": [
       "array([27., 29., 25., 23., 28., 22., 24., 34., 20., 21., 30., 32., 40.,\n",
       "       47., 18., 36., 33., 37., 16., 17., 38., 26., 19., 53., 31., 43.,\n",
       "       49., 35., 41., 45., 39., 42., 51., 54., 46., 52., 55., 44., 50.,\n",
       "       57., 56., 48., 62., 15., 63., 66., 14., 60., 59., 58., 61., 71.,\n",
       "       13., 69., 65., 93., 64., 73., 68., 97., 74., 83., 67., 72., 70.,\n",
       "       12., 81., 78., 98., 84., 86., 77., 82., 89., 90., 76., 88., 94.,\n",
       "       75., 80., 92., 87., 79., 99., 85.])"
      ]
     },
     "execution_count": 38,
     "metadata": {},
     "output_type": "execute_result"
    }
   ],
   "source": [
    "#4 _BMI5 (no changes, just note that these are BMI * 100. So for example a BMI of 4018 is really 40.18)\n",
    "df['_BMI5'] = df['_BMI5'].div(100).round(0)\n",
    "df._BMI5.unique()"
   ]
  },
  {
   "cell_type": "code",
   "execution_count": 39,
   "metadata": {},
   "outputs": [
    {
     "name": "stdout",
     "output_type": "stream",
     "text": [
      "[0. 1.]\n",
      "(355872, 22)     Dropped percent:  5.88     Droped rows:    22243\n"
     ]
    }
   ],
   "source": [
    "#5 SMOKE100\n",
    "# Change 2 to 0 because it is No\n",
    "# Remove all 7 (dont knows)\n",
    "# Remove all 9 (refused)\n",
    "df['SMOKE100'] = df['SMOKE100'].replace({2:0})\n",
    "df = df[df.SMOKE100 != 7]\n",
    "df = df[df.SMOKE100 != 9]\n",
    "print(df.SMOKE100.unique())\n",
    "print(df.shape, \"    Dropped percent: \" , percentDropped(df), \"    Droped rows:   \", droped_row_count - df.shape[0])\n"
   ]
  },
  {
   "cell_type": "code",
   "execution_count": 40,
   "metadata": {},
   "outputs": [
    {
     "name": "stdout",
     "output_type": "stream",
     "text": [
      "[0. 1.]\n",
      "(355091, 22)     Dropped percent:  6.09     Droped rows:    23024\n"
     ]
    }
   ],
   "source": [
    "#6 CVDSTRK3\n",
    "# Change 2 to 0 because it is No\n",
    "# Remove all 7 (dont knows)\n",
    "# Remove all 9 (refused)\n",
    "df['CVDSTRK3'] = df['CVDSTRK3'].replace({2:0})\n",
    "df = df[df.CVDSTRK3 != 7]\n",
    "df = df[df.CVDSTRK3 != 9]\n",
    "print(df.CVDSTRK3.unique())\n",
    "print(df.shape, \"    Dropped percent: \" , percentDropped(df), \"    Droped rows:   \", droped_row_count - df.shape[0])\n"
   ]
  },
  {
   "cell_type": "code",
   "execution_count": 41,
   "metadata": {},
   "outputs": [
    {
     "name": "stdout",
     "output_type": "stream",
     "text": [
      "[2. 0. 1.]\n",
      "(354747, 22)     Dropped percent:  6.18     Droped rows:    23368\n"
     ]
    }
   ],
   "source": [
    "#7 DIABETE3\n",
    "# going to make this ordinal. 0 is for no diabetes or only during pregnancy, 1 is for pre-diabetes or borderline diabetes, 2 is for yes diabetes\n",
    "# Remove all 7 (dont knows)\n",
    "# Remove all 9 (refused)\n",
    "df['DIABETE3'] = df['DIABETE3'].replace({2:0, 3:0, 1:2, 4:1})\n",
    "df = df[df.DIABETE3 != 7]\n",
    "df = df[df.DIABETE3 != 9]\n",
    "print(df.DIABETE3.unique())\n",
    "print(df.shape, \"    Dropped percent: \" , percentDropped(df), \"    Droped rows:   \", droped_row_count - df.shape[0])\n"
   ]
  },
  {
   "cell_type": "code",
   "execution_count": 42,
   "metadata": {},
   "outputs": [
    {
     "name": "stdout",
     "output_type": "stream",
     "text": [
      "[1. 0.]\n",
      "(341653, 22)     Dropped percent:  9.64     Droped rows:    36462\n"
     ]
    }
   ],
   "source": [
    "#8 _TOTINDA\n",
    "# 1 for physical activity\n",
    "# change 2 to 0 for no physical activity\n",
    "# Remove all 9 (don't know/refused)\n",
    "df['_TOTINDA'] = df['_TOTINDA'].replace({2:0})\n",
    "df = df[df._TOTINDA != 9]\n",
    "print(df._TOTINDA.unique())\n",
    "print(df.shape, \"    Dropped percent: \" , percentDropped(df), \"    Droped rows:   \", droped_row_count - df.shape[0])\n"
   ]
  },
  {
   "cell_type": "code",
   "execution_count": 43,
   "metadata": {},
   "outputs": [
    {
     "name": "stdout",
     "output_type": "stream",
     "text": [
      "[1. 0.]\n",
      "(334199, 22)     Dropped percent:  11.61     Droped rows:    43916\n"
     ]
    }
   ],
   "source": [
    "#9 _FRTLT1\n",
    "# Change 2 to 0. this means no fruit consumed per day. 1 will mean consumed 1 or more pieces of fruit per day \n",
    "# remove all dont knows and missing 9\n",
    "df['_FRTLT1A'] = df['_FRTLT1A'].replace({2:0})\n",
    "df = df[df._FRTLT1A != 9]\n",
    "print(df._FRTLT1A.unique())\n",
    "print(df.shape, \"    Dropped percent: \" , percentDropped(df), \"    Droped rows:   \", droped_row_count - df.shape[0])\n"
   ]
  },
  {
   "cell_type": "code",
   "execution_count": 44,
   "metadata": {},
   "outputs": [
    {
     "name": "stdout",
     "output_type": "stream",
     "text": [
      "[1. 0.]\n",
      "(326013, 23)     Dropped percent:  13.78     Droped rows:    52102\n"
     ]
    }
   ],
   "source": [
    "#10 _VEGLT1\n",
    "# Change 2 to 0. this means no vegetables consumed per day. 1 will mean consumed 1 or more pieces of vegetable per day \n",
    "# remove all dont knows and missing 9\n",
    "df['_VEGLT1'] = df['_VEGLT1A'].replace({2:0})\n",
    "df = df[df._VEGLT1 != 9]\n",
    "print(df._VEGLT1.unique())\n",
    "print(df.shape, \"    Dropped percent: \" , percentDropped(df), \"    Droped rows:   \", droped_row_count - df.shape[0])\n"
   ]
  },
  {
   "cell_type": "code",
   "execution_count": 45,
   "metadata": {},
   "outputs": [
    {
     "name": "stdout",
     "output_type": "stream",
     "text": [
      "[0. 1.]\n",
      "(321941, 23)     Dropped percent:  14.86     Droped rows:    56174\n"
     ]
    }
   ],
   "source": [
    "#11 _RFDRHV5\n",
    "# Change 1 to 0 (1 was no for heavy drinking). change all 2 to 1 (2 was yes for heavy drinking)\n",
    "# remove all dont knows and missing 9\n",
    "df['_RFDRHV5'] = df['_RFDRHV5'].replace({1:0, 2:1})\n",
    "df = df[df._RFDRHV5 != 9]\n",
    "print(df._RFDRHV5.unique())\n",
    "print(df.shape, \"    Dropped percent: \" , percentDropped(df), \"    Droped rows:   \", droped_row_count - df.shape[0])\n"
   ]
  },
  {
   "cell_type": "code",
   "execution_count": 46,
   "metadata": {},
   "outputs": [
    {
     "name": "stdout",
     "output_type": "stream",
     "text": [
      "[1. 0.]\n",
      "(321255, 23)     Dropped percent:  15.04     Droped rows:    56860\n"
     ]
    }
   ],
   "source": [
    "#12 HLTHPLN1\n",
    "# 1 is yes, change 2 to 0 because it is No health care access\n",
    "# remove 7 and 9 for don't know or refused\n",
    "df['HLTHPLN1'] = df['HLTHPLN1'].replace({2:0})\n",
    "df = df[df.HLTHPLN1 != 7]\n",
    "df = df[df.HLTHPLN1 != 9]\n",
    "print(df.HLTHPLN1.unique())\n",
    "print(df.shape, \"    Dropped percent: \" , percentDropped(df), \"    Droped rows:   \", droped_row_count - df.shape[0])\n"
   ]
  },
  {
   "cell_type": "code",
   "execution_count": 47,
   "metadata": {},
   "outputs": [
    {
     "name": "stdout",
     "output_type": "stream",
     "text": [
      "[0. 1.]\n",
      "(320752, 23)     Dropped percent:  15.17     Droped rows:    57363\n"
     ]
    }
   ],
   "source": [
    "#13 MEDCOST\n",
    "# Change 2 to 0 for no, 1 is already yes\n",
    "# remove 7 for don/t know and 9 for refused\n",
    "df['MEDCOST'] = df['MEDCOST'].replace({2:0})\n",
    "df = df[df.MEDCOST != 7]\n",
    "df = df[df.MEDCOST != 9]\n",
    "print(df.MEDCOST.unique())\n",
    "print(df.shape, \"    Dropped percent: \" , percentDropped(df), \"    Droped rows:   \", droped_row_count - df.shape[0])\n"
   ]
  },
  {
   "cell_type": "code",
   "execution_count": 48,
   "metadata": {},
   "outputs": [
    {
     "name": "stdout",
     "output_type": "stream",
     "text": [
      "[2. 3. 4. 1. 5.]\n",
      "(320277, 23)     Dropped percent:  15.3     Droped rows:    57838\n"
     ]
    }
   ],
   "source": [
    "#14 GENHLTH\n",
    "# This is an ordinal variable that I want to keep (1 is Excellent -> 5 is Poor)\n",
    "# Remove 7 and 9 for don't know and refused\n",
    "df = df[df.GENHLTH != 7]\n",
    "df = df[df.GENHLTH != 9]\n",
    "print(df.GENHLTH.unique())\n",
    "print(df.shape, \"    Dropped percent: \" , percentDropped(df), \"    Droped rows:   \", droped_row_count - df.shape[0])\n"
   ]
  },
  {
   "cell_type": "code",
   "execution_count": 49,
   "metadata": {},
   "outputs": [
    {
     "name": "stdout",
     "output_type": "stream",
     "text": [
      "[ 0. 25.  1. 30. 15.  2. 10. 14.  3.  6. 12.  4.  5. 20.  7. 28.  8. 22.\n",
      "  9. 23. 13. 27. 16. 21. 18. 29. 17. 26. 24. 11. 19.]\n",
      "(317056, 23)     Dropped percent:  16.15     Droped rows:    61059\n"
     ]
    }
   ],
   "source": [
    "#15 MENTHLTH\n",
    "# already in days so keep that, scale will be 0-30\n",
    "# change 88 to 0 because it means none (no bad mental health days)\n",
    "# remove 77 and 99 for don't know not sure and refused\n",
    "df['MENTHLTH'] = df['MENTHLTH'].replace({88:0})\n",
    "df = df[df.MENTHLTH != 77]\n",
    "df = df[df.MENTHLTH != 99]\n",
    "print(df.MENTHLTH.unique())\n",
    "print(df.shape, \"    Dropped percent: \" , percentDropped(df), \"    Droped rows:   \", droped_row_count - df.shape[0])\n"
   ]
  },
  {
   "cell_type": "code",
   "execution_count": 50,
   "metadata": {},
   "outputs": [
    {
     "name": "stdout",
     "output_type": "stream",
     "text": [
      "[ 0. 14.  6.  2.  5. 30.  4. 15. 20.  3.  1.  7. 10. 21. 25. 12. 28. 18.\n",
      " 29. 13. 27. 11. 19. 24. 22.  8. 16. 17.  9. 26. 23.]\n",
      "(313407, 23)     Dropped percent:  17.11     Droped rows:    64708\n"
     ]
    }
   ],
   "source": [
    "#16 PHYSHLTH\n",
    "# already in days so keep that, scale will be 0-30\n",
    "# change 88 to 0 because it means none (no bad mental health days)\n",
    "# remove 77 and 99 for don't know not sure and refused\n",
    "df['PHYSHLTH'] = df['PHYSHLTH'].replace({88:0})\n",
    "df = df[df.PHYSHLTH != 77]\n",
    "df = df[df.PHYSHLTH != 99]\n",
    "print(df.PHYSHLTH.unique())\n",
    "print(df.shape, \"    Dropped percent: \" , percentDropped(df), \"    Droped rows:   \", droped_row_count - df.shape[0])\n"
   ]
  },
  {
   "cell_type": "code",
   "execution_count": 51,
   "metadata": {},
   "outputs": [
    {
     "name": "stdout",
     "output_type": "stream",
     "text": [
      "[1. 0.]\n",
      "(312713, 23)     Dropped percent:  17.3     Droped rows:    65402\n"
     ]
    }
   ],
   "source": [
    "#17 DIFFWALK\n",
    "# change 2 to 0 for no. 1 is already yes\n",
    "# remove 7 and 9 for don't know not sure and refused\n",
    "df['DIFFWALK'] = df['DIFFWALK'].replace({2:0})\n",
    "df = df[df.DIFFWALK != 7]\n",
    "df = df[df.DIFFWALK != 9]\n",
    "print(df.DIFFWALK.unique())\n",
    "print(df.shape, \"    Dropped percent: \" , percentDropped(df), \"    Droped rows:   \", droped_row_count - df.shape[0])\n"
   ]
  },
  {
   "cell_type": "code",
   "execution_count": 52,
   "metadata": {},
   "outputs": [
    {
     "name": "stdout",
     "output_type": "stream",
     "text": [
      "[0. 1.]\n",
      "(312657, 23)     Dropped percent:  17.31     Droped rows:    65458\n"
     ]
    }
   ],
   "source": [
    "#18 SEX\n",
    "# in other words - is respondent male (somewhat arbitrarily chose this change because men are at higher risk for heart disease)\n",
    "# change 2 to 0 (female as 0). Male is 1\n",
    "df['SEX'] = df['SEX'].replace({2:0})\n",
    "df = df[df.SEX != 9]\n",
    "print(df.SEX.unique())\n",
    "print(df.shape, \"    Dropped percent: \" , percentDropped(df), \"    Droped rows:   \", droped_row_count - df.shape[0])\n"
   ]
  },
  {
   "cell_type": "code",
   "execution_count": 53,
   "metadata": {},
   "outputs": [
    {
     "name": "stdout",
     "output_type": "stream",
     "text": [
      "[11. 10. 12. 13.  6.  9.  2.  1.  8.  7.  5.  4.  3.]\n",
      "(310696, 23)     Dropped percent:  17.83     Droped rows:    67419\n"
     ]
    }
   ],
   "source": [
    "#19 _AGEG5YR\n",
    "# already ordinal. 1 is 18-24 all the way up to 13 wis 80 and older. 5 year increments.\n",
    "# remove 14 because it is don't know or missing\n",
    "df = df[df._AGEG5YR != 14]\n",
    "print(df._AGEG5YR.unique())\n",
    "print(df.shape, \"    Dropped percent: \" , percentDropped(df), \"    Droped rows:   \", droped_row_count - df.shape[0])\n"
   ]
  },
  {
   "cell_type": "code",
   "execution_count": 54,
   "metadata": {},
   "outputs": [
    {
     "name": "stdout",
     "output_type": "stream",
     "text": [
      "[6. 2. 4. 5. 3. 1.]\n",
      "(310338, 23)     Dropped percent:  17.92     Droped rows:    67777\n"
     ]
    }
   ],
   "source": [
    "#20 EDUCA\n",
    "# This is already an ordinal variable with 1 being never attended school or kindergarten only up to 6 being college 4 years or more\n",
    "# Scale here is 1-6\n",
    "# Remove 9 for refused:\n",
    "df = df[df.EDUCA != 9]\n",
    "print(df.EDUCA.unique())\n",
    "print(df.shape, \"    Dropped percent: \" , percentDropped(df), \"    Droped rows:   \", droped_row_count - df.shape[0])\n"
   ]
  },
  {
   "cell_type": "code",
   "execution_count": 55,
   "metadata": {},
   "outputs": [
    {
     "name": "stdout",
     "output_type": "stream",
     "text": [
      "[6. 8. 2. 4. 5. 7. 3. 1.]\n",
      "(275854, 23)     Dropped percent:  27.04     Droped rows:    102261\n"
     ]
    }
   ],
   "source": [
    "#21 INCOME2\n",
    "# Variable is already ordinal with 1 being less than $10,000 all the way up to 8 being $75,000 or more\n",
    "# Remove 77 and 99 for don't know and refused\n",
    "df = df[df.INCOME2 != 77]\n",
    "df = df[df.INCOME2 != 99]\n",
    "print(df.INCOME2.unique())\n",
    "print(df.shape, \"    Dropped percent: \" , percentDropped(df), \"    Droped rows:   \", droped_row_count - df.shape[0])\n"
   ]
  },
  {
   "cell_type": "code",
   "execution_count": 56,
   "metadata": {},
   "outputs": [
    {
     "name": "stdout",
     "output_type": "stream",
     "text": [
      "(275854, 23) Percent Dropped From Start:  38.7  Original Row Count:  450016\n"
     ]
    }
   ],
   "source": [
    "print(df.shape,  \"Percent Dropped From Start: \", round(((original_row_count - df.shape[0]) / original_row_count) * 100, 2), \" Original Row Count: \", original_row_count)"
   ]
  },
  {
   "cell_type": "code",
   "execution_count": 57,
   "metadata": {},
   "outputs": [
    {
     "name": "stdout",
     "output_type": "stream",
     "text": [
      "_MICHD\n",
      "0.0    250560\n",
      "1.0     25294\n",
      "dtype: int64\n",
      "Percent Yes (1.0):  9.17\n"
     ]
    }
   ],
   "source": [
    "#Check Class Sizes of the heart disease column  Note the class imbalance!\n",
    "print(df.groupby(['_MICHD']).size())\n",
    "grp =df.groupby(['_MICHD'])\n",
    "percent_yes = 100*(grp.size()[1.0] / grp.size().sum())\n",
    "print(\"Percent Yes (1.0): \",  round(percent_yes, 2))"
   ]
  },
  {
   "cell_type": "code",
   "execution_count": 59,
   "metadata": {},
   "outputs": [],
   "source": [
    "df.drop('_VEGLT1', axis =1, inplace=True)"
   ]
  },
  {
   "cell_type": "code",
   "execution_count": 60,
   "metadata": {},
   "outputs": [
    {
     "name": "stdout",
     "output_type": "stream",
     "text": [
      "['_MICHD', 'TOLDHI2', 'TOLDHI3', '_FRTLT1', '_FRTLT1A', '_RFHYPE6', '_RFHYPE5', '_VEGLT1A', '_VEGLT1', '_CHOLCHK', '_CHOLCH1', '_CHOLCH2', '_CHOLCH3', 'SEX', 'SEX1', 'SEXVAR', '_RFDRHV5', '_RFDRHV6', '_RFDRHV7', '_RFDRHV8', 'DIABETE3', 'DIABETE4', 'HLTHPLN1', '_HLTHPLN', 'INCOME2', 'INCOME3', 'MEDCOST', 'MEDCOST1', '_BMI5', 'SMOKE100', 'CVDSTRK3', '_TOTINDA', 'GENHLTH', 'MENTHLTH', 'PHYSHLTH', 'DIFFWALK', '_AGEG5YR', 'EDUCA']\n"
     ]
    },
    {
     "data": {
      "text/html": [
       "<div>\n",
       "<style scoped>\n",
       "    .dataframe tbody tr th:only-of-type {\n",
       "        vertical-align: middle;\n",
       "    }\n",
       "\n",
       "    .dataframe tbody tr th {\n",
       "        vertical-align: top;\n",
       "    }\n",
       "\n",
       "    .dataframe thead th {\n",
       "        text-align: right;\n",
       "    }\n",
       "</style>\n",
       "<table border=\"1\" class=\"dataframe\">\n",
       "  <thead>\n",
       "    <tr style=\"text-align: right;\">\n",
       "      <th></th>\n",
       "      <th>GenHlth</th>\n",
       "      <th>Income</th>\n",
       "      <th>Sex</th>\n",
       "      <th>Stroke</th>\n",
       "      <th>Fruits</th>\n",
       "      <th>CholCheck</th>\n",
       "      <th>BMI</th>\n",
       "      <th>PhysHlth</th>\n",
       "      <th>HighChol</th>\n",
       "      <th>NoDocbcCost</th>\n",
       "      <th>Smoker</th>\n",
       "      <th>HvyAlcoholConsump</th>\n",
       "      <th>Education</th>\n",
       "      <th>Veggies</th>\n",
       "      <th>AnyHealthcare</th>\n",
       "      <th>Diabetes</th>\n",
       "      <th>HeartDiseaseorAttack</th>\n",
       "      <th>MentHlth</th>\n",
       "      <th>HighBP</th>\n",
       "      <th>Age</th>\n",
       "      <th>PhysActivity</th>\n",
       "      <th>DiffWalk</th>\n",
       "    </tr>\n",
       "  </thead>\n",
       "  <tbody>\n",
       "    <tr>\n",
       "      <th>0</th>\n",
       "      <td>2.0</td>\n",
       "      <td>6.0</td>\n",
       "      <td>0.0</td>\n",
       "      <td>0.0</td>\n",
       "      <td>1.0</td>\n",
       "      <td>1.0</td>\n",
       "      <td>27.0</td>\n",
       "      <td>0.0</td>\n",
       "      <td>1.0</td>\n",
       "      <td>0.0</td>\n",
       "      <td>0.0</td>\n",
       "      <td>0.0</td>\n",
       "      <td>6.0</td>\n",
       "      <td>1.0</td>\n",
       "      <td>1.0</td>\n",
       "      <td>2.0</td>\n",
       "      <td>0.0</td>\n",
       "      <td>0.0</td>\n",
       "      <td>1.0</td>\n",
       "      <td>11.0</td>\n",
       "      <td>1.0</td>\n",
       "      <td>1.0</td>\n",
       "    </tr>\n",
       "    <tr>\n",
       "      <th>1</th>\n",
       "      <td>2.0</td>\n",
       "      <td>8.0</td>\n",
       "      <td>1.0</td>\n",
       "      <td>0.0</td>\n",
       "      <td>1.0</td>\n",
       "      <td>1.0</td>\n",
       "      <td>29.0</td>\n",
       "      <td>0.0</td>\n",
       "      <td>0.0</td>\n",
       "      <td>0.0</td>\n",
       "      <td>0.0</td>\n",
       "      <td>0.0</td>\n",
       "      <td>6.0</td>\n",
       "      <td>1.0</td>\n",
       "      <td>1.0</td>\n",
       "      <td>0.0</td>\n",
       "      <td>0.0</td>\n",
       "      <td>0.0</td>\n",
       "      <td>1.0</td>\n",
       "      <td>10.0</td>\n",
       "      <td>1.0</td>\n",
       "      <td>0.0</td>\n",
       "    </tr>\n",
       "    <tr>\n",
       "      <th>4</th>\n",
       "      <td>4.0</td>\n",
       "      <td>2.0</td>\n",
       "      <td>0.0</td>\n",
       "      <td>0.0</td>\n",
       "      <td>1.0</td>\n",
       "      <td>1.0</td>\n",
       "      <td>23.0</td>\n",
       "      <td>14.0</td>\n",
       "      <td>0.0</td>\n",
       "      <td>0.0</td>\n",
       "      <td>1.0</td>\n",
       "      <td>0.0</td>\n",
       "      <td>2.0</td>\n",
       "      <td>2.0</td>\n",
       "      <td>1.0</td>\n",
       "      <td>0.0</td>\n",
       "      <td>0.0</td>\n",
       "      <td>0.0</td>\n",
       "      <td>0.0</td>\n",
       "      <td>10.0</td>\n",
       "      <td>0.0</td>\n",
       "      <td>0.0</td>\n",
       "    </tr>\n",
       "    <tr>\n",
       "      <th>5</th>\n",
       "      <td>3.0</td>\n",
       "      <td>4.0</td>\n",
       "      <td>1.0</td>\n",
       "      <td>0.0</td>\n",
       "      <td>0.0</td>\n",
       "      <td>1.0</td>\n",
       "      <td>27.0</td>\n",
       "      <td>6.0</td>\n",
       "      <td>0.0</td>\n",
       "      <td>0.0</td>\n",
       "      <td>1.0</td>\n",
       "      <td>0.0</td>\n",
       "      <td>4.0</td>\n",
       "      <td>1.0</td>\n",
       "      <td>1.0</td>\n",
       "      <td>0.0</td>\n",
       "      <td>1.0</td>\n",
       "      <td>0.0</td>\n",
       "      <td>1.0</td>\n",
       "      <td>12.0</td>\n",
       "      <td>1.0</td>\n",
       "      <td>0.0</td>\n",
       "    </tr>\n",
       "    <tr>\n",
       "      <th>6</th>\n",
       "      <td>3.0</td>\n",
       "      <td>8.0</td>\n",
       "      <td>1.0</td>\n",
       "      <td>0.0</td>\n",
       "      <td>1.0</td>\n",
       "      <td>1.0</td>\n",
       "      <td>28.0</td>\n",
       "      <td>0.0</td>\n",
       "      <td>0.0</td>\n",
       "      <td>0.0</td>\n",
       "      <td>0.0</td>\n",
       "      <td>0.0</td>\n",
       "      <td>5.0</td>\n",
       "      <td>1.0</td>\n",
       "      <td>1.0</td>\n",
       "      <td>0.0</td>\n",
       "      <td>0.0</td>\n",
       "      <td>0.0</td>\n",
       "      <td>0.0</td>\n",
       "      <td>10.0</td>\n",
       "      <td>0.0</td>\n",
       "      <td>0.0</td>\n",
       "    </tr>\n",
       "    <tr>\n",
       "      <th>...</th>\n",
       "      <td>...</td>\n",
       "      <td>...</td>\n",
       "      <td>...</td>\n",
       "      <td>...</td>\n",
       "      <td>...</td>\n",
       "      <td>...</td>\n",
       "      <td>...</td>\n",
       "      <td>...</td>\n",
       "      <td>...</td>\n",
       "      <td>...</td>\n",
       "      <td>...</td>\n",
       "      <td>...</td>\n",
       "      <td>...</td>\n",
       "      <td>...</td>\n",
       "      <td>...</td>\n",
       "      <td>...</td>\n",
       "      <td>...</td>\n",
       "      <td>...</td>\n",
       "      <td>...</td>\n",
       "      <td>...</td>\n",
       "      <td>...</td>\n",
       "      <td>...</td>\n",
       "    </tr>\n",
       "    <tr>\n",
       "      <th>450009</th>\n",
       "      <td>3.0</td>\n",
       "      <td>5.0</td>\n",
       "      <td>0.0</td>\n",
       "      <td>0.0</td>\n",
       "      <td>1.0</td>\n",
       "      <td>1.0</td>\n",
       "      <td>37.0</td>\n",
       "      <td>30.0</td>\n",
       "      <td>1.0</td>\n",
       "      <td>0.0</td>\n",
       "      <td>0.0</td>\n",
       "      <td>0.0</td>\n",
       "      <td>6.0</td>\n",
       "      <td>1.0</td>\n",
       "      <td>1.0</td>\n",
       "      <td>0.0</td>\n",
       "      <td>0.0</td>\n",
       "      <td>0.0</td>\n",
       "      <td>1.0</td>\n",
       "      <td>8.0</td>\n",
       "      <td>0.0</td>\n",
       "      <td>1.0</td>\n",
       "    </tr>\n",
       "    <tr>\n",
       "      <th>450010</th>\n",
       "      <td>3.0</td>\n",
       "      <td>5.0</td>\n",
       "      <td>1.0</td>\n",
       "      <td>0.0</td>\n",
       "      <td>1.0</td>\n",
       "      <td>1.0</td>\n",
       "      <td>29.0</td>\n",
       "      <td>0.0</td>\n",
       "      <td>0.0</td>\n",
       "      <td>0.0</td>\n",
       "      <td>1.0</td>\n",
       "      <td>0.0</td>\n",
       "      <td>5.0</td>\n",
       "      <td>1.0</td>\n",
       "      <td>1.0</td>\n",
       "      <td>0.0</td>\n",
       "      <td>0.0</td>\n",
       "      <td>0.0</td>\n",
       "      <td>1.0</td>\n",
       "      <td>3.0</td>\n",
       "      <td>1.0</td>\n",
       "      <td>0.0</td>\n",
       "    </tr>\n",
       "    <tr>\n",
       "      <th>450012</th>\n",
       "      <td>4.0</td>\n",
       "      <td>2.0</td>\n",
       "      <td>1.0</td>\n",
       "      <td>0.0</td>\n",
       "      <td>0.0</td>\n",
       "      <td>1.0</td>\n",
       "      <td>21.0</td>\n",
       "      <td>0.0</td>\n",
       "      <td>1.0</td>\n",
       "      <td>1.0</td>\n",
       "      <td>0.0</td>\n",
       "      <td>0.0</td>\n",
       "      <td>4.0</td>\n",
       "      <td>1.0</td>\n",
       "      <td>1.0</td>\n",
       "      <td>0.0</td>\n",
       "      <td>0.0</td>\n",
       "      <td>5.0</td>\n",
       "      <td>1.0</td>\n",
       "      <td>13.0</td>\n",
       "      <td>0.0</td>\n",
       "      <td>1.0</td>\n",
       "    </tr>\n",
       "    <tr>\n",
       "      <th>450013</th>\n",
       "      <td>3.0</td>\n",
       "      <td>7.0</td>\n",
       "      <td>1.0</td>\n",
       "      <td>0.0</td>\n",
       "      <td>0.0</td>\n",
       "      <td>1.0</td>\n",
       "      <td>32.0</td>\n",
       "      <td>0.0</td>\n",
       "      <td>1.0</td>\n",
       "      <td>0.0</td>\n",
       "      <td>0.0</td>\n",
       "      <td>0.0</td>\n",
       "      <td>6.0</td>\n",
       "      <td>1.0</td>\n",
       "      <td>1.0</td>\n",
       "      <td>0.0</td>\n",
       "      <td>0.0</td>\n",
       "      <td>0.0</td>\n",
       "      <td>1.0</td>\n",
       "      <td>7.0</td>\n",
       "      <td>0.0</td>\n",
       "      <td>0.0</td>\n",
       "    </tr>\n",
       "    <tr>\n",
       "      <th>450015</th>\n",
       "      <td>3.0</td>\n",
       "      <td>6.0</td>\n",
       "      <td>0.0</td>\n",
       "      <td>0.0</td>\n",
       "      <td>0.0</td>\n",
       "      <td>1.0</td>\n",
       "      <td>30.0</td>\n",
       "      <td>0.0</td>\n",
       "      <td>1.0</td>\n",
       "      <td>0.0</td>\n",
       "      <td>0.0</td>\n",
       "      <td>0.0</td>\n",
       "      <td>6.0</td>\n",
       "      <td>2.0</td>\n",
       "      <td>1.0</td>\n",
       "      <td>0.0</td>\n",
       "      <td>0.0</td>\n",
       "      <td>0.0</td>\n",
       "      <td>0.0</td>\n",
       "      <td>2.0</td>\n",
       "      <td>0.0</td>\n",
       "      <td>0.0</td>\n",
       "    </tr>\n",
       "  </tbody>\n",
       "</table>\n",
       "<p>275854 rows × 22 columns</p>\n",
       "</div>"
      ],
      "text/plain": [
       "        GenHlth  Income  Sex  Stroke  Fruits  CholCheck   BMI  PhysHlth  \\\n",
       "0           2.0     6.0  0.0     0.0     1.0        1.0  27.0       0.0   \n",
       "1           2.0     8.0  1.0     0.0     1.0        1.0  29.0       0.0   \n",
       "4           4.0     2.0  0.0     0.0     1.0        1.0  23.0      14.0   \n",
       "5           3.0     4.0  1.0     0.0     0.0        1.0  27.0       6.0   \n",
       "6           3.0     8.0  1.0     0.0     1.0        1.0  28.0       0.0   \n",
       "...         ...     ...  ...     ...     ...        ...   ...       ...   \n",
       "450009      3.0     5.0  0.0     0.0     1.0        1.0  37.0      30.0   \n",
       "450010      3.0     5.0  1.0     0.0     1.0        1.0  29.0       0.0   \n",
       "450012      4.0     2.0  1.0     0.0     0.0        1.0  21.0       0.0   \n",
       "450013      3.0     7.0  1.0     0.0     0.0        1.0  32.0       0.0   \n",
       "450015      3.0     6.0  0.0     0.0     0.0        1.0  30.0       0.0   \n",
       "\n",
       "        HighChol  NoDocbcCost  Smoker  HvyAlcoholConsump  Education  Veggies  \\\n",
       "0            1.0          0.0     0.0                0.0        6.0      1.0   \n",
       "1            0.0          0.0     0.0                0.0        6.0      1.0   \n",
       "4            0.0          0.0     1.0                0.0        2.0      2.0   \n",
       "5            0.0          0.0     1.0                0.0        4.0      1.0   \n",
       "6            0.0          0.0     0.0                0.0        5.0      1.0   \n",
       "...          ...          ...     ...                ...        ...      ...   \n",
       "450009       1.0          0.0     0.0                0.0        6.0      1.0   \n",
       "450010       0.0          0.0     1.0                0.0        5.0      1.0   \n",
       "450012       1.0          1.0     0.0                0.0        4.0      1.0   \n",
       "450013       1.0          0.0     0.0                0.0        6.0      1.0   \n",
       "450015       1.0          0.0     0.0                0.0        6.0      2.0   \n",
       "\n",
       "        AnyHealthcare  Diabetes  HeartDiseaseorAttack  MentHlth  HighBP   Age  \\\n",
       "0                 1.0       2.0                   0.0       0.0     1.0  11.0   \n",
       "1                 1.0       0.0                   0.0       0.0     1.0  10.0   \n",
       "4                 1.0       0.0                   0.0       0.0     0.0  10.0   \n",
       "5                 1.0       0.0                   1.0       0.0     1.0  12.0   \n",
       "6                 1.0       0.0                   0.0       0.0     0.0  10.0   \n",
       "...               ...       ...                   ...       ...     ...   ...   \n",
       "450009            1.0       0.0                   0.0       0.0     1.0   8.0   \n",
       "450010            1.0       0.0                   0.0       0.0     1.0   3.0   \n",
       "450012            1.0       0.0                   0.0       5.0     1.0  13.0   \n",
       "450013            1.0       0.0                   0.0       0.0     1.0   7.0   \n",
       "450015            1.0       0.0                   0.0       0.0     0.0   2.0   \n",
       "\n",
       "        PhysActivity  DiffWalk  \n",
       "0                1.0       1.0  \n",
       "1                1.0       0.0  \n",
       "4                0.0       0.0  \n",
       "5                1.0       0.0  \n",
       "6                0.0       0.0  \n",
       "...              ...       ...  \n",
       "450009           0.0       1.0  \n",
       "450010           1.0       0.0  \n",
       "450012           0.0       1.0  \n",
       "450013           0.0       0.0  \n",
       "450015           0.0       0.0  \n",
       "\n",
       "[275854 rows x 22 columns]"
      ]
     },
     "execution_count": 60,
     "metadata": {},
     "output_type": "execute_result"
    }
   ],
   "source": [
    "column_name_mapping = {\n",
    "\n",
    "    'HeartDiseaseorAttack':['_MICHD'],\n",
    "    'HighChol': ['TOLDHI2', 'TOLDHI3'],\n",
    "    'Fruits': ['_FRTLT1', '_FRTLT1A'],\n",
    "    'HighBP': ['_RFHYPE6', '_RFHYPE5'],\n",
    "    \"Veggies\": ['_VEGLT1A', '_VEGLT1' ],\n",
    "    'CholCheck': ['_CHOLCHK', '_CHOLCH1', '_CHOLCH2', '_CHOLCH3' ],\n",
    "    'Sex':['SEX', 'SEX1', 'SEXVAR'],\n",
    "    'HvyAlcoholConsump': ['_RFDRHV5','_RFDRHV6', '_RFDRHV7', '_RFDRHV8'],\n",
    "    'Diabetes': ['DIABETE3', 'DIABETE4'],\n",
    "    'AnyHealthcare': ['HLTHPLN1', '_HLTHPLN'],\n",
    "    'Income': ['INCOME2', 'INCOME3' ],\n",
    "    'NoDocbcCost': ['MEDCOST', 'MEDCOST1' ],\n",
    "    'BMI': ['_BMI5'],\n",
    "    'Smoker': ['SMOKE100'],\n",
    "    'Stroke': ['CVDSTRK3'],\n",
    "    'PhysActivity': ['_TOTINDA' ],\n",
    "    'GenHlth': ['GENHLTH'],\n",
    "    'MentHlth': ['MENTHLTH'],\n",
    "    'PhysHlth': ['PHYSHLTH'],\n",
    "    'DiffWalk': ['DIFFWALK'],\n",
    "    'Age':['_AGEG5YR'],\n",
    "    'Education': ['EDUCA']}\n",
    "\n",
    "all_column_names = []\n",
    "for vals in column_name_mapping.values():\n",
    "    all_column_names += vals\n",
    "print(all_column_names)\n",
    "\n",
    "col_to_name_mapping = {}\n",
    "\n",
    "for key, values in column_name_mapping.items():\n",
    "    if isinstance(values, list):\n",
    "        for value in values:\n",
    "            col_to_name_mapping[value] = key\n",
    "    elif isinstance(values, str):\n",
    "        col_to_name_mapping[values] = key\n",
    "\n",
    "subset_columns = list(set(df.columns) & set(col_to_name_mapping.keys()))\n",
    "filtered_mapping = {col: col_to_name_mapping[col] for col in subset_columns}\n",
    "df.rename(columns=filtered_mapping, inplace=True)\n",
    "df\n"
   ]
  },
  {
   "cell_type": "code",
   "execution_count": 62,
   "metadata": {},
   "outputs": [],
   "source": [
    "df.to_csv('../indicators_clean/clean_indicators_2017.csv')"
   ]
  }
 ],
 "metadata": {
  "kernelspec": {
   "display_name": "base",
   "language": "python",
   "name": "python3"
  },
  "language_info": {
   "codemirror_mode": {
    "name": "ipython",
    "version": 3
   },
   "file_extension": ".py",
   "mimetype": "text/x-python",
   "name": "python",
   "nbconvert_exporter": "python",
   "pygments_lexer": "ipython3",
   "version": "3.11.5"
  }
 },
 "nbformat": 4,
 "nbformat_minor": 2
}
