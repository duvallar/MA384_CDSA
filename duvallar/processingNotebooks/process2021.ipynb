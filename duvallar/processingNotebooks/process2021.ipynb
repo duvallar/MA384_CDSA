{
 "cells": [
  {
   "cell_type": "code",
   "execution_count": 51,
   "metadata": {},
   "outputs": [
    {
     "data": {
      "text/html": [
       "<div>\n",
       "<style scoped>\n",
       "    .dataframe tbody tr th:only-of-type {\n",
       "        vertical-align: middle;\n",
       "    }\n",
       "\n",
       "    .dataframe tbody tr th {\n",
       "        vertical-align: top;\n",
       "    }\n",
       "\n",
       "    .dataframe thead th {\n",
       "        text-align: right;\n",
       "    }\n",
       "</style>\n",
       "<table border=\"1\" class=\"dataframe\">\n",
       "  <thead>\n",
       "    <tr style=\"text-align: right;\">\n",
       "      <th></th>\n",
       "      <th>_RFHYPE6</th>\n",
       "      <th>GENHLTH</th>\n",
       "      <th>CVDSTRK3</th>\n",
       "      <th>_FRTLT1A</th>\n",
       "      <th>_RFDRHV7</th>\n",
       "      <th>_BMI5</th>\n",
       "      <th>INCOME3</th>\n",
       "      <th>PHYSHLTH</th>\n",
       "      <th>SMOKE100</th>\n",
       "      <th>EDUCA</th>\n",
       "      <th>...</th>\n",
       "      <th>_CHOLCH3</th>\n",
       "      <th>_MICHD</th>\n",
       "      <th>MENTHLTH</th>\n",
       "      <th>MEDCOST1</th>\n",
       "      <th>_HLTHPLN</th>\n",
       "      <th>_AGEG5YR</th>\n",
       "      <th>DIABETE4</th>\n",
       "      <th>SEXVAR</th>\n",
       "      <th>_TOTINDA</th>\n",
       "      <th>DIFFWALK</th>\n",
       "    </tr>\n",
       "  </thead>\n",
       "  <tbody>\n",
       "    <tr>\n",
       "      <th>0</th>\n",
       "      <td>1.0</td>\n",
       "      <td>5.0</td>\n",
       "      <td>2.0</td>\n",
       "      <td>1.0</td>\n",
       "      <td>1.0</td>\n",
       "      <td>1454.0</td>\n",
       "      <td>5.0</td>\n",
       "      <td>20.0</td>\n",
       "      <td>1.0</td>\n",
       "      <td>4.0</td>\n",
       "      <td>...</td>\n",
       "      <td>1.0</td>\n",
       "      <td>2.0</td>\n",
       "      <td>10.0</td>\n",
       "      <td>2.0</td>\n",
       "      <td>1.0</td>\n",
       "      <td>11.0</td>\n",
       "      <td>3.0</td>\n",
       "      <td>2.0</td>\n",
       "      <td>2.0</td>\n",
       "      <td>2.0</td>\n",
       "    </tr>\n",
       "    <tr>\n",
       "      <th>1</th>\n",
       "      <td>2.0</td>\n",
       "      <td>3.0</td>\n",
       "      <td>2.0</td>\n",
       "      <td>1.0</td>\n",
       "      <td>1.0</td>\n",
       "      <td>NaN</td>\n",
       "      <td>77.0</td>\n",
       "      <td>88.0</td>\n",
       "      <td>2.0</td>\n",
       "      <td>6.0</td>\n",
       "      <td>...</td>\n",
       "      <td>1.0</td>\n",
       "      <td>1.0</td>\n",
       "      <td>88.0</td>\n",
       "      <td>2.0</td>\n",
       "      <td>1.0</td>\n",
       "      <td>10.0</td>\n",
       "      <td>1.0</td>\n",
       "      <td>2.0</td>\n",
       "      <td>1.0</td>\n",
       "      <td>1.0</td>\n",
       "    </tr>\n",
       "    <tr>\n",
       "      <th>2</th>\n",
       "      <td>2.0</td>\n",
       "      <td>2.0</td>\n",
       "      <td>2.0</td>\n",
       "      <td>1.0</td>\n",
       "      <td>1.0</td>\n",
       "      <td>2829.0</td>\n",
       "      <td>3.0</td>\n",
       "      <td>88.0</td>\n",
       "      <td>2.0</td>\n",
       "      <td>4.0</td>\n",
       "      <td>...</td>\n",
       "      <td>1.0</td>\n",
       "      <td>1.0</td>\n",
       "      <td>88.0</td>\n",
       "      <td>2.0</td>\n",
       "      <td>1.0</td>\n",
       "      <td>11.0</td>\n",
       "      <td>1.0</td>\n",
       "      <td>2.0</td>\n",
       "      <td>2.0</td>\n",
       "      <td>2.0</td>\n",
       "    </tr>\n",
       "    <tr>\n",
       "      <th>3</th>\n",
       "      <td>2.0</td>\n",
       "      <td>2.0</td>\n",
       "      <td>2.0</td>\n",
       "      <td>1.0</td>\n",
       "      <td>1.0</td>\n",
       "      <td>3347.0</td>\n",
       "      <td>7.0</td>\n",
       "      <td>88.0</td>\n",
       "      <td>2.0</td>\n",
       "      <td>4.0</td>\n",
       "      <td>...</td>\n",
       "      <td>1.0</td>\n",
       "      <td>2.0</td>\n",
       "      <td>10.0</td>\n",
       "      <td>2.0</td>\n",
       "      <td>1.0</td>\n",
       "      <td>9.0</td>\n",
       "      <td>1.0</td>\n",
       "      <td>2.0</td>\n",
       "      <td>1.0</td>\n",
       "      <td>2.0</td>\n",
       "    </tr>\n",
       "    <tr>\n",
       "      <th>4</th>\n",
       "      <td>1.0</td>\n",
       "      <td>5.0</td>\n",
       "      <td>1.0</td>\n",
       "      <td>1.0</td>\n",
       "      <td>1.0</td>\n",
       "      <td>2873.0</td>\n",
       "      <td>4.0</td>\n",
       "      <td>30.0</td>\n",
       "      <td>2.0</td>\n",
       "      <td>3.0</td>\n",
       "      <td>...</td>\n",
       "      <td>1.0</td>\n",
       "      <td>1.0</td>\n",
       "      <td>88.0</td>\n",
       "      <td>2.0</td>\n",
       "      <td>1.0</td>\n",
       "      <td>12.0</td>\n",
       "      <td>1.0</td>\n",
       "      <td>1.0</td>\n",
       "      <td>1.0</td>\n",
       "      <td>1.0</td>\n",
       "    </tr>\n",
       "    <tr>\n",
       "      <th>...</th>\n",
       "      <td>...</td>\n",
       "      <td>...</td>\n",
       "      <td>...</td>\n",
       "      <td>...</td>\n",
       "      <td>...</td>\n",
       "      <td>...</td>\n",
       "      <td>...</td>\n",
       "      <td>...</td>\n",
       "      <td>...</td>\n",
       "      <td>...</td>\n",
       "      <td>...</td>\n",
       "      <td>...</td>\n",
       "      <td>...</td>\n",
       "      <td>...</td>\n",
       "      <td>...</td>\n",
       "      <td>...</td>\n",
       "      <td>...</td>\n",
       "      <td>...</td>\n",
       "      <td>...</td>\n",
       "      <td>...</td>\n",
       "      <td>...</td>\n",
       "    </tr>\n",
       "    <tr>\n",
       "      <th>438688</th>\n",
       "      <td>2.0</td>\n",
       "      <td>2.0</td>\n",
       "      <td>2.0</td>\n",
       "      <td>1.0</td>\n",
       "      <td>1.0</td>\n",
       "      <td>2469.0</td>\n",
       "      <td>5.0</td>\n",
       "      <td>88.0</td>\n",
       "      <td>1.0</td>\n",
       "      <td>4.0</td>\n",
       "      <td>...</td>\n",
       "      <td>1.0</td>\n",
       "      <td>2.0</td>\n",
       "      <td>20.0</td>\n",
       "      <td>1.0</td>\n",
       "      <td>2.0</td>\n",
       "      <td>3.0</td>\n",
       "      <td>2.0</td>\n",
       "      <td>2.0</td>\n",
       "      <td>1.0</td>\n",
       "      <td>2.0</td>\n",
       "    </tr>\n",
       "    <tr>\n",
       "      <th>438689</th>\n",
       "      <td>2.0</td>\n",
       "      <td>3.0</td>\n",
       "      <td>2.0</td>\n",
       "      <td>1.0</td>\n",
       "      <td>1.0</td>\n",
       "      <td>NaN</td>\n",
       "      <td>1.0</td>\n",
       "      <td>88.0</td>\n",
       "      <td>2.0</td>\n",
       "      <td>4.0</td>\n",
       "      <td>...</td>\n",
       "      <td>1.0</td>\n",
       "      <td>2.0</td>\n",
       "      <td>88.0</td>\n",
       "      <td>2.0</td>\n",
       "      <td>9.0</td>\n",
       "      <td>13.0</td>\n",
       "      <td>1.0</td>\n",
       "      <td>1.0</td>\n",
       "      <td>2.0</td>\n",
       "      <td>2.0</td>\n",
       "    </tr>\n",
       "    <tr>\n",
       "      <th>438690</th>\n",
       "      <td>1.0</td>\n",
       "      <td>2.0</td>\n",
       "      <td>2.0</td>\n",
       "      <td>1.0</td>\n",
       "      <td>1.0</td>\n",
       "      <td>3068.0</td>\n",
       "      <td>10.0</td>\n",
       "      <td>88.0</td>\n",
       "      <td>2.0</td>\n",
       "      <td>6.0</td>\n",
       "      <td>...</td>\n",
       "      <td>1.0</td>\n",
       "      <td>2.0</td>\n",
       "      <td>88.0</td>\n",
       "      <td>2.0</td>\n",
       "      <td>1.0</td>\n",
       "      <td>7.0</td>\n",
       "      <td>3.0</td>\n",
       "      <td>1.0</td>\n",
       "      <td>1.0</td>\n",
       "      <td>2.0</td>\n",
       "    </tr>\n",
       "    <tr>\n",
       "      <th>438691</th>\n",
       "      <td>2.0</td>\n",
       "      <td>2.0</td>\n",
       "      <td>2.0</td>\n",
       "      <td>1.0</td>\n",
       "      <td>1.0</td>\n",
       "      <td>2373.0</td>\n",
       "      <td>6.0</td>\n",
       "      <td>88.0</td>\n",
       "      <td>2.0</td>\n",
       "      <td>4.0</td>\n",
       "      <td>...</td>\n",
       "      <td>1.0</td>\n",
       "      <td>2.0</td>\n",
       "      <td>88.0</td>\n",
       "      <td>2.0</td>\n",
       "      <td>1.0</td>\n",
       "      <td>10.0</td>\n",
       "      <td>3.0</td>\n",
       "      <td>1.0</td>\n",
       "      <td>1.0</td>\n",
       "      <td>2.0</td>\n",
       "    </tr>\n",
       "    <tr>\n",
       "      <th>438692</th>\n",
       "      <td>1.0</td>\n",
       "      <td>1.0</td>\n",
       "      <td>2.0</td>\n",
       "      <td>2.0</td>\n",
       "      <td>1.0</td>\n",
       "      <td>3171.0</td>\n",
       "      <td>6.0</td>\n",
       "      <td>2.0</td>\n",
       "      <td>2.0</td>\n",
       "      <td>6.0</td>\n",
       "      <td>...</td>\n",
       "      <td>1.0</td>\n",
       "      <td>2.0</td>\n",
       "      <td>2.0</td>\n",
       "      <td>2.0</td>\n",
       "      <td>1.0</td>\n",
       "      <td>6.0</td>\n",
       "      <td>3.0</td>\n",
       "      <td>2.0</td>\n",
       "      <td>1.0</td>\n",
       "      <td>2.0</td>\n",
       "    </tr>\n",
       "  </tbody>\n",
       "</table>\n",
       "<p>438693 rows × 22 columns</p>\n",
       "</div>"
      ],
      "text/plain": [
       "        _RFHYPE6  GENHLTH  CVDSTRK3  _FRTLT1A  _RFDRHV7   _BMI5  INCOME3  \\\n",
       "0            1.0      5.0       2.0       1.0       1.0  1454.0      5.0   \n",
       "1            2.0      3.0       2.0       1.0       1.0     NaN     77.0   \n",
       "2            2.0      2.0       2.0       1.0       1.0  2829.0      3.0   \n",
       "3            2.0      2.0       2.0       1.0       1.0  3347.0      7.0   \n",
       "4            1.0      5.0       1.0       1.0       1.0  2873.0      4.0   \n",
       "...          ...      ...       ...       ...       ...     ...      ...   \n",
       "438688       2.0      2.0       2.0       1.0       1.0  2469.0      5.0   \n",
       "438689       2.0      3.0       2.0       1.0       1.0     NaN      1.0   \n",
       "438690       1.0      2.0       2.0       1.0       1.0  3068.0     10.0   \n",
       "438691       2.0      2.0       2.0       1.0       1.0  2373.0      6.0   \n",
       "438692       1.0      1.0       2.0       2.0       1.0  3171.0      6.0   \n",
       "\n",
       "        PHYSHLTH  SMOKE100  EDUCA  ...  _CHOLCH3  _MICHD  MENTHLTH  MEDCOST1  \\\n",
       "0           20.0       1.0    4.0  ...       1.0     2.0      10.0       2.0   \n",
       "1           88.0       2.0    6.0  ...       1.0     1.0      88.0       2.0   \n",
       "2           88.0       2.0    4.0  ...       1.0     1.0      88.0       2.0   \n",
       "3           88.0       2.0    4.0  ...       1.0     2.0      10.0       2.0   \n",
       "4           30.0       2.0    3.0  ...       1.0     1.0      88.0       2.0   \n",
       "...          ...       ...    ...  ...       ...     ...       ...       ...   \n",
       "438688      88.0       1.0    4.0  ...       1.0     2.0      20.0       1.0   \n",
       "438689      88.0       2.0    4.0  ...       1.0     2.0      88.0       2.0   \n",
       "438690      88.0       2.0    6.0  ...       1.0     2.0      88.0       2.0   \n",
       "438691      88.0       2.0    4.0  ...       1.0     2.0      88.0       2.0   \n",
       "438692       2.0       2.0    6.0  ...       1.0     2.0       2.0       2.0   \n",
       "\n",
       "        _HLTHPLN  _AGEG5YR  DIABETE4  SEXVAR  _TOTINDA  DIFFWALK  \n",
       "0            1.0      11.0       3.0     2.0       2.0       2.0  \n",
       "1            1.0      10.0       1.0     2.0       1.0       1.0  \n",
       "2            1.0      11.0       1.0     2.0       2.0       2.0  \n",
       "3            1.0       9.0       1.0     2.0       1.0       2.0  \n",
       "4            1.0      12.0       1.0     1.0       1.0       1.0  \n",
       "...          ...       ...       ...     ...       ...       ...  \n",
       "438688       2.0       3.0       2.0     2.0       1.0       2.0  \n",
       "438689       9.0      13.0       1.0     1.0       2.0       2.0  \n",
       "438690       1.0       7.0       3.0     1.0       1.0       2.0  \n",
       "438691       1.0      10.0       3.0     1.0       1.0       2.0  \n",
       "438692       1.0       6.0       3.0     2.0       1.0       2.0  \n",
       "\n",
       "[438693 rows x 22 columns]"
      ]
     },
     "execution_count": 51,
     "metadata": {},
     "output_type": "execute_result"
    }
   ],
   "source": [
    "import pandas as pd\n",
    "\n",
    "df = pd.read_csv('filtered_indicators/2021.csv')\n",
    "pd.set_option('mode.chained_assignment', None)\n",
    "df"
   ]
  },
  {
   "cell_type": "code",
   "execution_count": 52,
   "metadata": {},
   "outputs": [
    {
     "name": "stdout",
     "output_type": "stream",
     "text": [
      "(330355, 22) Percentage Droped:   24.695629973580612\n"
     ]
    }
   ],
   "source": [
    "#Drop Missing Values - knocks 100,000 rows out right away\n",
    "original_row_count = df.shape[0]\n",
    "df = df.dropna()\n",
    "droped_row_count = df.shape[0]\n",
    "print(df.shape, \"Percentage Droped:  \", ((original_row_count -  droped_row_count)/original_row_count) * 100)\n"
   ]
  },
  {
   "cell_type": "code",
   "execution_count": 53,
   "metadata": {},
   "outputs": [],
   "source": [
    "def percentDropped(df_input):\n",
    "    p =100*( (droped_row_count - df.shape[0]) / droped_row_count)\n",
    "    return round(p,2)"
   ]
  },
  {
   "cell_type": "code",
   "execution_count": 54,
   "metadata": {},
   "outputs": [
    {
     "name": "stdout",
     "output_type": "stream",
     "text": [
      "[0. 1.]\n"
     ]
    }
   ],
   "source": [
    "# _MICHD\n",
    "#Change 2 to 0 because this means did not have MI or CHD\n",
    "df['_MICHD'] = df['_MICHD'].replace({2: 0})\n",
    "print(df._MICHD.unique())\n"
   ]
  },
  {
   "cell_type": "code",
   "execution_count": 55,
   "metadata": {},
   "outputs": [
    {
     "name": "stdout",
     "output_type": "stream",
     "text": [
      "[0. 1.]\n",
      "(329518, 22)     Dropped percent:  0.25     Droped rows:    837\n"
     ]
    }
   ],
   "source": [
    "#1 _RFHYPE5\n",
    "#Change 1 to 0 so it represetnts No high blood pressure and 2 to 1 so it represents high blood pressure\n",
    "df['_RFHYPE6'] = df['_RFHYPE6'].replace({1:0, 2:1})\n",
    "df = df[df._RFHYPE6 != 9]\n",
    "print(df._RFHYPE6.unique())\n",
    "print(df.shape, \"    Dropped percent: \" , percentDropped(df), \"    Droped rows:   \", droped_row_count - df.shape[0])\n"
   ]
  },
  {
   "cell_type": "code",
   "execution_count": 56,
   "metadata": {},
   "outputs": [
    {
     "name": "stdout",
     "output_type": "stream",
     "text": [
      "[1. 0.]\n",
      "(327218, 22)     Dropped percent:  0.95     Droped rows:    3137\n"
     ]
    }
   ],
   "source": [
    "#2 TOLDHI2\n",
    "# Change 2 to 0 because it is No\n",
    "# Remove all 7 (dont knows)\n",
    "# Remove all 9 (refused)\n",
    "df['TOLDHI3'] = df['TOLDHI3'].replace({2:0})\n",
    "df = df[df.TOLDHI3 != 7]\n",
    "df = df[df.TOLDHI3 != 9]\n",
    "print(df.TOLDHI3.unique())\n",
    "print(df.shape, \"    Dropped percent: \" , percentDropped(df), \"    Droped rows:   \", droped_row_count - df.shape[0])\n"
   ]
  },
  {
   "cell_type": "code",
   "execution_count": 57,
   "metadata": {},
   "outputs": [
    {
     "name": "stdout",
     "output_type": "stream",
     "text": [
      "[1. 0.]\n",
      "(326955, 22)     Dropped percent:  1.03     Droped rows:    3400\n"
     ]
    }
   ],
   "source": [
    "#3 _CHOLCHK\n",
    "# Change 3 to 0 and 2 to 0 for Not checked cholesterol in past 5 years\n",
    "# Remove 9\n",
    "df['_CHOLCH3'] = df['_CHOLCH3'].replace({3:0,2:0})\n",
    "df = df[df._CHOLCH3 != 9]\n",
    "print(df._CHOLCH3.unique())\n",
    "print(df.shape, \"    Dropped percent: \" , percentDropped(df), \"    Droped rows:   \", droped_row_count - df.shape[0])\n"
   ]
  },
  {
   "cell_type": "code",
   "execution_count": 58,
   "metadata": {},
   "outputs": [
    {
     "data": {
      "text/plain": [
       "array([15., 28., 33., 29., 24., 46., 23., 40., 27., 35., 18., 30., 25.,\n",
       "       36., 22., 31., 45., 26., 14., 38., 21., 32., 20., 19., 34., 41.,\n",
       "       43., 44., 39., 37., 16., 42., 50., 51., 17., 52., 47., 49., 56.,\n",
       "       57., 48., 58., 61., 53., 63., 64., 54., 68., 55., 62., 13., 59.,\n",
       "       89., 66., 77., 60., 87., 69., 72., 75., 67., 71., 65., 82., 86.,\n",
       "       70., 78., 12., 74., 98., 73., 84., 76., 80., 83., 79., 99., 88.,\n",
       "       81., 90., 92., 91., 95., 85., 94.])"
      ]
     },
     "execution_count": 58,
     "metadata": {},
     "output_type": "execute_result"
    }
   ],
   "source": [
    "#4 _BMI5 (no changes, just note that these are BMI * 100. So for example a BMI of 4018 is really 40.18)\n",
    "df['_BMI5'] = df['_BMI5'].div(100).round(0)\n",
    "df._BMI5.unique()"
   ]
  },
  {
   "cell_type": "code",
   "execution_count": 59,
   "metadata": {},
   "outputs": [
    {
     "name": "stdout",
     "output_type": "stream",
     "text": [
      "[1. 0.]\n",
      "(325124, 22)     Dropped percent:  1.58     Droped rows:    5231\n"
     ]
    }
   ],
   "source": [
    "#5 SMOKE100\n",
    "# Change 2 to 0 because it is No\n",
    "# Remove all 7 (dont knows)\n",
    "# Remove all 9 (refused)\n",
    "df['SMOKE100'] = df['SMOKE100'].replace({2:0})\n",
    "df = df[df.SMOKE100 != 7]\n",
    "df = df[df.SMOKE100 != 9]\n",
    "print(df.SMOKE100.unique())\n",
    "print(df.shape, \"    Dropped percent: \" , percentDropped(df), \"    Droped rows:   \", droped_row_count - df.shape[0])\n"
   ]
  },
  {
   "cell_type": "code",
   "execution_count": 60,
   "metadata": {},
   "outputs": [
    {
     "name": "stdout",
     "output_type": "stream",
     "text": [
      "[0. 1.]\n",
      "(324441, 22)     Dropped percent:  1.79     Droped rows:    5914\n"
     ]
    }
   ],
   "source": [
    "#6 CVDSTRK3\n",
    "# Change 2 to 0 because it is No\n",
    "# Remove all 7 (dont knows)\n",
    "# Remove all 9 (refused)\n",
    "df['CVDSTRK3'] = df['CVDSTRK3'].replace({2:0})\n",
    "df = df[df.CVDSTRK3 != 7]\n",
    "df = df[df.CVDSTRK3 != 9]\n",
    "print(df.CVDSTRK3.unique())\n",
    "print(df.shape, \"    Dropped percent: \" , percentDropped(df), \"    Droped rows:   \", droped_row_count - df.shape[0])\n"
   ]
  },
  {
   "cell_type": "code",
   "execution_count": 61,
   "metadata": {},
   "outputs": [
    {
     "name": "stdout",
     "output_type": "stream",
     "text": [
      "[0. 2. 1.]\n",
      "(324135, 22)     Dropped percent:  1.88     Droped rows:    6220\n"
     ]
    }
   ],
   "source": [
    "#7 DIABETE3\n",
    "# going to make this ordinal. 0 is for no diabetes or only during pregnancy, 1 is for pre-diabetes or borderline diabetes, 2 is for yes diabetes\n",
    "# Remove all 7 (dont knows)\n",
    "# Remove all 9 (refused)\n",
    "df['DIABETE4'] = df['DIABETE4'].replace({2:0, 3:0, 1:2, 4:1})\n",
    "df = df[df.DIABETE4 != 7]\n",
    "df = df[df.DIABETE4 != 9]\n",
    "print(df.DIABETE4.unique())\n",
    "print(df.shape, \"    Dropped percent: \" , percentDropped(df), \"    Droped rows:   \", droped_row_count - df.shape[0])\n"
   ]
  },
  {
   "cell_type": "code",
   "execution_count": 62,
   "metadata": {},
   "outputs": [
    {
     "name": "stdout",
     "output_type": "stream",
     "text": [
      "[0. 1.]\n",
      "(323679, 22)     Dropped percent:  2.02     Droped rows:    6676\n"
     ]
    }
   ],
   "source": [
    "#8 _TOTINDA\n",
    "# 1 for physical activity\n",
    "# change 2 to 0 for no physical activity\n",
    "# Remove all 9 (don't know/refused)\n",
    "df['_TOTINDA'] = df['_TOTINDA'].replace({2:0})\n",
    "df = df[df._TOTINDA != 9]\n",
    "print(df._TOTINDA.unique())\n",
    "print(df.shape, \"    Dropped percent: \" , percentDropped(df), \"    Droped rows:   \", droped_row_count - df.shape[0])\n"
   ]
  },
  {
   "cell_type": "code",
   "execution_count": 63,
   "metadata": {},
   "outputs": [
    {
     "name": "stdout",
     "output_type": "stream",
     "text": [
      "[1. 0.]\n",
      "(304738, 22)     Dropped percent:  7.75     Droped rows:    25617\n"
     ]
    }
   ],
   "source": [
    "#9 _FRTLT1\n",
    "# Change 2 to 0. this means no fruit consumed per day. 1 will mean consumed 1 or more pieces of fruit per day \n",
    "# remove all dont knows and missing 9\n",
    "df['_FRTLT1A'] = df['_FRTLT1A'].replace({2:0})\n",
    "df = df[df._FRTLT1A != 9]\n",
    "print(df._FRTLT1A.unique())\n",
    "print(df.shape, \"    Dropped percent: \" , percentDropped(df), \"    Droped rows:   \", droped_row_count - df.shape[0])\n"
   ]
  },
  {
   "cell_type": "code",
   "execution_count": 64,
   "metadata": {},
   "outputs": [
    {
     "name": "stdout",
     "output_type": "stream",
     "text": [
      "[1. 0.]\n",
      "(293204, 23)     Dropped percent:  11.25     Droped rows:    37151\n"
     ]
    }
   ],
   "source": [
    "#10 _VEGLT1\n",
    "# Change 2 to 0. this means no vegetables consumed per day. 1 will mean consumed 1 or more pieces of vegetable per day \n",
    "# remove all dont knows and missing 9\n",
    "df['_VEGLT1'] = df['_VEGLT1A'].replace({2:0})\n",
    "df = df[df._VEGLT1 != 9]\n",
    "print(df._VEGLT1.unique())\n",
    "print(df.shape, \"    Dropped percent: \" , percentDropped(df), \"    Droped rows:   \", droped_row_count - df.shape[0])\n"
   ]
  },
  {
   "cell_type": "code",
   "execution_count": 65,
   "metadata": {},
   "outputs": [
    {
     "name": "stdout",
     "output_type": "stream",
     "text": [
      "[0. 1.]\n",
      "(289517, 23)     Dropped percent:  12.36     Droped rows:    40838\n"
     ]
    }
   ],
   "source": [
    "#11 _RFDRHV5\n",
    "# Change 1 to 0 (1 was no for heavy drinking). change all 2 to 1 (2 was yes for heavy drinking)\n",
    "# remove all dont knows and missing 9\n",
    "df['_RFDRHV7'] = df['_RFDRHV7'].replace({1:0, 2:1})\n",
    "df = df[df._RFDRHV7 != 9]\n",
    "print(df._RFDRHV7.unique())\n",
    "print(df.shape, \"    Dropped percent: \" , percentDropped(df), \"    Droped rows:   \", droped_row_count - df.shape[0])\n"
   ]
  },
  {
   "cell_type": "code",
   "execution_count": 66,
   "metadata": {},
   "outputs": [
    {
     "data": {
      "text/plain": [
       "Index(['_RFHYPE6', 'GENHLTH', 'CVDSTRK3', '_FRTLT1A', '_RFDRHV7', '_BMI5',\n",
       "       'INCOME3', 'PHYSHLTH', 'SMOKE100', 'EDUCA', 'TOLDHI3', '_VEGLT1A',\n",
       "       '_CHOLCH3', '_MICHD', 'MENTHLTH', 'MEDCOST1', '_HLTHPLN', '_AGEG5YR',\n",
       "       'DIABETE4', 'SEXVAR', '_TOTINDA', 'DIFFWALK', '_VEGLT1'],\n",
       "      dtype='object')"
      ]
     },
     "execution_count": 66,
     "metadata": {},
     "output_type": "execute_result"
    }
   ],
   "source": [
    "df.columns"
   ]
  },
  {
   "cell_type": "code",
   "execution_count": 67,
   "metadata": {},
   "outputs": [
    {
     "name": "stdout",
     "output_type": "stream",
     "text": [
      "[1. 0.]\n",
      "(282896, 23)     Dropped percent:  14.37     Droped rows:    47459\n"
     ]
    }
   ],
   "source": [
    "#12 HLTHPLN1\n",
    "# 1 is yes, change 2 to 0 because it is No health care access\n",
    "# remove 7 and 9 for don't know or refused\n",
    "df['_HLTHPLN'] = df['_HLTHPLN'].replace({2:0})\n",
    "df = df[df._HLTHPLN != 7]\n",
    "df = df[df._HLTHPLN != 9]\n",
    "print(df._HLTHPLN.unique())\n",
    "print(df.shape, \"    Dropped percent: \" , percentDropped(df), \"    Droped rows:   \", droped_row_count - df.shape[0])\n"
   ]
  },
  {
   "cell_type": "code",
   "execution_count": 68,
   "metadata": {},
   "outputs": [
    {
     "name": "stdout",
     "output_type": "stream",
     "text": [
      "[0. 1.]\n",
      "(282472, 23)     Dropped percent:  14.49     Droped rows:    47883\n"
     ]
    }
   ],
   "source": [
    "#13 MEDCOST\n",
    "# Change 2 to 0 for no, 1 is already yes\n",
    "# remove 7 for don/t know and 9 for refused\n",
    "df['MEDCOST1'] = df['MEDCOST1'].replace({2:0})\n",
    "df = df[df.MEDCOST1 != 7]\n",
    "df = df[df.MEDCOST1 != 9]\n",
    "print(df.MEDCOST1.unique())\n",
    "print(df.shape, \"    Dropped percent: \" , percentDropped(df), \"    Droped rows:   \", droped_row_count - df.shape[0])\n"
   ]
  },
  {
   "cell_type": "code",
   "execution_count": 69,
   "metadata": {},
   "outputs": [
    {
     "name": "stdout",
     "output_type": "stream",
     "text": [
      "[5. 2. 3. 4. 1.]\n",
      "(282115, 23)     Dropped percent:  14.6     Droped rows:    48240\n"
     ]
    }
   ],
   "source": [
    "#14 GENHLTH\n",
    "# This is an ordinal variable that I want to keep (1 is Excellent -> 5 is Poor)\n",
    "# Remove 7 and 9 for don't know and refused\n",
    "df = df[df.GENHLTH != 7]\n",
    "df = df[df.GENHLTH != 9]\n",
    "print(df.GENHLTH.unique())\n",
    "print(df.shape, \"    Dropped percent: \" , percentDropped(df), \"    Droped rows:   \", droped_row_count - df.shape[0])\n"
   ]
  },
  {
   "cell_type": "code",
   "execution_count": 70,
   "metadata": {},
   "outputs": [
    {
     "name": "stdout",
     "output_type": "stream",
     "text": [
      "[10.  0.  5. 25.  2.  7. 30.  3. 14. 20.  8.  1. 15.  4. 28. 24. 21. 12.\n",
      "  6. 22. 27. 18. 13. 17. 16.  9. 19. 29. 23. 11. 26.]\n",
      "(279200, 23)     Dropped percent:  15.48     Droped rows:    51155\n"
     ]
    }
   ],
   "source": [
    "#15 MENTHLTH\n",
    "# already in days so keep that, scale will be 0-30\n",
    "# change 88 to 0 because it means none (no bad mental health days)\n",
    "# remove 77 and 99 for don't know not sure and refused\n",
    "df['MENTHLTH'] = df['MENTHLTH'].replace({88:0})\n",
    "df = df[df.MENTHLTH != 77]\n",
    "df = df[df.MENTHLTH != 99]\n",
    "print(df.MENTHLTH.unique())\n",
    "print(df.shape, \"    Dropped percent: \" , percentDropped(df), \"    Droped rows:   \", droped_row_count - df.shape[0])\n"
   ]
  },
  {
   "cell_type": "code",
   "execution_count": 71,
   "metadata": {},
   "outputs": [
    {
     "name": "stdout",
     "output_type": "stream",
     "text": [
      "[20.  0. 30. 25.  1.  4. 10.  2.  3. 15.  8. 13. 14.  5.  7.  6. 24. 29.\n",
      " 18.  9. 16. 17. 26. 28. 12. 21. 27. 11. 19. 22. 23.]\n",
      "(275853, 23)     Dropped percent:  16.5     Droped rows:    54502\n"
     ]
    }
   ],
   "source": [
    "#16 PHYSHLTH\n",
    "# already in days so keep that, scale will be 0-30\n",
    "# change 88 to 0 because it means none (no bad mental health days)\n",
    "# remove 77 and 99 for don't know not sure and refused\n",
    "df['PHYSHLTH'] = df['PHYSHLTH'].replace({88:0})\n",
    "df = df[df.PHYSHLTH != 77]\n",
    "df = df[df.PHYSHLTH != 99]\n",
    "print(df.PHYSHLTH.unique())\n",
    "print(df.shape, \"    Dropped percent: \" , percentDropped(df), \"    Droped rows:   \", droped_row_count - df.shape[0])\n"
   ]
  },
  {
   "cell_type": "code",
   "execution_count": 72,
   "metadata": {},
   "outputs": [
    {
     "name": "stdout",
     "output_type": "stream",
     "text": [
      "[0. 1.]\n",
      "(275290, 23)     Dropped percent:  16.67     Droped rows:    55065\n"
     ]
    }
   ],
   "source": [
    "#17 DIFFWALK\n",
    "# change 2 to 0 for no. 1 is already yes\n",
    "# remove 7 and 9 for don't know not sure and refused\n",
    "df['DIFFWALK'] = df['DIFFWALK'].replace({2:0})\n",
    "df = df[df.DIFFWALK != 7]\n",
    "df = df[df.DIFFWALK != 9]\n",
    "print(df.DIFFWALK.unique())\n",
    "print(df.shape, \"    Dropped percent: \" , percentDropped(df), \"    Droped rows:   \", droped_row_count - df.shape[0])\n"
   ]
  },
  {
   "cell_type": "code",
   "execution_count": 73,
   "metadata": {},
   "outputs": [
    {
     "data": {
      "text/plain": [
       "Index(['_RFHYPE6', 'GENHLTH', 'CVDSTRK3', '_FRTLT1A', '_RFDRHV7', '_BMI5',\n",
       "       'INCOME3', 'PHYSHLTH', 'SMOKE100', 'EDUCA', 'TOLDHI3', '_VEGLT1A',\n",
       "       '_CHOLCH3', '_MICHD', 'MENTHLTH', 'MEDCOST1', '_HLTHPLN', '_AGEG5YR',\n",
       "       'DIABETE4', 'SEXVAR', '_TOTINDA', 'DIFFWALK', '_VEGLT1'],\n",
       "      dtype='object')"
      ]
     },
     "execution_count": 73,
     "metadata": {},
     "output_type": "execute_result"
    }
   ],
   "source": [
    "df.columns"
   ]
  },
  {
   "cell_type": "code",
   "execution_count": 74,
   "metadata": {},
   "outputs": [
    {
     "name": "stdout",
     "output_type": "stream",
     "text": [
      "[0. 1.]\n",
      "(275290, 23)     Dropped percent:  16.67     Droped rows:    55065\n"
     ]
    }
   ],
   "source": [
    "#18 SEX\n",
    "# in other words - is respondent male (somewhat arbitrarily chose this change because men are at higher risk for heart disease)\n",
    "# change 2 to 0 (female as 0). Male is 1\n",
    "df['SEXVAR'] = df['SEXVAR'].replace({2:0})\n",
    "df = df[df.SEXVAR != 9]\n",
    "print(df.SEXVAR.unique())\n",
    "print(df.shape, \"    Dropped percent: \" , percentDropped(df), \"    Droped rows:   \", droped_row_count - df.shape[0])\n"
   ]
  },
  {
   "cell_type": "code",
   "execution_count": 75,
   "metadata": {},
   "outputs": [
    {
     "name": "stdout",
     "output_type": "stream",
     "text": [
      "[11.  9. 12. 13. 10.  7.  6.  8.  4.  3.  5.  2.  1.]\n",
      "(272775, 23)     Dropped percent:  17.43     Droped rows:    57580\n"
     ]
    }
   ],
   "source": [
    "#19 _AGEG5YR\n",
    "# already ordinal. 1 is 18-24 all the way up to 13 wis 80 and older. 5 year increments.\n",
    "# remove 14 because it is don't know or missing\n",
    "df = df[df._AGEG5YR != 14]\n",
    "print(df._AGEG5YR.unique())\n",
    "print(df.shape, \"    Dropped percent: \" , percentDropped(df), \"    Droped rows:   \", droped_row_count - df.shape[0])\n"
   ]
  },
  {
   "cell_type": "code",
   "execution_count": 76,
   "metadata": {},
   "outputs": [
    {
     "name": "stdout",
     "output_type": "stream",
     "text": [
      "[4. 3. 5. 6. 2. 1.]\n",
      "(272471, 23)     Dropped percent:  17.52     Droped rows:    57884\n"
     ]
    }
   ],
   "source": [
    "#20 EDUCA\n",
    "# This is already an ordinal variable with 1 being never attended school or kindergarten only up to 6 being college 4 years or more\n",
    "# Scale here is 1-6\n",
    "# Remove 9 for refused:\n",
    "df = df[df.EDUCA != 9]\n",
    "print(df.EDUCA.unique())\n",
    "print(df.shape, \"    Dropped percent: \" , percentDropped(df), \"    Droped rows:   \", droped_row_count - df.shape[0])\n"
   ]
  },
  {
   "cell_type": "code",
   "execution_count": 77,
   "metadata": {},
   "outputs": [
    {
     "data": {
      "text/plain": [
       "Index(['_RFHYPE6', 'GENHLTH', 'CVDSTRK3', '_FRTLT1A', '_RFDRHV7', '_BMI5',\n",
       "       'INCOME3', 'PHYSHLTH', 'SMOKE100', 'EDUCA', 'TOLDHI3', '_VEGLT1A',\n",
       "       '_CHOLCH3', '_MICHD', 'MENTHLTH', 'MEDCOST1', '_HLTHPLN', '_AGEG5YR',\n",
       "       'DIABETE4', 'SEXVAR', '_TOTINDA', 'DIFFWALK', '_VEGLT1'],\n",
       "      dtype='object')"
      ]
     },
     "execution_count": 77,
     "metadata": {},
     "output_type": "execute_result"
    }
   ],
   "source": [
    "df.columns"
   ]
  },
  {
   "cell_type": "code",
   "execution_count": 78,
   "metadata": {},
   "outputs": [
    {
     "name": "stdout",
     "output_type": "stream",
     "text": [
      "[5. 3. 7. 4. 6. 2. 1.]\n",
      "(236378, 23)     Dropped percent:  28.45     Droped rows:    93977\n"
     ]
    }
   ],
   "source": [
    "#21 INCOME2\n",
    "# Variable is already ordinal with 1 being less than $10,000 all the way up to 8 being $75,000 or more\n",
    "# Remove 77 and 99 for don't know and refused\n",
    "df = df[df.INCOME3 != 77]\n",
    "df = df[df.INCOME3 != 99]\n",
    "df.loc[df['INCOME3'] > 7, 'INCOME3'] = 7\n",
    "print(df.INCOME3.unique())\n",
    "print(df.shape, \"    Dropped percent: \" , percentDropped(df), \"    Droped rows:   \", droped_row_count - df.shape[0])\n"
   ]
  },
  {
   "cell_type": "code",
   "execution_count": 79,
   "metadata": {},
   "outputs": [
    {
     "name": "stdout",
     "output_type": "stream",
     "text": [
      "(236378, 23) Percent Dropped From Start:  46.12  Original Row Count:  438693\n"
     ]
    }
   ],
   "source": [
    "print(df.shape,  \"Percent Dropped From Start: \", round(((original_row_count - df.shape[0]) / original_row_count) * 100, 2), \" Original Row Count: \", original_row_count)"
   ]
  },
  {
   "cell_type": "code",
   "execution_count": 80,
   "metadata": {},
   "outputs": [
    {
     "name": "stdout",
     "output_type": "stream",
     "text": [
      "_MICHD\n",
      "0.0    215920\n",
      "1.0     20458\n",
      "dtype: int64\n",
      "Percent Yes (1.0):  8.65\n"
     ]
    }
   ],
   "source": [
    "#Check Class Sizes of the heart disease column  Note the class imbalance!\n",
    "print(df.groupby(['_MICHD']).size())\n",
    "grp =df.groupby(['_MICHD'])\n",
    "percent_yes = 100*(grp.size()[1.0] / grp.size().sum())\n",
    "print(\"Percent Yes (1.0): \",  round(percent_yes, 2))"
   ]
  },
  {
   "cell_type": "code",
   "execution_count": 81,
   "metadata": {},
   "outputs": [
    {
     "name": "stdout",
     "output_type": "stream",
     "text": [
      "['_MICHD', 'TOLDHI2', 'TOLDHI3', '_FRTLT1', '_FRTLT1A', '_RFHYPE6', '_RFHYPE5', '_VEGLT1A', '_VEGLT1', '_CHOLCHK', '_CHOLCH1', '_CHOLCH2', '_CHOLCH3', 'SEX', 'SEX1', 'SEXVAR', '_RFDRHV5', '_RFDRHV6', '_RFDRHV7', '_RFDRHV8', 'DIABETE3', 'DIABETE4', 'HLTHPLN1', '_HLTHPLN', 'INCOME2', 'INCOME3', 'MEDCOST', 'MEDCOST1', '_BMI5', 'SMOKE100', 'CVDSTRK3', '_TOTINDA', 'GENHLTH', 'MENTHLTH', 'PHYSHLTH', 'DIFFWALK', '_AGEG5YR', 'EDUCA']\n"
     ]
    },
    {
     "data": {
      "text/html": [
       "<div>\n",
       "<style scoped>\n",
       "    .dataframe tbody tr th:only-of-type {\n",
       "        vertical-align: middle;\n",
       "    }\n",
       "\n",
       "    .dataframe tbody tr th {\n",
       "        vertical-align: top;\n",
       "    }\n",
       "\n",
       "    .dataframe thead th {\n",
       "        text-align: right;\n",
       "    }\n",
       "</style>\n",
       "<table border=\"1\" class=\"dataframe\">\n",
       "  <thead>\n",
       "    <tr style=\"text-align: right;\">\n",
       "      <th></th>\n",
       "      <th>HighBP</th>\n",
       "      <th>GenHlth</th>\n",
       "      <th>Stroke</th>\n",
       "      <th>Fruits</th>\n",
       "      <th>HvyAlcoholConsump</th>\n",
       "      <th>BMI</th>\n",
       "      <th>Income</th>\n",
       "      <th>PhysHlth</th>\n",
       "      <th>Smoker</th>\n",
       "      <th>Education</th>\n",
       "      <th>...</th>\n",
       "      <th>HeartDiseaseorAttack</th>\n",
       "      <th>MentHlth</th>\n",
       "      <th>NoDocbcCost</th>\n",
       "      <th>AnyHealthcare</th>\n",
       "      <th>Age</th>\n",
       "      <th>Diabetes</th>\n",
       "      <th>Sex</th>\n",
       "      <th>PhysActivity</th>\n",
       "      <th>DiffWalk</th>\n",
       "      <th>Veggies</th>\n",
       "    </tr>\n",
       "  </thead>\n",
       "  <tbody>\n",
       "    <tr>\n",
       "      <th>0</th>\n",
       "      <td>0.0</td>\n",
       "      <td>5.0</td>\n",
       "      <td>0.0</td>\n",
       "      <td>1.0</td>\n",
       "      <td>0.0</td>\n",
       "      <td>15.0</td>\n",
       "      <td>5.0</td>\n",
       "      <td>20.0</td>\n",
       "      <td>1.0</td>\n",
       "      <td>4.0</td>\n",
       "      <td>...</td>\n",
       "      <td>0.0</td>\n",
       "      <td>10.0</td>\n",
       "      <td>0.0</td>\n",
       "      <td>1.0</td>\n",
       "      <td>11.0</td>\n",
       "      <td>0.0</td>\n",
       "      <td>0.0</td>\n",
       "      <td>0.0</td>\n",
       "      <td>0.0</td>\n",
       "      <td>1.0</td>\n",
       "    </tr>\n",
       "    <tr>\n",
       "      <th>2</th>\n",
       "      <td>1.0</td>\n",
       "      <td>2.0</td>\n",
       "      <td>0.0</td>\n",
       "      <td>1.0</td>\n",
       "      <td>0.0</td>\n",
       "      <td>28.0</td>\n",
       "      <td>3.0</td>\n",
       "      <td>0.0</td>\n",
       "      <td>0.0</td>\n",
       "      <td>4.0</td>\n",
       "      <td>...</td>\n",
       "      <td>1.0</td>\n",
       "      <td>0.0</td>\n",
       "      <td>0.0</td>\n",
       "      <td>1.0</td>\n",
       "      <td>11.0</td>\n",
       "      <td>2.0</td>\n",
       "      <td>0.0</td>\n",
       "      <td>0.0</td>\n",
       "      <td>0.0</td>\n",
       "      <td>0.0</td>\n",
       "    </tr>\n",
       "    <tr>\n",
       "      <th>3</th>\n",
       "      <td>1.0</td>\n",
       "      <td>2.0</td>\n",
       "      <td>0.0</td>\n",
       "      <td>1.0</td>\n",
       "      <td>0.0</td>\n",
       "      <td>33.0</td>\n",
       "      <td>7.0</td>\n",
       "      <td>0.0</td>\n",
       "      <td>0.0</td>\n",
       "      <td>4.0</td>\n",
       "      <td>...</td>\n",
       "      <td>0.0</td>\n",
       "      <td>10.0</td>\n",
       "      <td>0.0</td>\n",
       "      <td>1.0</td>\n",
       "      <td>9.0</td>\n",
       "      <td>2.0</td>\n",
       "      <td>0.0</td>\n",
       "      <td>1.0</td>\n",
       "      <td>0.0</td>\n",
       "      <td>1.0</td>\n",
       "    </tr>\n",
       "    <tr>\n",
       "      <th>4</th>\n",
       "      <td>0.0</td>\n",
       "      <td>5.0</td>\n",
       "      <td>1.0</td>\n",
       "      <td>1.0</td>\n",
       "      <td>0.0</td>\n",
       "      <td>29.0</td>\n",
       "      <td>4.0</td>\n",
       "      <td>30.0</td>\n",
       "      <td>0.0</td>\n",
       "      <td>3.0</td>\n",
       "      <td>...</td>\n",
       "      <td>1.0</td>\n",
       "      <td>0.0</td>\n",
       "      <td>0.0</td>\n",
       "      <td>1.0</td>\n",
       "      <td>12.0</td>\n",
       "      <td>2.0</td>\n",
       "      <td>1.0</td>\n",
       "      <td>1.0</td>\n",
       "      <td>1.0</td>\n",
       "      <td>1.0</td>\n",
       "    </tr>\n",
       "    <tr>\n",
       "      <th>5</th>\n",
       "      <td>0.0</td>\n",
       "      <td>3.0</td>\n",
       "      <td>0.0</td>\n",
       "      <td>0.0</td>\n",
       "      <td>0.0</td>\n",
       "      <td>24.0</td>\n",
       "      <td>6.0</td>\n",
       "      <td>0.0</td>\n",
       "      <td>1.0</td>\n",
       "      <td>5.0</td>\n",
       "      <td>...</td>\n",
       "      <td>0.0</td>\n",
       "      <td>0.0</td>\n",
       "      <td>0.0</td>\n",
       "      <td>1.0</td>\n",
       "      <td>13.0</td>\n",
       "      <td>0.0</td>\n",
       "      <td>1.0</td>\n",
       "      <td>0.0</td>\n",
       "      <td>1.0</td>\n",
       "      <td>0.0</td>\n",
       "    </tr>\n",
       "    <tr>\n",
       "      <th>...</th>\n",
       "      <td>...</td>\n",
       "      <td>...</td>\n",
       "      <td>...</td>\n",
       "      <td>...</td>\n",
       "      <td>...</td>\n",
       "      <td>...</td>\n",
       "      <td>...</td>\n",
       "      <td>...</td>\n",
       "      <td>...</td>\n",
       "      <td>...</td>\n",
       "      <td>...</td>\n",
       "      <td>...</td>\n",
       "      <td>...</td>\n",
       "      <td>...</td>\n",
       "      <td>...</td>\n",
       "      <td>...</td>\n",
       "      <td>...</td>\n",
       "      <td>...</td>\n",
       "      <td>...</td>\n",
       "      <td>...</td>\n",
       "      <td>...</td>\n",
       "    </tr>\n",
       "    <tr>\n",
       "      <th>438687</th>\n",
       "      <td>1.0</td>\n",
       "      <td>4.0</td>\n",
       "      <td>0.0</td>\n",
       "      <td>1.0</td>\n",
       "      <td>0.0</td>\n",
       "      <td>21.0</td>\n",
       "      <td>3.0</td>\n",
       "      <td>0.0</td>\n",
       "      <td>0.0</td>\n",
       "      <td>2.0</td>\n",
       "      <td>...</td>\n",
       "      <td>0.0</td>\n",
       "      <td>0.0</td>\n",
       "      <td>0.0</td>\n",
       "      <td>1.0</td>\n",
       "      <td>10.0</td>\n",
       "      <td>2.0</td>\n",
       "      <td>1.0</td>\n",
       "      <td>1.0</td>\n",
       "      <td>0.0</td>\n",
       "      <td>1.0</td>\n",
       "    </tr>\n",
       "    <tr>\n",
       "      <th>438688</th>\n",
       "      <td>1.0</td>\n",
       "      <td>2.0</td>\n",
       "      <td>0.0</td>\n",
       "      <td>1.0</td>\n",
       "      <td>0.0</td>\n",
       "      <td>25.0</td>\n",
       "      <td>5.0</td>\n",
       "      <td>0.0</td>\n",
       "      <td>1.0</td>\n",
       "      <td>4.0</td>\n",
       "      <td>...</td>\n",
       "      <td>0.0</td>\n",
       "      <td>20.0</td>\n",
       "      <td>1.0</td>\n",
       "      <td>0.0</td>\n",
       "      <td>3.0</td>\n",
       "      <td>0.0</td>\n",
       "      <td>0.0</td>\n",
       "      <td>1.0</td>\n",
       "      <td>0.0</td>\n",
       "      <td>1.0</td>\n",
       "    </tr>\n",
       "    <tr>\n",
       "      <th>438690</th>\n",
       "      <td>0.0</td>\n",
       "      <td>2.0</td>\n",
       "      <td>0.0</td>\n",
       "      <td>1.0</td>\n",
       "      <td>0.0</td>\n",
       "      <td>31.0</td>\n",
       "      <td>7.0</td>\n",
       "      <td>0.0</td>\n",
       "      <td>0.0</td>\n",
       "      <td>6.0</td>\n",
       "      <td>...</td>\n",
       "      <td>0.0</td>\n",
       "      <td>0.0</td>\n",
       "      <td>0.0</td>\n",
       "      <td>1.0</td>\n",
       "      <td>7.0</td>\n",
       "      <td>0.0</td>\n",
       "      <td>1.0</td>\n",
       "      <td>1.0</td>\n",
       "      <td>0.0</td>\n",
       "      <td>1.0</td>\n",
       "    </tr>\n",
       "    <tr>\n",
       "      <th>438691</th>\n",
       "      <td>1.0</td>\n",
       "      <td>2.0</td>\n",
       "      <td>0.0</td>\n",
       "      <td>1.0</td>\n",
       "      <td>0.0</td>\n",
       "      <td>24.0</td>\n",
       "      <td>6.0</td>\n",
       "      <td>0.0</td>\n",
       "      <td>0.0</td>\n",
       "      <td>4.0</td>\n",
       "      <td>...</td>\n",
       "      <td>0.0</td>\n",
       "      <td>0.0</td>\n",
       "      <td>0.0</td>\n",
       "      <td>1.0</td>\n",
       "      <td>10.0</td>\n",
       "      <td>0.0</td>\n",
       "      <td>1.0</td>\n",
       "      <td>1.0</td>\n",
       "      <td>0.0</td>\n",
       "      <td>1.0</td>\n",
       "    </tr>\n",
       "    <tr>\n",
       "      <th>438692</th>\n",
       "      <td>0.0</td>\n",
       "      <td>1.0</td>\n",
       "      <td>0.0</td>\n",
       "      <td>0.0</td>\n",
       "      <td>0.0</td>\n",
       "      <td>32.0</td>\n",
       "      <td>6.0</td>\n",
       "      <td>2.0</td>\n",
       "      <td>0.0</td>\n",
       "      <td>6.0</td>\n",
       "      <td>...</td>\n",
       "      <td>0.0</td>\n",
       "      <td>2.0</td>\n",
       "      <td>0.0</td>\n",
       "      <td>1.0</td>\n",
       "      <td>6.0</td>\n",
       "      <td>0.0</td>\n",
       "      <td>0.0</td>\n",
       "      <td>1.0</td>\n",
       "      <td>0.0</td>\n",
       "      <td>0.0</td>\n",
       "    </tr>\n",
       "  </tbody>\n",
       "</table>\n",
       "<p>236378 rows × 23 columns</p>\n",
       "</div>"
      ],
      "text/plain": [
       "        HighBP  GenHlth  Stroke  Fruits  HvyAlcoholConsump   BMI  Income  \\\n",
       "0          0.0      5.0     0.0     1.0                0.0  15.0     5.0   \n",
       "2          1.0      2.0     0.0     1.0                0.0  28.0     3.0   \n",
       "3          1.0      2.0     0.0     1.0                0.0  33.0     7.0   \n",
       "4          0.0      5.0     1.0     1.0                0.0  29.0     4.0   \n",
       "5          0.0      3.0     0.0     0.0                0.0  24.0     6.0   \n",
       "...        ...      ...     ...     ...                ...   ...     ...   \n",
       "438687     1.0      4.0     0.0     1.0                0.0  21.0     3.0   \n",
       "438688     1.0      2.0     0.0     1.0                0.0  25.0     5.0   \n",
       "438690     0.0      2.0     0.0     1.0                0.0  31.0     7.0   \n",
       "438691     1.0      2.0     0.0     1.0                0.0  24.0     6.0   \n",
       "438692     0.0      1.0     0.0     0.0                0.0  32.0     6.0   \n",
       "\n",
       "        PhysHlth  Smoker  Education  ...  HeartDiseaseorAttack  MentHlth  \\\n",
       "0           20.0     1.0        4.0  ...                   0.0      10.0   \n",
       "2            0.0     0.0        4.0  ...                   1.0       0.0   \n",
       "3            0.0     0.0        4.0  ...                   0.0      10.0   \n",
       "4           30.0     0.0        3.0  ...                   1.0       0.0   \n",
       "5            0.0     1.0        5.0  ...                   0.0       0.0   \n",
       "...          ...     ...        ...  ...                   ...       ...   \n",
       "438687       0.0     0.0        2.0  ...                   0.0       0.0   \n",
       "438688       0.0     1.0        4.0  ...                   0.0      20.0   \n",
       "438690       0.0     0.0        6.0  ...                   0.0       0.0   \n",
       "438691       0.0     0.0        4.0  ...                   0.0       0.0   \n",
       "438692       2.0     0.0        6.0  ...                   0.0       2.0   \n",
       "\n",
       "        NoDocbcCost  AnyHealthcare   Age  Diabetes  Sex  PhysActivity  \\\n",
       "0               0.0            1.0  11.0       0.0  0.0           0.0   \n",
       "2               0.0            1.0  11.0       2.0  0.0           0.0   \n",
       "3               0.0            1.0   9.0       2.0  0.0           1.0   \n",
       "4               0.0            1.0  12.0       2.0  1.0           1.0   \n",
       "5               0.0            1.0  13.0       0.0  1.0           0.0   \n",
       "...             ...            ...   ...       ...  ...           ...   \n",
       "438687          0.0            1.0  10.0       2.0  1.0           1.0   \n",
       "438688          1.0            0.0   3.0       0.0  0.0           1.0   \n",
       "438690          0.0            1.0   7.0       0.0  1.0           1.0   \n",
       "438691          0.0            1.0  10.0       0.0  1.0           1.0   \n",
       "438692          0.0            1.0   6.0       0.0  0.0           1.0   \n",
       "\n",
       "        DiffWalk  Veggies  \n",
       "0            0.0      1.0  \n",
       "2            0.0      0.0  \n",
       "3            0.0      1.0  \n",
       "4            1.0      1.0  \n",
       "5            1.0      0.0  \n",
       "...          ...      ...  \n",
       "438687       0.0      1.0  \n",
       "438688       0.0      1.0  \n",
       "438690       0.0      1.0  \n",
       "438691       0.0      1.0  \n",
       "438692       0.0      0.0  \n",
       "\n",
       "[236378 rows x 23 columns]"
      ]
     },
     "execution_count": 81,
     "metadata": {},
     "output_type": "execute_result"
    }
   ],
   "source": [
    "column_name_mapping = {\n",
    "\n",
    "    'HeartDiseaseorAttack':['_MICHD'],\n",
    "    'HighChol': ['TOLDHI2', 'TOLDHI3'],\n",
    "    'Fruits': ['_FRTLT1', '_FRTLT1A'],\n",
    "    'HighBP': ['_RFHYPE6', '_RFHYPE5'],\n",
    "    \"Veggies\": ['_VEGLT1A', '_VEGLT1' ],\n",
    "    'CholCheck': ['_CHOLCHK', '_CHOLCH1', '_CHOLCH2', '_CHOLCH3' ],\n",
    "    'Sex':['SEX', 'SEX1', 'SEXVAR'],\n",
    "    'HvyAlcoholConsump': ['_RFDRHV5','_RFDRHV6', '_RFDRHV7', '_RFDRHV8'],\n",
    "    'Diabetes': ['DIABETE3', 'DIABETE4'],\n",
    "    'AnyHealthcare': ['HLTHPLN1', '_HLTHPLN'],\n",
    "    'Income': ['INCOME2', 'INCOME3' ],\n",
    "    'NoDocbcCost': ['MEDCOST', 'MEDCOST1' ],\n",
    "    'BMI': ['_BMI5'],\n",
    "    'Smoker': ['SMOKE100'],\n",
    "    'Stroke': ['CVDSTRK3'],\n",
    "    'PhysActivity': ['_TOTINDA' ],\n",
    "    'GenHlth': ['GENHLTH'],\n",
    "    'MentHlth': ['MENTHLTH'],\n",
    "    'PhysHlth': ['PHYSHLTH'],\n",
    "    'DiffWalk': ['DIFFWALK'],\n",
    "    'Age':['_AGEG5YR'],\n",
    "    'Education': ['EDUCA']}\n",
    "\n",
    "all_column_names = []\n",
    "for vals in column_name_mapping.values():\n",
    "    all_column_names += vals\n",
    "print(all_column_names)\n",
    "\n",
    "col_to_name_mapping = {}\n",
    "\n",
    "for key, values in column_name_mapping.items():\n",
    "    if isinstance(values, list):\n",
    "        for value in values:\n",
    "            col_to_name_mapping[value] = key\n",
    "    elif isinstance(values, str):\n",
    "        col_to_name_mapping[values] = key\n",
    "\n",
    "subset_columns = list(set(df.columns) & set(col_to_name_mapping.keys()))\n",
    "filtered_mapping = {col: col_to_name_mapping[col] for col in subset_columns}\n",
    "df.rename(columns=filtered_mapping, inplace=True)\n",
    "df\n"
   ]
  },
  {
   "cell_type": "code",
   "execution_count": 83,
   "metadata": {},
   "outputs": [],
   "source": [
    "df.to_csv('indicators_clean/clean_indicators_2021.csv')"
   ]
  }
 ],
 "metadata": {
  "kernelspec": {
   "display_name": "base",
   "language": "python",
   "name": "python3"
  },
  "language_info": {
   "codemirror_mode": {
    "name": "ipython",
    "version": 3
   },
   "file_extension": ".py",
   "mimetype": "text/x-python",
   "name": "python",
   "nbconvert_exporter": "python",
   "pygments_lexer": "ipython3",
   "version": "3.11.5"
  }
 },
 "nbformat": 4,
 "nbformat_minor": 2
}
