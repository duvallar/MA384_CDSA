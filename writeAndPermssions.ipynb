{
 "cells": [
  {
   "cell_type": "markdown",
   "id": "18ba2bff-06c6-457d-bb00-ac90c6db6d7d",
   "metadata": {},
   "source": [
    "# Write CSV Data to Gauss and Change Permissions"
   ]
  },
  {
   "cell_type": "code",
   "execution_count": 3,
   "id": "79c99d11-2c32-4b04-a5ab-caba97e5a2ee",
   "metadata": {},
   "outputs": [
    {
     "name": "stdout",
     "output_type": "stream",
     "text": [
      "File 'Behavioral_Risk_Factor_Surveillance_System__BRFSS__-__National_Cardiovascular_Disease_Surveillance_Data_20240112.csv' written to '/work/shibberu/share/MA384_Data_Mining_Projects_Winter_2023-24/CDSA/Behavioral_Risk_Factor_Surveillance_System__BRFSS__-__National_Cardiovascular_Disease_Surveillance_Data_20240112.csv'\n",
      "File 'heart.csv' written to '/work/shibberu/share/MA384_Data_Mining_Projects_Winter_2023-24/CDSA/heart.csv'\n",
      "File 'CVD_cleaned.csv' written to '/work/shibberu/share/MA384_Data_Mining_Projects_Winter_2023-24/CDSA/CVD_cleaned.csv'\n",
      "File 'heart_disease_health_indicators_BRFSS2015.csv' written to '/work/shibberu/share/MA384_Data_Mining_Projects_Winter_2023-24/CDSA/heart_disease_health_indicators_BRFSS2015.csv'\n",
      "File 'Rates_and_Trends_in_Hypertension-related_Cardiovascular_Disease_Mortality_Among_US_Adults__35___by_County__Age_Group__Race_Ethnicity__and_Sex___2000-2019_20240112.csv' written to '/work/shibberu/share/MA384_Data_Mining_Projects_Winter_2023-24/CDSA/Rates_and_Trends_in_Hypertension-related_Cardiovascular_Disease_Mortality_Among_US_Adults__35___by_County__Age_Group__Race_Ethnicity__and_Sex___2000-2019_20240112.csv'\n"
     ]
    }
   ],
   "source": [
    "from pathlib import Path\n",
    "import pandas as pd\n",
    "\n",
    "def write_csv_files_to_location(directory_path, output_location):\n",
    "    input_path = Path(directory_path)\n",
    "    output_path = Path(output_location)\n",
    "\n",
    "    for file_path in input_path.rglob(\"*.csv\"):\n",
    "        relative_path = file_path.relative_to(input_path)\n",
    "        output_file_path = output_path / relative_path\n",
    "        df = pd.read_csv(file_path)\n",
    "        output_file_path.parent.mkdir(parents=True, exist_ok=True)\n",
    "        df.to_csv(output_file_path, index=False)\n",
    "        print(f\"File '{file_path.name}' written to '{output_file_path}'\", '\\n')\n",
    "\n",
    "input_directory = \"Data\" \n",
    "output_directory = \"/work/shibberu/share/MA384_Data_Mining_Projects_Winter_2023-24/CDSA\"\n",
    "write_csv_files_to_location(input_directory, output_directory)\n"
   ]
  },
  {
   "cell_type": "code",
   "execution_count": 4,
   "id": "612ab3ea-7df3-40e0-880f-bd666c6eb071",
   "metadata": {},
   "outputs": [
    {
     "name": "stdout",
     "output_type": "stream",
     "text": [
      "Permissions for directory '/work/shibberu/share/MA384_Data_Mining_Projects_Winter_2023-24/CDSA' changed to 0o777\n"
     ]
    }
   ],
   "source": [
    "import os\n",
    "\n",
    "def change_directory_permissions(directory_path):\n",
    "    try:\n",
    "        # Set permissions to read, write, and execute for everyone\n",
    "        permissions = 0o777\n",
    "        \n",
    "        os.chmod(directory_path, permissions)\n",
    "        print(f\"Permissions for directory '{directory_path}' changed to {oct(permissions)}\")\n",
    "    except Exception as e:\n",
    "        print(f\"Error: {e}\")\n",
    "\n",
    "# Example usage:\n",
    "directory_path = \"/work/shibberu/share/MA384_Data_Mining_Projects_Winter_2023-24/CDSA\"\n",
    "change_directory_permissions(directory_path)"
   ]
  }
 ],
 "metadata": {
  "kernelspec": {
   "display_name": "dm_duvallar",
   "language": "python",
   "name": "dm_duvallar"
  },
  "language_info": {
   "codemirror_mode": {
    "name": "ipython",
    "version": 3
   },
   "file_extension": ".py",
   "mimetype": "text/x-python",
   "name": "python",
   "nbconvert_exporter": "python",
   "pygments_lexer": "ipython3",
   "version": "3.11.3"
  }
 },
 "nbformat": 4,
 "nbformat_minor": 5
}
