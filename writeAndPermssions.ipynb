{
 "cells": [
  {
   "cell_type": "markdown",
   "id": "18ba2bff-06c6-457d-bb00-ac90c6db6d7d",
   "metadata": {},
   "source": [
    "# Write CSV Data to Gauss and Change Permissions"
   ]
  },
  {
   "cell_type": "code",
   "execution_count": 11,
   "id": "79c99d11-2c32-4b04-a5ab-caba97e5a2ee",
   "metadata": {},
   "outputs": [],
   "source": [
    "from pathlib import Path\n",
    "import pandas as pd\n",
    "\n",
    "def write_csv_files_to_location(directory_path, output_location):\n",
    "    input_path = Path(directory_path)\n",
    "    output_path = Path(output_location)\n",
    "    print(input_path, output_path)\n",
    "    \n",
    "    for file_path in input_path.rglob(\"*.csv\"):\n",
    "        print(\"File path:\", file_path)\n",
    "        \n",
    "        relative_path = file_path.relative_to(input_path)\n",
    "        output_file_path = output_path / relative_path\n",
    "        df = pd.read_csv(file_path)\n",
    "        output_file_path.parent.mkdir(parents=True, exist_ok=True)\n",
    "        df.to_csv(output_file_path, index=False)\n",
    "        print(f\"File '{file_path.name}' written to '{output_file_path}'\", '\\n')\n",
    "\n",
    "\n"
   ]
  },
  {
   "cell_type": "code",
   "execution_count": 2,
   "id": "ef5674dc-71ff-4ebc-8fd5-5c7b15513ba5",
   "metadata": {},
   "outputs": [
    {
     "name": "stdout",
     "output_type": "stream",
     "text": [
      "Data /work/shibberu/share/MA384_Data_Mining_Projects_Winter_2023-24/CDSA\n",
      "Done\n"
     ]
    }
   ],
   "source": [
    "input_directory = \"Data\" \n",
    "output_directory = \"/work/shibberu/share/MA384_Data_Mining_Projects_Winter_2023-24/CDSA\"\n",
    "write_csv_files_to_location(input_directory, output_directory)\n",
    "print(\"Done\")"
   ]
  },
  {
   "cell_type": "code",
   "execution_count": 3,
   "id": "612ab3ea-7df3-40e0-880f-bd666c6eb071",
   "metadata": {},
   "outputs": [
    {
     "name": "stdout",
     "output_type": "stream",
     "text": [
      "Permissions for directory '/work/shibberu/share/MA384_Data_Mining_Projects_Winter_2023-24/CDSA' changed to 0o777\n"
     ]
    }
   ],
   "source": [
    "import os\n",
    "\n",
    "def change_directory_permissions(directory_path):\n",
    "    try:\n",
    "        # Set permissions to read, write, and execute for everyone\n",
    "        permissions = 0o777\n",
    "        \n",
    "        os.chmod(directory_path, permissions)\n",
    "        print(f\"Permissions for directory '{directory_path}' changed to {oct(permissions)}\")\n",
    "    except Exception as e:\n",
    "        print(f\"Error: {e}\")\n",
    "\n",
    "# Example usage:\n",
    "directory_path = \"/work/shibberu/share/MA384_Data_Mining_Projects_Winter_2023-24/CDSA\"\n",
    "change_directory_permissions(directory_path)"
   ]
  },
  {
   "cell_type": "code",
   "execution_count": 15,
   "id": "c2c25c4d-6ba8-45bc-b489-8f40ed1a5eb6",
   "metadata": {},
   "outputs": [
    {
     "name": "stdout",
     "output_type": "stream",
     "text": [
      "../Data/clean_indicators /work/shibberu/share/MA384_Data_Mining_Projects_Winter_2023-24/CDSA/clean_indicators\n",
      "File path: ../Data/clean_indicators/clean_indicators_2018.csv\n",
      "File 'clean_indicators_2018.csv' written to '/work/shibberu/share/MA384_Data_Mining_Projects_Winter_2023-24/CDSA/clean_indicators/clean_indicators_2018.csv' \n",
      "\n",
      "File path: ../Data/clean_indicators/clean_indicators_2019.csv\n",
      "File 'clean_indicators_2019.csv' written to '/work/shibberu/share/MA384_Data_Mining_Projects_Winter_2023-24/CDSA/clean_indicators/clean_indicators_2019.csv' \n",
      "\n",
      "File path: ../Data/clean_indicators/clean_indicators_2015.csv\n",
      "File 'clean_indicators_2015.csv' written to '/work/shibberu/share/MA384_Data_Mining_Projects_Winter_2023-24/CDSA/clean_indicators/clean_indicators_2015.csv' \n",
      "\n",
      "File path: ../Data/clean_indicators/clean_indicators_2017.csv\n",
      "File 'clean_indicators_2017.csv' written to '/work/shibberu/share/MA384_Data_Mining_Projects_Winter_2023-24/CDSA/clean_indicators/clean_indicators_2017.csv' \n",
      "\n",
      "File path: ../Data/clean_indicators/clean_indicators_ALL_2015_2022.csv\n",
      "File 'clean_indicators_ALL_2015_2022.csv' written to '/work/shibberu/share/MA384_Data_Mining_Projects_Winter_2023-24/CDSA/clean_indicators/clean_indicators_ALL_2015_2022.csv' \n",
      "\n",
      "File path: ../Data/clean_indicators/clean_indicators_2021.csv\n",
      "File 'clean_indicators_2021.csv' written to '/work/shibberu/share/MA384_Data_Mining_Projects_Winter_2023-24/CDSA/clean_indicators/clean_indicators_2021.csv' \n",
      "\n",
      "File path: ../Data/clean_indicators/clean_indicators_2020.csv\n",
      "File 'clean_indicators_2020.csv' written to '/work/shibberu/share/MA384_Data_Mining_Projects_Winter_2023-24/CDSA/clean_indicators/clean_indicators_2020.csv' \n",
      "\n",
      "File path: ../Data/clean_indicators/clean_indicators_2016.csv\n",
      "File 'clean_indicators_2016.csv' written to '/work/shibberu/share/MA384_Data_Mining_Projects_Winter_2023-24/CDSA/clean_indicators/clean_indicators_2016.csv' \n",
      "\n",
      "File path: ../Data/clean_indicators/clean_indicators_2022.csv\n",
      "File 'clean_indicators_2022.csv' written to '/work/shibberu/share/MA384_Data_Mining_Projects_Winter_2023-24/CDSA/clean_indicators/clean_indicators_2022.csv' \n",
      "\n",
      "File path: ../Data/clean_indicators/.ipynb_checkpoints/clean_indicators_2015-checkpoint.csv\n",
      "File 'clean_indicators_2015-checkpoint.csv' written to '/work/shibberu/share/MA384_Data_Mining_Projects_Winter_2023-24/CDSA/clean_indicators/.ipynb_checkpoints/clean_indicators_2015-checkpoint.csv' \n",
      "\n",
      "File path: ../Data/clean_indicators/.ipynb_checkpoints/clean_indicators_2020-checkpoint.csv\n",
      "File 'clean_indicators_2020-checkpoint.csv' written to '/work/shibberu/share/MA384_Data_Mining_Projects_Winter_2023-24/CDSA/clean_indicators/.ipynb_checkpoints/clean_indicators_2020-checkpoint.csv' \n",
      "\n",
      "File path: ../Data/clean_indicators/.ipynb_checkpoints/clean_indicators_2016-checkpoint.csv\n",
      "File 'clean_indicators_2016-checkpoint.csv' written to '/work/shibberu/share/MA384_Data_Mining_Projects_Winter_2023-24/CDSA/clean_indicators/.ipynb_checkpoints/clean_indicators_2016-checkpoint.csv' \n",
      "\n",
      "File path: ../Data/clean_indicators/.ipynb_checkpoints/clean_indicators_ALL_2015_2022-checkpoint.csv\n",
      "File 'clean_indicators_ALL_2015_2022-checkpoint.csv' written to '/work/shibberu/share/MA384_Data_Mining_Projects_Winter_2023-24/CDSA/clean_indicators/.ipynb_checkpoints/clean_indicators_ALL_2015_2022-checkpoint.csv' \n",
      "\n",
      "Done\n"
     ]
    }
   ],
   "source": [
    "input_directory = '../Data/clean_indicators/'\n",
    "output_directory = '/work/shibberu/share/MA384_Data_Mining_Projects_Winter_2023-24/CDSA/clean_indicators'\n",
    "\n",
    "write_csv_files_to_location(input_directory, output_directory)\n",
    "print(\"Done\")"
   ]
  }
 ],
 "metadata": {
  "kernelspec": {
   "display_name": "dm_duvallar",
   "language": "python",
   "name": "dm_duvallar"
  },
  "language_info": {
   "codemirror_mode": {
    "name": "ipython",
    "version": 3
   },
   "file_extension": ".py",
   "mimetype": "text/x-python",
   "name": "python",
   "nbconvert_exporter": "python",
   "pygments_lexer": "ipython3",
   "version": "3.11.3"
  }
 },
 "nbformat": 4,
 "nbformat_minor": 5
}
